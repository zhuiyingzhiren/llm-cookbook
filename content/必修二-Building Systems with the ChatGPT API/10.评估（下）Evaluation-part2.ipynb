{
 "cells": [
  {
   "attachments": {},
   "cell_type": "markdown",
   "metadata": {},
   "source": [
    "# 第十章 评估（下）——当不存在一个简单的正确答案时\n",
    "\n",
    " - [一、环境配置](#一、环境配置)\n",
    " - [二、运行问答系统获得一个复杂回答](#二、运行问答系统获得一个复杂回答)\n",
    " - [三、使用 GPT 评估回答是否正确](#三、使用-GPT-评估回答是否正确)\n",
    " - [四、给出一个标准回答，要求其评估生成回答与标准回答的差距](#四、给出一个标准回答，要求其评估生成回答与标准回答的差距)\n"
   ]
  },
  {
   "attachments": {},
   "cell_type": "markdown",
   "metadata": {},
   "source": [
    "在上一章中，了解了如何评估 LLM 模型在 **有明确正确答案** 的情况下的输出，我们可以编写一个函数来判断 LLM 输出是否正确地分类并列出产品。\n",
    "\n",
    "然而，如果 LLM 用于生成文本，而不仅仅是分类问题的答案呢？接下来，我们将探讨如何评估这种类型<span style=\"color:#00ff00\">（没有标准答案）</span>的 LLM 输出的方法。"
   ]
  },
  {
   "attachments": {},
   "cell_type": "markdown",
   "metadata": {},
   "source": [
    "## 一、环境配置"
   ]
  },
  {
   "cell_type": "markdown",
   "metadata": {},
   "source": [
    "同上一章，我们首先需要配置使用 OpenAI API 的环境"
   ]
  },
  {
   "cell_type": "code",
   "execution_count": 1,
   "metadata": {},
   "outputs": [],
   "source": [
    "import os\n",
    "import utils_chap8_ch\n",
    "\n",
    "from openai import OpenAI\n",
    "from dotenv import load_dotenv, find_dotenv\n",
    "_ = load_dotenv(find_dotenv()) \n",
    "\n",
    "openai_api_key = os.getenv(\"OPENAI_API_KEY\")"
   ]
  },
  {
   "cell_type": "code",
   "execution_count": 2,
   "metadata": {},
   "outputs": [],
   "source": [
    "client = OpenAI(api_key=openai_api_key)\n",
    "\n",
    "def get_completion_from_messages(messages, \n",
    "                                 model =\"gpt-4o-mini\", \n",
    "                                 temperature=0, \n",
    "                                 max_tokens=1000):\n",
    "    '''\n",
    "    封装一个支持更多参数的自定义访问 gpt-4o-mini的函数\n",
    "\n",
    "    参数: \n",
    "    messages: 这是一个消息列表，每个消息都是一个字典，包含 role(角色）和 content(内容)。角色可以是'system'、'user' 或 'assistant’，内容是角色的消息。\n",
    "    model: 调用的模型，默认为gpt-4o-mini(ChatGPT)\n",
    "    temperature: 这决定模型输出的随机程度，默认为0，表示输出将非常确定。增加温度会使输出更随机。\n",
    "    max_tokens: 这决定模型输出的最大的 token 数。\n",
    "    '''\n",
    "    response = client.chat.completions.create(\n",
    "        model= model,\n",
    "        messages=messages,\n",
    "        temperature=temperature, # 这决定模型输出的随机程度\n",
    "        max_tokens=max_tokens, # 这决定模型输出的最大的 token 数\n",
    "    )\n",
    "    return response.choices[0].message.content"
   ]
  },
  {
   "attachments": {},
   "cell_type": "markdown",
   "metadata": {},
   "source": [
    "## 二、运行问答系统获得一个复杂回答"
   ]
  },
  {
   "cell_type": "code",
   "execution_count": 26,
   "metadata": {},
   "outputs": [],
   "source": [
    "def answer_user_msg(user_msg, product_info):\n",
    "    delimiter = \"####\"\n",
    "    system_message = f\"\"\"\n",
    "    您是一家大型电子商店的客户服务助理。\\\n",
    "    请用友好和乐于助人的口吻回答问题，提供简洁明了的答案。\\\n",
    "    确保向用户提出相关的后续问题。\n",
    "    \"\"\"\n",
    "    messages =  [  \n",
    "    {'role':'system', 'content': system_message},   \n",
    "    {'role':'user', 'content': f\"{delimiter}{user_msg}{delimiter}\"},  \n",
    "    {'role':'assistant', 'content': f\"相关产品信息:\\n{product_info}\"},   \n",
    "    ] \n",
    "    response = get_completion_from_messages(messages)\n",
    "    return response"
   ]
  },
  {
   "cell_type": "code",
   "execution_count": 27,
   "metadata": {},
   "outputs": [],
   "source": [
    "# 用户消息\n",
    "customer_msg = f\"\"\"\n",
    "告诉我有关 smartx pro phone 和 fotosnap camera, the dslr one 的信息。\n",
    "另外，你们这有什么电视？\"\"\"\n",
    "\n",
    "# 从问题中抽取商品名\n",
    "products_by_category = utils_chap8_ch.find_category_and_product(customer_msg, utils_chap8_ch.get_products_and_category())\n",
    "# 将商品名转化为列表\n",
    "category_and_product_list = utils_chap8_ch.read_string_to_list(products_by_category)\n",
    "# 查找商品对应的信息\n",
    "product_info = utils_chap8_ch.generate_output_string(category_and_product_list)\n",
    "# 由信息生成回答\n",
    "assistant_answer = answer_user_msg(user_msg=customer_msg, product_info=product_info)"
   ]
  },
  {
   "cell_type": "code",
   "execution_count": 28,
   "metadata": {},
   "outputs": [
    {
     "name": "stdout",
     "output_type": "stream",
     "text": [
      "关于您提到的产品：\n",
      "\n",
      "**SmartX ProPhone**\n",
      "- **特点**：6.1英寸显示屏，128GB存储，12MP双摄像头，支持5G。\n",
      "- **评分**：4.6\n",
      "- **价格**：899.99元\n",
      "- **描述**：一款拥有先进摄像功能的强大智能手机。\n",
      "\n",
      "**FotoSnap DSLR Camera**\n",
      "- **特点**：24.2MP传感器，1080p视频，3英寸LCD，支持可更换镜头。\n",
      "- **评分**：4.7\n",
      "- **价格**：599.99元\n",
      "- **描述**：使用这款多功能的单反相机，捕捉惊艳的照片和视频。\n",
      "\n",
      "关于电视，我们有几款不错的选择：\n",
      "\n",
      "1. **CineView 4K TV**\n",
      "   - **尺寸**：55英寸\n",
      "   - **分辨率**：4K\n",
      "   - **价格**：599.99元\n",
      "   - **描述**：色彩鲜艳、智能功能丰富的4K电视。\n",
      "\n",
      "2. **CineView 8K TV**\n",
      "   - **尺寸**：65英寸\n",
      "   - **分辨率**：8K\n",
      "   - **价格**：2999.99元\n",
      "   - **描述**：通过这款惊艳的8K电视，体验未来。\n",
      "\n",
      "3. **CineView OLED TV**\n",
      "   - **尺寸**：55英寸\n",
      "   - **分辨率**：4K\n",
      "   - **价格**：1499.99元\n",
      "   - **描述**：体验真正的五彩斑斓。\n",
      "\n",
      "您对哪款电视或手机感兴趣呢？或者您还有其他问题吗？\n"
     ]
    }
   ],
   "source": [
    "print(assistant_answer) "
   ]
  },
  {
   "attachments": {},
   "cell_type": "markdown",
   "metadata": {},
   "source": [
    "## 三、使用 GPT 评估回答是否正确"
   ]
  },
  {
   "attachments": {},
   "cell_type": "markdown",
   "metadata": {},
   "source": [
    "我们希望您能从中学到一个设计模式，即当您可以指定一个评估 LLM 输出的标准列表时，您实际上可以<span style=\"color:red\">使用另一个 API 调用</span>来评估您的第一个 LLM 输出。"
   ]
  },
  {
   "cell_type": "code",
   "execution_count": 29,
   "metadata": {},
   "outputs": [],
   "source": [
    "# 问题、上下文\n",
    "cust_prod_info = {\n",
    "    'customer_msg': customer_msg,\n",
    "    'context': product_info\n",
    "}"
   ]
  },
  {
   "cell_type": "code",
   "execution_count": 30,
   "metadata": {},
   "outputs": [],
   "source": [
    "def eval_with_rubric(test_set, assistant_answer):\n",
    "    \"\"\"\n",
    "    使用 GPT API 评估生成的回答\n",
    "\n",
    "    参数：\n",
    "    test_set: 测试集\n",
    "    assistant_answer: 助手的回复\n",
    "    \"\"\"\n",
    "    \n",
    "    cust_msg = test_set['customer_msg']\n",
    "    context = test_set['context']\n",
    "    completion = assistant_answer\n",
    "    \n",
    "    # 人设\n",
    "    system_message = \"\"\"\\\n",
    "    你是一位助理，通过查看客户服务代理使用的上下文来评估客户服务代理回答用户问题的情况。\n",
    "    \"\"\"\n",
    "\n",
    "    # 具体指令\n",
    "    user_message = f\"\"\"\\\n",
    "    你正在根据代理使用的上下文评估对问题的提交答案。以下是数据：\n",
    "    [开始]\n",
    "    ************\n",
    "    [用户问题]: {cust_msg}\n",
    "    ************\n",
    "    [使用的上下文]: {context}\n",
    "    ************\n",
    "    [客户代理的回答]: {completion}\n",
    "    ************\n",
    "    [结束]\n",
    "\n",
    "    请将客户代理的回答的事实内容与上下文进行比较，忽略样式、语法或标点符号上的差异。\n",
    "\n",
    "    请回答以下问题：\n",
    "    助手的回应是否只基于所提供的上下文？（是或否）\n",
    "    回答中是否包含上下文中未提供的信息？（是或否）\n",
    "    回答与上下文之间是否存在任何不一致之处？（是或否）\n",
    "    计算用户提出了多少个问题。（输出一个数字）\n",
    "    对于用户提出的每个问题，是否有相应的回答？请按照以下格式进行输出，需要输出具体的用户问题：\n",
    "    <用户提出的问题1>：（是或否）\n",
    "    <用户提出的问题2>：（是或否）\n",
    "    ...\n",
    "    <用户提出的问题N>：（是或否）\n",
    "    在提出的问题数量中，有多少个问题在回答中得到了回应？（输出一个数字）\n",
    "\"\"\"\n",
    "\n",
    "    messages = [\n",
    "        {'role': 'system', 'content': system_message},\n",
    "        {'role': 'user', 'content': user_message}\n",
    "    ]\n",
    "\n",
    "    response = get_completion_from_messages(messages)\n",
    "    return response"
   ]
  },
  {
   "cell_type": "code",
   "execution_count": 31,
   "metadata": {},
   "outputs": [
    {
     "name": "stdout",
     "output_type": "stream",
     "text": [
      "助手的回应是否只基于所提供的上下文？（是）\n",
      "回答中是否包含上下文中未提供的信息？（否）\n",
      "回答与上下文之间是否存在任何不一致之处？（否）\n",
      "计算用户提出了多少个问题。（2）\n",
      "对于用户提出的每个问题，是否有相应的回答？请按照以下格式进行输出：\n",
      "告诉我有关 smartx pro phone 和 fotosnap camera, the dslr one 的信息：（是）\n",
      "另外，你们这有什么电视？：（是）\n",
      "在提出的问题数量中，有多少个问题在回答中得到了回应？（2）\n"
     ]
    }
   ],
   "source": [
    "evaluation_output = eval_with_rubric(cust_prod_info, assistant_answer)\n",
    "print(evaluation_output)"
   ]
  },
  {
   "attachments": {},
   "cell_type": "markdown",
   "metadata": {},
   "source": [
    "## 四、给出一个标准回答，要求其评估生成回答与标准回答的差距"
   ]
  },
  {
   "attachments": {},
   "cell_type": "markdown",
   "metadata": {},
   "source": [
    "在经典的自然语言处理技术中，有一些传统的度量标准用于衡量 LLM 输出与人类专家编写的输出的相似度。例如，BLUE 分数可用于衡量两段文本的相似程度。\n",
    "\n",
    "实际上有一种更好的方法，即使用 Prompt。您可以指定 Prompt，<span style=\"color:red\">使用 Prompt</span> 来比较由 LLM 自动生成的客户服务代理响应与人工理想响应的匹配程度。"
   ]
  },
  {
   "cell_type": "code",
   "execution_count": 32,
   "metadata": {},
   "outputs": [],
   "source": [
    "test_set_ideal = {\n",
    "    'customer_msg': \n",
    "    \"\"\"\n",
    "    告诉我有关 smartx pro phone 和 fotosnap camera, the dslr one 的信息。\\n\n",
    "    另外，你们这有什么电视？\n",
    "    \"\"\",\n",
    "    'ideal_answer':\n",
    "    \"\"\"\n",
    "    SmartX ProPhone是一款功能强大的智能手机，具有6.1英寸的显示屏，128GB的存储空间，12MP双摄像头和5G网络。它的价格为899.99美元，保修期为1年。\n",
    "    FotoSnap DSLR相机是一款功能强大的相机，具有24.2MP传感器，1080p视频，3英寸LCD屏幕和可更换镜头。它的价格为599.99美元，保修期为1年。\n",
    "    我们有多种电视可供选择，包括CineView 4K电视，CineView 8K电视和CineView OLED电视。CineView 4K电视具有55英寸的显示屏，4K分辨率，HDR和智能电视功能，价格为599.99美元，保修期为2年。CineView 8K电视具有65英寸的显示屏，8K分辨率，HDR和智能电视功能，价格为2999.99美元，保修期为2年。CineView OLED电视具有55英寸的显示屏，4K分辨率，HDR和智能电视功能，价格为1499.99美元，保修期为2年。\n",
    "    \"\"\"\n",
    "}"
   ]
  },
  {
   "cell_type": "code",
   "execution_count": 33,
   "metadata": {},
   "outputs": [],
   "source": [
    "def eval_vs_ideal(test_set, assistant_answer):\n",
    "    \"\"\"\n",
    "    评估回复是否与理想答案匹配\n",
    "\n",
    "    参数：\n",
    "    test_set: 测试集\n",
    "    assistant_answer: 助手的回复\n",
    "    \"\"\"\n",
    "    cust_msg = test_set['customer_msg']\n",
    "    ideal = test_set['ideal_answer']\n",
    "    completion = assistant_answer\n",
    "    \n",
    "    system_message = \"\"\"\\\n",
    "    您是一位助理，通过将客户服务代理的回答与理想（专家）回答进行比较，评估客户服务代理对用户问题的回答质量。\n",
    "    请输出一个单独的字母（A 、B、C、D、E），不要包含其他内容。 \n",
    "    \"\"\"\n",
    "\n",
    "    user_message = f\"\"\"\\\n",
    "    您正在比较一个给定问题的提交答案和专家答案。数据如下:\n",
    "    [开始]\n",
    "    ************\n",
    "    [问题]: {cust_msg}\n",
    "    ************\n",
    "    [专家答案]: {ideal}\n",
    "    ************\n",
    "    [提交答案]: {completion}\n",
    "    ************\n",
    "    [结束]\n",
    "\n",
    "    比较提交答案的事实内容与专家答案。忽略样式、语法或标点符号上的差异。\n",
    "    提交的答案可能是专家答案的子集、超集，或者与之冲突。确定适用的情况，并通过选择以下选项之一回答问题：\n",
    "    （A）提交的答案是专家答案的子集，并且与之完全一致。\n",
    "    （B）提交的答案是专家答案的超集，并且与之完全一致。\n",
    "    （C）提交的答案包含与专家答案完全相同的细节。\n",
    "    （D）提交的答案与专家答案存在分歧。\n",
    "    （E）答案存在差异，但从事实的角度来看这些差异并不重要。\n",
    "    选项：ABCDE\n",
    "\"\"\"\n",
    "\n",
    "    messages = [\n",
    "        {'role': 'system', 'content': system_message},\n",
    "        {'role': 'user', 'content': user_message}\n",
    "    ]\n",
    "\n",
    "    response = get_completion_from_messages(messages)\n",
    "    return response"
   ]
  },
  {
   "attachments": {},
   "cell_type": "markdown",
   "metadata": {},
   "source": [
    "这个评分标准来自于 <span style=\"color:red\">OpenAI 开源评估框架</span>，这是一个非常棒的框架，其中包含了许多评估方法，既有 OpenAI 开发人员的贡献，也有更广泛的开源社区的贡献。\n",
    "\n",
    "在这个评分标准中，我们要求 LLM 针对提交答案与专家答案进行信息内容的比较，并忽略其风格、语法和标点符号等方面的差异，但关键是我们要求它进行比较，并输出从A到E的分数，具体取决于提交的答案是否是专家答案的子集、超集或完全一致，这可能意味着它虚构或编造了一些额外的事实。\n",
    "\n",
    "LLM 将选择其中最合适的描述。\n"
   ]
  },
  {
   "cell_type": "code",
   "execution_count": 34,
   "metadata": {},
   "outputs": [
    {
     "name": "stdout",
     "output_type": "stream",
     "text": [
      "关于您提到的产品：\n",
      "\n",
      "**SmartX ProPhone**\n",
      "- **特点**：6.1英寸显示屏，128GB存储，12MP双摄像头，支持5G。\n",
      "- **评分**：4.6\n",
      "- **价格**：899.99元\n",
      "- **描述**：一款拥有先进摄像功能的强大智能手机。\n",
      "\n",
      "**FotoSnap DSLR Camera**\n",
      "- **特点**：24.2MP传感器，1080p视频，3英寸LCD，支持可更换镜头。\n",
      "- **评分**：4.7\n",
      "- **价格**：599.99元\n",
      "- **描述**：使用这款多功能的单反相机，捕捉惊艳的照片和视频。\n",
      "\n",
      "关于电视，我们有几款不错的选择：\n",
      "\n",
      "1. **CineView 4K TV**\n",
      "   - **尺寸**：55英寸\n",
      "   - **分辨率**：4K\n",
      "   - **价格**：599.99元\n",
      "   - **描述**：色彩鲜艳、智能功能丰富的4K电视。\n",
      "\n",
      "2. **CineView 8K TV**\n",
      "   - **尺寸**：65英寸\n",
      "   - **分辨率**：8K\n",
      "   - **价格**：2999.99元\n",
      "   - **描述**：通过这款惊艳的8K电视，体验未来。\n",
      "\n",
      "3. **CineView OLED TV**\n",
      "   - **尺寸**：55英寸\n",
      "   - **分辨率**：4K\n",
      "   - **价格**：1499.99元\n",
      "   - **描述**：体验真正的五彩斑斓。\n",
      "\n",
      "您对哪款电视或手机感兴趣呢？或者您还有其他问题吗？\n"
     ]
    }
   ],
   "source": [
    "print(assistant_answer)"
   ]
  },
  {
   "cell_type": "markdown",
   "metadata": {},
   "source": [
    "<span style=\"color:#00ff00\">\n",
    "对于我们的生成回答，gpt-4o-mini 判断生成内容与专家内容完全一致，即C\n",
    "</span>"
   ]
  },
  {
   "cell_type": "code",
   "execution_count": null,
   "metadata": {},
   "outputs": [
    {
     "data": {
      "text/plain": [
       "'C'"
      ]
     },
     "execution_count": 35,
     "metadata": {},
     "output_type": "execute_result"
    }
   ],
   "source": [
    "eval_vs_ideal(test_set_ideal, assistant_answer)\n",
    "# 对于该生成回答，GPT 判断生成内容是标准回答的一个子集，即A"
   ]
  },
  {
   "cell_type": "code",
   "execution_count": 36,
   "metadata": {},
   "outputs": [],
   "source": [
    "assistant_answer_2 = \"\"\"生活就像一袋巧克力。\"\"\""
   ]
  },
  {
   "cell_type": "code",
   "execution_count": 37,
   "metadata": {},
   "outputs": [
    {
     "data": {
      "text/plain": [
       "'D'"
      ]
     },
     "execution_count": 37,
     "metadata": {},
     "output_type": "execute_result"
    }
   ],
   "source": [
    "eval_vs_ideal(test_set_ideal, assistant_answer_2)\n",
    "# 对于明显异常答案，GPT 判断为不一致"
   ]
  },
  {
   "attachments": {},
   "cell_type": "markdown",
   "metadata": {},
   "source": [
    "希望您从本章中学到两个设计模式。<span style=\"color:#00ff00\">（核心：使用另一个LLM调用来评估当前LLM的输出）</span>\n",
    "\n",
    "1. 即使没有专家提供的理想答案，只要能制定一个评估标准，就可以使用一个 LLM 来评估另一个 LLM 的输出。\n",
    "\n",
    "2. 如果您可以提供一个专家提供的理想答案，那么可以帮助您的 LLM 更好地比较特定助手输出是否与专家提供的理想答案相似。\n",
    "\n",
    "希望这可以帮助您评估 LLM 系统的输出，以便在开发期间持续监测系统的性能，并使用这些工具不断评估和改进系统的性能。"
   ]
  }
 ],
 "metadata": {
  "kernelspec": {
   "display_name": "llm",
   "language": "python",
   "name": "python3"
  },
  "language_info": {
   "codemirror_mode": {
    "name": "ipython",
    "version": 3
   },
   "file_extension": ".py",
   "mimetype": "text/x-python",
   "name": "python",
   "nbconvert_exporter": "python",
   "pygments_lexer": "ipython3",
   "version": "3.11.11"
  },
  "orig_nbformat": 4
 },
 "nbformat": 4,
 "nbformat_minor": 2
}
