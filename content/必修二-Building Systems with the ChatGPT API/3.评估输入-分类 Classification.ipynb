{
 "cells": [
  {
   "attachments": {},
   "cell_type": "markdown",
   "id": "63651c26",
   "metadata": {},
   "source": [
    "# 第三章 评估输入——分类\n",
    "\n",
    " - [一、环境配置](#一、环境配置)\n",
    " - [二、对用户指令进行分类](#二、对用户指令进行分类)\n"
   ]
  },
  {
   "attachments": {},
   "cell_type": "markdown",
   "id": "b12f80c9",
   "metadata": {},
   "source": [
    "在本章中，我们将重点讨论评估输入任务，这对于确保系统的质量和安全性至关重要。\n",
    "\n",
    "对于需要处理<span style=\"color:red\">不同情况下的许多独立指令集</span>的任务，首先对查询类型进行\n",
    "<span style=\"color:red\">分类</span>，并以此为基础确定要使用哪些指令，具有诸多益处。\n",
    "\n",
    "这可以通过定义固定的类别和 hard-coding 与处理给定类别任务相关的指令来实现。\n",
    "\n",
    "例如，在构建客户服务助手时，首先对查询类型进行分类，然后根据该分类确定要使用哪些指令，这一点可能非常重要。\n",
    "\n",
    "举个具体的例子，如果用户要求关闭其帐户，那么二级指令可能是添加有关如何关闭账户的额外说明；而如果用户询问特定产品的信息，则二级指令可能会添加更多的产品信息。\n"
   ]
  },
  {
   "attachments": {},
   "cell_type": "markdown",
   "id": "87d9de1d",
   "metadata": {},
   "source": [
    "## 一、环境配置\n",
    "同上一章，我们首先需要配置使用 OpenAI API 的环境"
   ]
  },
  {
   "cell_type": "code",
   "execution_count": 1,
   "id": "55ee24ab",
   "metadata": {},
   "outputs": [],
   "source": [
    "import os\n",
    "from openai import OpenAI\n",
    "\n",
    "from dotenv import load_dotenv, find_dotenv\n",
    "_ = load_dotenv(find_dotenv()) # 读取本地的.env环境文件。（推荐后续使用这种方法，将 key 放在 .env 文件里。保护自己的 key）\n",
    "\n",
    "openai_api_key = os.getenv(\"OPENAI_API_KEY\")"
   ]
  },
  {
   "cell_type": "code",
   "execution_count": 2,
   "id": "0318b89e",
   "metadata": {},
   "outputs": [],
   "source": [
    "client = OpenAI(api_key=openai_api_key)\n",
    "\n",
    "def get_completion_from_messages(messages, \n",
    "                                 model =\"gpt-4o-mini\", \n",
    "                                 temperature=0, \n",
    "                                 max_tokens=500):\n",
    "    '''\n",
    "    封装一个支持更多参数的自定义访问 gpt-4o-mini的函数\n",
    "\n",
    "    参数: \n",
    "    messages: 这是一个消息列表，每个消息都是一个字典，包含 role(角色）和 content(内容)。角色可以是'system'、'user' 或 'assistant’，内容是角色的消息。\n",
    "    model: 调用的模型，默认为 gpt-4o-mini(ChatGPT)。\n",
    "    temperature: 这决定模型输出的随机程度，默认为0，表示输出将非常确定。增加温度会使输出更随机。\n",
    "    max_tokens: 这决定模型输出的最大的 token 数。\n",
    "    '''\n",
    "    response = client.chat.completions.create(\n",
    "        model= model,\n",
    "        messages=messages,\n",
    "        temperature=temperature, # 这决定模型输出的随机程度\n",
    "        max_tokens=max_tokens, # 这决定模型输出的最大的 token 数\n",
    "    )\n",
    "    return response.choices[0].message.content"
   ]
  },
  {
   "attachments": {},
   "cell_type": "markdown",
   "id": "f2b55807",
   "metadata": {},
   "source": [
    "## 二、对用户指令进行分类"
   ]
  },
  {
   "attachments": {},
   "cell_type": "markdown",
   "id": "c3216166",
   "metadata": {},
   "source": [
    "在这里，我们使用系统消息 （system_message） 作为系统的全局指导，并选用 `#` 作为分隔符。\n",
    "\n",
    "<span style=\"color:red\">分隔符</span>是一种用于区分指令或输出中不同部分的工具，它能帮助模型识别各个部分，从而提高系统在执行特定任务时的准确性和效率。\n",
    "\n",
    "在这个例子中，我们选择使用 `#` 作为分隔符。\n",
    "\n",
    "`#` 是一个理想的分隔符，因为它可以被视为一个独立的 token。"
   ]
  },
  {
   "cell_type": "code",
   "execution_count": 3,
   "id": "3b406ba8",
   "metadata": {},
   "outputs": [],
   "source": [
    "delimiter = \"####\""
   ]
  },
  {
   "attachments": {},
   "cell_type": "markdown",
   "id": "049d0d82",
   "metadata": {},
   "source": [
    "这是我们的 system message，我们正在以下面的方式询问模型。"
   ]
  },
  {
   "cell_type": "code",
   "execution_count": 4,
   "id": "61f4b474",
   "metadata": {},
   "outputs": [],
   "source": [
    "system_message = f\"\"\"\n",
    "你是一个客户服务智能查询助手。\n",
    "每个客户服务查询都将用{delimiter}字符分隔。\n",
    "请将每个查询分类到一个主要类别和一个次要类别中。\n",
    "请以严格的 JSON 格式提供你的输出，包含以下键：primary 和 secondary。\n",
    "返回的 JSON 格式不要包含```json标记。\n",
    "\n",
    "主要类别：计费（Billing）、技术支持（Technical Support）、账户管理（Account Management）或一般咨询（General Inquiry）。\n",
    "\n",
    "计费次要类别：\n",
    "取消订阅或升级（Unsubscribe or upgrade）\n",
    "添加付款方式（Add a payment method）\n",
    "收费解释（Explanation for charge）\n",
    "争议费用（Dispute a charge）\n",
    "\n",
    "技术支持次要类别：\n",
    "常规故障排除（General troubleshooting）\n",
    "设备兼容性（Device compatibility）\n",
    "软件更新（Software updates）\n",
    "\n",
    "账户管理次要类别：\n",
    "重置密码（Password reset）\n",
    "更新个人信息（Update personal information）\n",
    "关闭账户（Close account）\n",
    "账户安全（Account security）\n",
    "\n",
    "一般咨询次要类别：\n",
    "产品信息（Product information）\n",
    "定价（Pricing）\n",
    "反馈（Feedback）\n",
    "与人工对话（Speak to a human）\n",
    "\n",
    "\"\"\""
   ]
  },
  {
   "attachments": {},
   "cell_type": "markdown",
   "id": "e6a932ce",
   "metadata": {},
   "source": [
    "现在我们来看一个用户消息（user message）的例子。"
   ]
  },
  {
   "cell_type": "code",
   "execution_count": 5,
   "id": "3b8070bf",
   "metadata": {},
   "outputs": [],
   "source": [
    "user_message = f\"\"\"\\ \n",
    "我希望你删除我的个人资料和所有用户数据。\"\"\""
   ]
  },
  {
   "attachments": {},
   "cell_type": "markdown",
   "id": "3a2c1cf0",
   "metadata": {},
   "source": [
    "将这个消息格式化为一个消息列表，系统消息和用户消息使用\"####\"进行分隔。\n",
    "\n",
    "我们思考一下，作为人类，这句话属于哪个类别：\"我想让您删除我的个人资料。\"\n",
    "\n",
    "这句话看上去属于\"Account Management\"，或者属于\"Close account\"。 "
   ]
  },
  {
   "cell_type": "code",
   "execution_count": 6,
   "id": "6e2b9049",
   "metadata": {},
   "outputs": [],
   "source": [
    "messages =  [  \n",
    "{'role':'system', \n",
    " 'content': system_message},    \n",
    "{'role':'user', \n",
    " 'content': f\"{delimiter}{user_message}{delimiter}\"},  \n",
    "]"
   ]
  },
  {
   "attachments": {},
   "cell_type": "markdown",
   "id": "4b295207",
   "metadata": {},
   "source": [
    "让我们看看模型是如何思考的\n",
    "\n",
    "模型的分类是将\"Account Management\"作为\"primary\"，\"Close account\"作为\"secondary\"。\n",
    "\n",
    "请求<span style=\"color:red\">结构化输出</span>（如 JSON）的好处是，您可以轻松地将其读入某个对象中，例如 Python 中的字典。如果您使用其他语言，也可以转换为其他对象，然后输入到后续步骤中。"
   ]
  },
  {
   "cell_type": "code",
   "execution_count": 8,
   "id": "77328388",
   "metadata": {},
   "outputs": [
    {
     "name": "stdout",
     "output_type": "stream",
     "text": [
      "{\n",
      "  \"primary\": \"账户管理\",\n",
      "  \"secondary\": \"关闭账户\"\n",
      "}\n"
     ]
    }
   ],
   "source": [
    "response = get_completion_from_messages(messages)\n",
    "print(response)"
   ]
  },
  {
   "attachments": {},
   "cell_type": "markdown",
   "id": "2f6b353b",
   "metadata": {},
   "source": [
    "这是另一个用户消息: \"告诉我更多关于你们的平板电视的信息\"\n",
    "\n",
    "我们运用相同的消息列表来获取模型的响应，然后打印出来。\n",
    "\n",
    "这里返回了另一个分类结果，并且看起来应该是正确的。"
   ]
  },
  {
   "cell_type": "code",
   "execution_count": 9,
   "id": "f1d738e1",
   "metadata": {},
   "outputs": [
    {
     "name": "stdout",
     "output_type": "stream",
     "text": [
      "{\n",
      "  \"primary\": \"一般咨询\",\n",
      "  \"secondary\": \"产品信息\"\n",
      "}\n"
     ]
    }
   ],
   "source": [
    "user_message = f\"\"\"\\\n",
    "告诉我更多有关你们的平板电脑的信息\"\"\"\n",
    "messages =  [  \n",
    "{'role':'system', \n",
    " 'content': system_message},    \n",
    "{'role':'user', \n",
    " 'content': f\"{delimiter}{user_message}{delimiter}\"},  \n",
    "] \n",
    "response = get_completion_from_messages(messages)\n",
    "print(response)"
   ]
  },
  {
   "attachments": {},
   "cell_type": "markdown",
   "id": "8f87f68d",
   "metadata": {},
   "source": [
    "因此，根据客户咨询的分类，我们现在可以提供一套更具体的指令来处理后续步骤。\n",
    "\n",
    "在这种情况下，我们可能会添加关于电视的额外信息，而在其他情况下，我们可能希望提供关闭账户的链接或类似的内容。\n",
    "\n",
    "在接下来的章节中，我们将进一步了解处理输入的不同方法\n",
    "\n",
    "在下一章中，我们将探讨更多关于评估输入的方法，特别是如何确保用户以负责任的方式使用系统。"
   ]
  }
 ],
 "metadata": {
  "kernelspec": {
   "display_name": "llm",
   "language": "python",
   "name": "python3"
  },
  "language_info": {
   "codemirror_mode": {
    "name": "ipython",
    "version": 3
   },
   "file_extension": ".py",
   "mimetype": "text/x-python",
   "name": "python",
   "nbconvert_exporter": "python",
   "pygments_lexer": "ipython3",
   "version": "3.11.11"
  }
 },
 "nbformat": 4,
 "nbformat_minor": 5
}
