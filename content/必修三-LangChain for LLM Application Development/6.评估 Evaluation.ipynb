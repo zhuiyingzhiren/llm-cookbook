{
 "cells": [
  {
   "cell_type": "markdown",
   "id": "52824b89-532a-4e54-87e9-1410813cd39e",
   "metadata": {},
   "source": [
    "# 第六章 评估\n",
    "\n",
    " - [一、设置OpenAI API Key](#一、设置OpenAI-API-Key)\n",
    " - [二、 创建LLM应用](#二、-创建LLM应用)\n",
    "     - [2.1 创建评估数据点](#2.1-创建评估数据点)\n",
    "     - [2.2 创建测试用例数据](#2.2-创建测试用例数据)\n",
    "     - [2.3 通过LLM生成测试用例](#2.3-通过LLM生成测试用例)\n",
    "     - [2.4 组合用例数据](#2.4-组合用例数据)\n",
    " - [三、 人工评估](#三、-人工评估)\n",
    "     - [3.1 如何评估新创建的实例](#3.1-如何评估新创建的实例)\n",
    "     - [3.2 中文版](#3.2-中文版)\n",
    " - [四、 通过LLM进行评估实例](#四、-通过LLM进行评估实例)\n",
    "     - [4.1  评估思路](#4.1--评估思路)\n",
    "     - [4.2 结果分析](#4.2-结果分析)\n",
    "     - [3.3 通过LLM进行评估实例](#3.3-通过LLM进行评估实例)\n"
   ]
  },
  {
   "cell_type": "markdown",
   "id": "75dfe281-7c7a-43f7-9f8c-3de3a0139baa",
   "metadata": {
    "tags": []
   },
   "source": [
    "## 一、设置OpenAI API Key\n",
    "\n",
    "登陆 [OpenAI 账户](https://platform.openai.com/account/api-keys) 获取API Key，然后将其设置为环境变量。\n",
    "\n",
    "- 如果你想要设置为全局环境变量，可以参考[知乎文章](https://zhuanlan.zhihu.com/p/627665725)。\n",
    "- 如果你想要设置为本地/项目环境变量，在本文件目录下创建`.env`文件, 打开文件输入以下内容。\n",
    "\n",
    "    <p style=\"font-family:verdana; font-size:12px;color:green\">\n",
    "    OPENAI_API_KEY=\"your_api_key\" \n",
    "    </p>\n",
    "  \n",
    "  替换\"your_api_key\"为你自己的 API Key"
   ]
  },
  {
   "cell_type": "code",
   "execution_count": 2,
   "id": "15a8c608-71bf-4a44-835f-0ff36cbc4533",
   "metadata": {
    "tags": []
   },
   "outputs": [],
   "source": [
    "import os\n",
    "from openai import OpenAI\n",
    "from dotenv import load_dotenv, find_dotenv\n",
    "\n",
    "# 读取本地/项目的环境变量。\n",
    "\n",
    "# find_dotenv()寻找并定位.env文件的路径\n",
    "# load_dotenv()读取该.env文件，并将其中的环境变量加载到当前的运行环境中  \n",
    "# 如果你设置的是全局的环境变量，这行代码则没有任何作用。\n",
    "_ = load_dotenv(find_dotenv())\n",
    "\n",
    "# 获取环境变量 OPENAI_API_KEY\n",
    "openai_api_key = os.getenv(\"OPENAI_API_KEY\")"
   ]
  },
  {
   "cell_type": "markdown",
   "id": "28008949",
   "metadata": {
    "tags": []
   },
   "source": [
    "## 二、 创建LLM应用\n",
    "按照langchain链的方式进行构建"
   ]
  },
  {
   "cell_type": "code",
   "execution_count": 99,
   "id": "9ec1106d",
   "metadata": {
    "height": 64
   },
   "outputs": [],
   "source": [
    "from langchain.document_loaders import CSVLoader #文档加载器，采用csv格式存储\n",
    "\n",
    "#加载数据\n",
    "file = './data/OutdoorClothingCatalog_1000.csv'\n",
    "loader = CSVLoader(file_path=file)\n",
    "data = loader.load()"
   ]
  },
  {
   "cell_type": "code",
   "execution_count": 5,
   "id": "06b1ffae",
   "metadata": {},
   "outputs": [
    {
     "data": {
      "text/html": [
       "<div>\n",
       "<style scoped>\n",
       "    .dataframe tbody tr th:only-of-type {\n",
       "        vertical-align: middle;\n",
       "    }\n",
       "\n",
       "    .dataframe tbody tr th {\n",
       "        vertical-align: top;\n",
       "    }\n",
       "\n",
       "    .dataframe thead th {\n",
       "        text-align: right;\n",
       "    }\n",
       "</style>\n",
       "<table border=\"1\" class=\"dataframe\">\n",
       "  <thead>\n",
       "    <tr style=\"text-align: right;\">\n",
       "      <th></th>\n",
       "      <th>0</th>\n",
       "      <th>1</th>\n",
       "      <th>2</th>\n",
       "    </tr>\n",
       "  </thead>\n",
       "  <tbody>\n",
       "    <tr>\n",
       "      <th>0</th>\n",
       "      <td>NaN</td>\n",
       "      <td>name</td>\n",
       "      <td>description</td>\n",
       "    </tr>\n",
       "    <tr>\n",
       "      <th>1</th>\n",
       "      <td>0.0</td>\n",
       "      <td>Women's Campside Oxfords</td>\n",
       "      <td>This ultracomfortable lace-to-toe Oxford boast...</td>\n",
       "    </tr>\n",
       "    <tr>\n",
       "      <th>2</th>\n",
       "      <td>1.0</td>\n",
       "      <td>Recycled Waterhog Dog Mat, Chevron Weave</td>\n",
       "      <td>Protect your floors from spills and splashing ...</td>\n",
       "    </tr>\n",
       "    <tr>\n",
       "      <th>3</th>\n",
       "      <td>2.0</td>\n",
       "      <td>Infant and Toddler Girls' Coastal Chill Swimsu...</td>\n",
       "      <td>She'll love the bright colors, ruffles and exc...</td>\n",
       "    </tr>\n",
       "    <tr>\n",
       "      <th>4</th>\n",
       "      <td>3.0</td>\n",
       "      <td>Refresh Swimwear, V-Neck Tankini Contrasts</td>\n",
       "      <td>Whether you're going for a swim or heading out...</td>\n",
       "    </tr>\n",
       "    <tr>\n",
       "      <th>...</th>\n",
       "      <td>...</td>\n",
       "      <td>...</td>\n",
       "      <td>...</td>\n",
       "    </tr>\n",
       "    <tr>\n",
       "      <th>996</th>\n",
       "      <td>995.0</td>\n",
       "      <td>Men's  Classic Denim, Standard Fit</td>\n",
       "      <td>Crafted from premium denim that will last wash...</td>\n",
       "    </tr>\n",
       "    <tr>\n",
       "      <th>997</th>\n",
       "      <td>996.0</td>\n",
       "      <td>CozyPrint Sweater Fleece Pullover</td>\n",
       "      <td>The ultimate sweater fleece - made from superi...</td>\n",
       "    </tr>\n",
       "    <tr>\n",
       "      <th>998</th>\n",
       "      <td>997.0</td>\n",
       "      <td>Women's NRS Endurance Spray Paddling Pants</td>\n",
       "      <td>These comfortable and affordable splash paddli...</td>\n",
       "    </tr>\n",
       "    <tr>\n",
       "      <th>999</th>\n",
       "      <td>998.0</td>\n",
       "      <td>Women's Stop Flies Hoodie</td>\n",
       "      <td>This great-looking hoodie uses No Fly Zone Tec...</td>\n",
       "    </tr>\n",
       "    <tr>\n",
       "      <th>1000</th>\n",
       "      <td>999.0</td>\n",
       "      <td>Modern Utility Bag</td>\n",
       "      <td>This US-made crossbody bag is built with the s...</td>\n",
       "    </tr>\n",
       "  </tbody>\n",
       "</table>\n",
       "<p>1001 rows × 3 columns</p>\n",
       "</div>"
      ],
      "text/plain": [
       "          0                                                  1  \\\n",
       "0       NaN                                               name   \n",
       "1       0.0                           Women's Campside Oxfords   \n",
       "2       1.0           Recycled Waterhog Dog Mat, Chevron Weave   \n",
       "3       2.0  Infant and Toddler Girls' Coastal Chill Swimsu...   \n",
       "4       3.0         Refresh Swimwear, V-Neck Tankini Contrasts   \n",
       "...     ...                                                ...   \n",
       "996   995.0                 Men's  Classic Denim, Standard Fit   \n",
       "997   996.0                  CozyPrint Sweater Fleece Pullover   \n",
       "998   997.0         Women's NRS Endurance Spray Paddling Pants   \n",
       "999   998.0                          Women's Stop Flies Hoodie   \n",
       "1000  999.0                                 Modern Utility Bag   \n",
       "\n",
       "                                                      2  \n",
       "0                                           description  \n",
       "1     This ultracomfortable lace-to-toe Oxford boast...  \n",
       "2     Protect your floors from spills and splashing ...  \n",
       "3     She'll love the bright colors, ruffles and exc...  \n",
       "4     Whether you're going for a swim or heading out...  \n",
       "...                                                 ...  \n",
       "996   Crafted from premium denim that will last wash...  \n",
       "997   The ultimate sweater fleece - made from superi...  \n",
       "998   These comfortable and affordable splash paddli...  \n",
       "999   This great-looking hoodie uses No Fly Zone Tec...  \n",
       "1000  This US-made crossbody bag is built with the s...  \n",
       "\n",
       "[1001 rows x 3 columns]"
      ]
     },
     "execution_count": 5,
     "metadata": {},
     "output_type": "execute_result"
    }
   ],
   "source": [
    "#查看数据\n",
    "import pandas as pd\n",
    "test_data = pd.read_csv(file,header=None)\n",
    "test_data"
   ]
  },
  {
   "cell_type": "markdown",
   "id": "51ffd493",
   "metadata": {},
   "source": [
    "<span style=\"color:#00ff00\">\n",
    "这里我们调用LangChain中的高级封装<code>VectorstoreIndexCreator</code>类来创建向量存储。它的底层向量存储实现还是和之前一样采用<code>DocArrayInMemorySearch</code>类，不过可以提供一些高级功能。\n",
    "</span>"
   ]
  },
  {
   "cell_type": "code",
   "execution_count": 100,
   "id": "b31c218f",
   "metadata": {
    "height": 64
   },
   "outputs": [],
   "source": [
    "from langchain_openai import OpenAIEmbeddings\n",
    "from langchain.indexes import VectorstoreIndexCreator #导入向量存储索引创建器\n",
    "from langchain.vectorstores import DocArrayInMemorySearch #向量存储\n",
    "\n",
    "embeddings = OpenAIEmbeddings(model='text-embedding-3-small') #嵌入模型\n",
    "\n",
    "index = VectorstoreIndexCreator(\n",
    "    embedding=embeddings,\n",
    "    vectorstore_cls=DocArrayInMemorySearch\n",
    ").from_documents(data[:100]) # 考虑到时间及经济方面只向量化前100行数据"
   ]
  },
  {
   "cell_type": "markdown",
   "id": "1fee5b2c",
   "metadata": {},
   "source": [
    "<span style=\"color:#00ff00\">\n",
    "这里我们通过参数<code>chain_type_kwargs = {\"document_separator\": \"<<<<<>>>>>\"}</code>设置了文档之间的分隔符，分隔符<code><<<<< >>>>></code>用于在prompt中清晰区分不同文档的边界，让LLM能够明确识别不同文档的内容。\n",
    "</span>"
   ]
  },
  {
   "cell_type": "code",
   "execution_count": 101,
   "id": "a2006054",
   "metadata": {
    "height": 183
   },
   "outputs": [],
   "source": [
    "from langchain.chains.retrieval_qa.base import RetrievalQA #检索QA链，在文档上进行检索\n",
    "from langchain.chat_models import init_chat_model\n",
    "\n",
    "#通过指定语言模型、链类型、检索器和我们要打印的详细程度来创建检索QA链\n",
    "llm = init_chat_model(model=\"gpt-4o-mini\",temperature = 0.0)\n",
    "\n",
    "qa = RetrievalQA.from_chain_type(\n",
    "    llm=llm, \n",
    "    chain_type=\"stuff\", \n",
    "    retriever=index.vectorstore.as_retriever(), \n",
    "    verbose=True,\n",
    "    chain_type_kwargs = {\n",
    "        \"document_separator\": \"<<<<>>>>>\"\n",
    "    }\n",
    ")"
   ]
  },
  {
   "cell_type": "markdown",
   "id": "791ebd73",
   "metadata": {},
   "source": [
    "### 2.1 创建评估数据点\n",
    "我们需要做的第一件事是真正弄清楚我们<span style=\"color:red\">想要评估它的一些数据点</span>，我们将介绍几种不同的方法来完成这个任务\n",
    "\n",
    "1、将自己想出好的数据点作为例子，查看一些数据，然后想出例子问题和答案，以便以后用于评估"
   ]
  },
  {
   "cell_type": "code",
   "execution_count": 10,
   "id": "fb04a0f9",
   "metadata": {
    "height": 30
   },
   "outputs": [
    {
     "data": {
      "text/plain": [
       "Document(metadata={'source': './data/OutdoorClothingCatalog_1000.csv', 'row': 10}, page_content=\": 10\\nname: Cozy Comfort Pullover Set, Stripe\\ndescription: Perfect for lounging, this striped knit set lives up to its name. We used ultrasoft fabric and an easy design that's as comfortable at bedtime as it is when we have to make a quick run out.\\n\\nSize & Fit\\n- Pants are Favorite Fit: Sits lower on the waist.\\n- Relaxed Fit: Our most generous fit sits farthest from the body.\\n\\nFabric & Care\\n- In the softest blend of 63% polyester, 35% rayon and 2% spandex.\\n\\nAdditional Features\\n- Relaxed fit top with raglan sleeves and rounded hem.\\n- Pull-on pants have a wide elastic waistband and drawstring, side pockets and a modern slim leg.\\n\\nImported.\")"
      ]
     },
     "execution_count": 10,
     "metadata": {},
     "output_type": "execute_result"
    }
   ],
   "source": [
    "data[10]#查看这里的一些文档，我们可以对其中发生的事情有所了解"
   ]
  },
  {
   "cell_type": "code",
   "execution_count": 11,
   "id": "fe4a88c2",
   "metadata": {
    "height": 30
   },
   "outputs": [
    {
     "data": {
      "text/plain": [
       "Document(metadata={'source': './data/OutdoorClothingCatalog_1000.csv', 'row': 11}, page_content=': 11\\nname: Ultra-Lofty 850 Stretch Down Hooded Jacket\\ndescription: This technical stretch down jacket from our DownTek collection is sure to keep you warm and comfortable with its full-stretch construction providing exceptional range of motion. With a slightly fitted style that falls at the hip and best with a midweight layer, this jacket is suitable for light activity up to 20° and moderate activity up to -30°. The soft and durable 100% polyester shell offers complete windproof protection and is insulated with warm, lofty goose down. Other features include welded baffles for a no-stitch construction and excellent stretch, an adjustable hood, an interior media port and mesh stash pocket and a hem drawcord. Machine wash and dry. Imported.')"
      ]
     },
     "execution_count": 11,
     "metadata": {},
     "output_type": "execute_result"
    }
   ],
   "source": [
    "data[11]"
   ]
  },
  {
   "cell_type": "markdown",
   "id": "b9c52116",
   "metadata": {},
   "source": [
    "看起来第一个文档中有这个套头衫，第二个文档中有这个夹克，从这些细节中，我们可以创建一些例子查询和答案"
   ]
  },
  {
   "cell_type": "markdown",
   "id": "8d548aef",
   "metadata": {},
   "source": [
    "### 2.2 创建测试用例数据\n"
   ]
  },
  {
   "cell_type": "markdown",
   "id": "d9861703",
   "metadata": {},
   "source": [
    "<span style=\"color:#00ff00\">\n",
    "手动创建测试用例。\n",
    "</span>"
   ]
  },
  {
   "cell_type": "code",
   "execution_count": 102,
   "id": "c2d59bf2",
   "metadata": {
    "height": 217
   },
   "outputs": [],
   "source": [
    "# 同样，由于文档是英文，我们采用英文示例。\n",
    "\n",
    "examples = [\n",
    "    {\n",
    "        \"query\": \"Do the Cozy Comfort Pullover Set\\\n",
    "        have side pockets?\",\n",
    "        \"answer\": \"Yes\"\n",
    "    },\n",
    "    {\n",
    "        \"query\": \"What collection is the Ultra-Lofty \\\n",
    "        850 Stretch Down Hooded Jacket from?\",\n",
    "        \"answer\": \"The DownTek collection\"\n",
    "    }\n",
    "]"
   ]
  },
  {
   "cell_type": "markdown",
   "id": "b73ce510",
   "metadata": {},
   "source": [
    "因此，我们可以问一个简单的问题，这个舒适的套头衫套装有侧口袋吗？，我们可以通过上面的内容看到，它确实有一些侧口袋，答案为是。\n",
    "\n",
    "对于第二个文档，我们可以看到这件夹克来自某个系列，即down tech系列，答案是down tech系列。"
   ]
  },
  {
   "cell_type": "markdown",
   "id": "c7ce3e4f",
   "metadata": {},
   "source": [
    "### 2.3 通过LLM生成测试用例"
   ]
  },
  {
   "cell_type": "markdown",
   "id": "411df868",
   "metadata": {},
   "source": [
    "<span style=\"color:#00ff00\">\n",
    "利用LangChain中的<code>QAGenerateChain</code>类，可以通过LLM自动创建测试用例。\n",
    "</span>"
   ]
  },
  {
   "cell_type": "code",
   "execution_count": 103,
   "id": "34e87816",
   "metadata": {
    "height": 30
   },
   "outputs": [],
   "source": [
    "from langchain.evaluation.qa import QAGenerateChain #导入QA生成链，它将接收文档，并从每个文档中创建一个问题答案对\n",
    "\n",
    "example_gen_chain = QAGenerateChain.from_llm(init_chat_model(model=\"gpt-4o-mini\",temperature = 0.0))#通过传递chat open AI语言模型来创建这个链"
   ]
  },
  {
   "cell_type": "code",
   "execution_count": 104,
   "id": "b93e7a5d",
   "metadata": {},
   "outputs": [
    {
     "data": {
      "text/plain": [
       "[Document(metadata={'source': './data/OutdoorClothingCatalog_1000.csv', 'row': 0}, page_content=\": 0\\nname: Women's Campside Oxfords\\ndescription: This ultracomfortable lace-to-toe Oxford boasts a super-soft canvas, thick cushioning, and quality construction for a broken-in feel from the first time you put them on. \\n\\nSize & Fit: Order regular shoe size. For half sizes not offered, order up to next whole size. \\n\\nSpecs: Approx. weight: 1 lb.1 oz. per pair. \\n\\nConstruction: Soft canvas material for a broken-in feel and look. Comfortable EVA innersole with Cleansport NXT® antimicrobial odor control. Vintage hunt, fish and camping motif on innersole. Moderate arch contour of innersole. EVA foam midsole for cushioning and support. Chain-tread-inspired molded rubber outsole with modified chain-tread pattern. Imported. \\n\\nQuestions? Please contact us for any inquiries.\"),\n",
       " Document(metadata={'source': './data/OutdoorClothingCatalog_1000.csv', 'row': 1}, page_content=': 1\\nname: Recycled Waterhog Dog Mat, Chevron Weave\\ndescription: Protect your floors from spills and splashing with our ultradurable recycled Waterhog dog mat made right here in the USA. \\n\\nSpecs\\nSmall - Dimensions: 18\" x 28\". \\nMedium - Dimensions: 22.5\" x 34.5\".\\n\\nWhy We Love It\\nMother nature, wet shoes and muddy paws have met their match with our Recycled Waterhog mats. Ruggedly constructed from recycled plastic materials, these ultratough mats help keep dirt and water off your floors and plastic out of landfills, trails and oceans. Now, that\\'s a win-win for everyone.\\n\\nFabric & Care\\nVacuum or hose clean.\\n\\nConstruction\\n24 oz. polyester fabric made from 94% recycled materials.\\nRubber backing.\\n\\nAdditional Features\\nFeatures an -exclusive design.\\nFeatures thick and thin fibers for scraping dirt and absorbing water.\\nDries quickly and resists fading, rotting, mildew and shedding.\\nUse indoors or out.\\nMade in the USA.\\n\\nHave questions? Reach out to our customer service team with any questions you may have.'),\n",
       " Document(metadata={'source': './data/OutdoorClothingCatalog_1000.csv', 'row': 2}, page_content=\": 2\\nname: Infant and Toddler Girls' Coastal Chill Swimsuit, Two-Piece\\ndescription: She'll love the bright colors, ruffles and exclusive whimsical prints of this toddler's two-piece swimsuit! Our four-way-stretch and chlorine-resistant fabric keeps its shape and resists snags. The UPF 50+ rated fabric provides the highest rated sun protection possible, blocking 98% of the sun's harmful rays. The crossover no-slip straps and fully lined bottom ensure a secure fit and maximum coverage. Machine wash and line dry for best results. Imported.\"),\n",
       " Document(metadata={'source': './data/OutdoorClothingCatalog_1000.csv', 'row': 3}, page_content=\": 3\\nname: Refresh Swimwear, V-Neck Tankini Contrasts\\ndescription: Whether you're going for a swim or heading out on an SUP, this watersport-ready tankini top is designed to move with you and stay comfortable. All while looking great in an eye-catching colorblock style. \\n\\nSize & Fit\\nFitted: Sits close to the body.\\n\\nWhy We Love It\\nNot only does this swimtop feel good to wear, its fabric is good for the earth too. In recycled nylon, with Lycra® spandex for the perfect amount of stretch. \\n\\nFabric & Care\\nThe premium Italian-blend is breathable, quick drying and abrasion resistant. \\nBody in 82% recycled nylon with 18% Lycra® spandex. \\nLined in 90% recycled nylon with 10% Lycra® spandex. \\nUPF 50+ rated – the highest rated sun protection possible. \\nHandwash, line dry.\\n\\nAdditional Features\\nLightweight racerback straps are easy to get on and off, and won't get in your way. \\nFlattering V-neck silhouette. \\nImported.\\n\\nSun Protection That Won't Wear Off\\nOur high-performance fabric provides SPF\"),\n",
       " Document(metadata={'source': './data/OutdoorClothingCatalog_1000.csv', 'row': 4}, page_content=\": 4\\nname: EcoFlex 3L Storm Pants\\ndescription: Our new TEK O2 technology makes our four-season waterproof pants even more breathable. It's guaranteed to keep you dry and comfortable – whatever the activity and whatever the weather. Size & Fit: Slightly Fitted through hip and thigh. \\n\\nWhy We Love It: Our state-of-the-art TEK O2 technology offers the most breathability we've ever tested. Great as ski pants, they're ideal for a variety of outdoor activities year-round. Plus, they're loaded with features outdoor enthusiasts appreciate, including weather-blocking gaiters and handy side zips. Air In. Water Out. See how our air-permeable TEK O2 technology keeps you dry and comfortable. \\n\\nFabric & Care: 100% nylon, exclusive of trim. Machine wash and dry. \\n\\nAdditional Features: Three-layer shell delivers waterproof protection. Brand new TEK O2 technology provides enhanced breathability. Interior gaiters keep out rain and snow. Full side zips for easy on/off over boots. Two zippered hand pockets. Thigh pocket. Imported.\\n\\n – Official Supplier to the U.S. Ski Team\\nTHEIR WILL\")]"
      ]
     },
     "execution_count": 104,
     "metadata": {},
     "output_type": "execute_result"
    }
   ],
   "source": [
    "data[:5]"
   ]
  },
  {
   "cell_type": "markdown",
   "id": "3bffb6d7",
   "metadata": {},
   "source": [
    "<span style=\"color:#00ff00\">\n",
    "我们采用LongChain的新版api，使用<code>batch</code>方法处理多个文档，并最后将结果转换为所需格式。\n",
    "</span>"
   ]
  },
  {
   "cell_type": "code",
   "execution_count": 108,
   "id": "dfeff6fa",
   "metadata": {},
   "outputs": [],
   "source": [
    "inputs = [{\"doc\": doc} for doc in data[:5]]\n",
    "\n",
    "# 使用batch方法处理多个文档\n",
    "raw_results = example_gen_chain.batch(inputs)"
   ]
  },
  {
   "cell_type": "code",
   "execution_count": 109,
   "id": "0f19a89f",
   "metadata": {},
   "outputs": [
    {
     "data": {
      "text/plain": [
       "[{'doc': Document(metadata={'source': './data/OutdoorClothingCatalog_1000.csv', 'row': 0}, page_content=\": 0\\nname: Women's Campside Oxfords\\ndescription: This ultracomfortable lace-to-toe Oxford boasts a super-soft canvas, thick cushioning, and quality construction for a broken-in feel from the first time you put them on. \\n\\nSize & Fit: Order regular shoe size. For half sizes not offered, order up to next whole size. \\n\\nSpecs: Approx. weight: 1 lb.1 oz. per pair. \\n\\nConstruction: Soft canvas material for a broken-in feel and look. Comfortable EVA innersole with Cleansport NXT® antimicrobial odor control. Vintage hunt, fish and camping motif on innersole. Moderate arch contour of innersole. EVA foam midsole for cushioning and support. Chain-tread-inspired molded rubber outsole with modified chain-tread pattern. Imported. \\n\\nQuestions? Please contact us for any inquiries.\"),\n",
       "  'qa_pairs': {'query': \"What are the key features of the Women's Campside Oxfords, including materials, construction, and fit recommendations?\",\n",
       "   'answer': \"The Women's Campside Oxfords are designed with a super-soft canvas material that provides a broken-in feel from the first wear. They feature thick cushioning, a comfortable EVA innersole with Cleansport NXT® antimicrobial odor control, and a vintage hunt, fish, and camping motif on the innersole. The shoes have a moderate arch contour and an EVA foam midsole for added cushioning and support. The outsole is made of molded rubber with a modified chain-tread pattern. For sizing, it is recommended to order the regular shoe size, and for half sizes not offered, to order up to the next whole size. The approximate weight of the shoes is 1 lb. 1 oz. per pair.\"}},\n",
       " {'doc': Document(metadata={'source': './data/OutdoorClothingCatalog_1000.csv', 'row': 1}, page_content=': 1\\nname: Recycled Waterhog Dog Mat, Chevron Weave\\ndescription: Protect your floors from spills and splashing with our ultradurable recycled Waterhog dog mat made right here in the USA. \\n\\nSpecs\\nSmall - Dimensions: 18\" x 28\". \\nMedium - Dimensions: 22.5\" x 34.5\".\\n\\nWhy We Love It\\nMother nature, wet shoes and muddy paws have met their match with our Recycled Waterhog mats. Ruggedly constructed from recycled plastic materials, these ultratough mats help keep dirt and water off your floors and plastic out of landfills, trails and oceans. Now, that\\'s a win-win for everyone.\\n\\nFabric & Care\\nVacuum or hose clean.\\n\\nConstruction\\n24 oz. polyester fabric made from 94% recycled materials.\\nRubber backing.\\n\\nAdditional Features\\nFeatures an -exclusive design.\\nFeatures thick and thin fibers for scraping dirt and absorbing water.\\nDries quickly and resists fading, rotting, mildew and shedding.\\nUse indoors or out.\\nMade in the USA.\\n\\nHave questions? Reach out to our customer service team with any questions you may have.'),\n",
       "  'qa_pairs': {'query': 'What are the dimensions of the small and medium sizes of the Recycled Waterhog Dog Mat, and what materials are used in its construction?',\n",
       "   'answer': 'The small size of the Recycled Waterhog Dog Mat measures 18\" x 28\", while the medium size measures 22.5\" x 34.5\". The mat is constructed from 24 oz. polyester fabric made from 94% recycled materials and features a rubber backing.'}},\n",
       " {'doc': Document(metadata={'source': './data/OutdoorClothingCatalog_1000.csv', 'row': 2}, page_content=\": 2\\nname: Infant and Toddler Girls' Coastal Chill Swimsuit, Two-Piece\\ndescription: She'll love the bright colors, ruffles and exclusive whimsical prints of this toddler's two-piece swimsuit! Our four-way-stretch and chlorine-resistant fabric keeps its shape and resists snags. The UPF 50+ rated fabric provides the highest rated sun protection possible, blocking 98% of the sun's harmful rays. The crossover no-slip straps and fully lined bottom ensure a secure fit and maximum coverage. Machine wash and line dry for best results. Imported.\"),\n",
       "  'qa_pairs': {'query': \"What are the key features of the Infant and Toddler Girls' Coastal Chill Swimsuit, and how do they contribute to the swimsuit's functionality and safety?\",\n",
       "   'answer': \"The Infant and Toddler Girls' Coastal Chill Swimsuit features bright colors, ruffles, and exclusive whimsical prints, making it visually appealing for toddlers. It is made from four-way-stretch and chlorine-resistant fabric, which helps the swimsuit maintain its shape and resist snags. Additionally, the fabric is rated UPF 50+, providing the highest level of sun protection by blocking 98% of harmful UV rays. The swimsuit includes crossover no-slip straps and a fully lined bottom for a secure fit and maximum coverage. For maintenance, it is recommended to machine wash and line dry the swimsuit for best results.\"}},\n",
       " {'doc': Document(metadata={'source': './data/OutdoorClothingCatalog_1000.csv', 'row': 3}, page_content=\": 3\\nname: Refresh Swimwear, V-Neck Tankini Contrasts\\ndescription: Whether you're going for a swim or heading out on an SUP, this watersport-ready tankini top is designed to move with you and stay comfortable. All while looking great in an eye-catching colorblock style. \\n\\nSize & Fit\\nFitted: Sits close to the body.\\n\\nWhy We Love It\\nNot only does this swimtop feel good to wear, its fabric is good for the earth too. In recycled nylon, with Lycra® spandex for the perfect amount of stretch. \\n\\nFabric & Care\\nThe premium Italian-blend is breathable, quick drying and abrasion resistant. \\nBody in 82% recycled nylon with 18% Lycra® spandex. \\nLined in 90% recycled nylon with 10% Lycra® spandex. \\nUPF 50+ rated – the highest rated sun protection possible. \\nHandwash, line dry.\\n\\nAdditional Features\\nLightweight racerback straps are easy to get on and off, and won't get in your way. \\nFlattering V-neck silhouette. \\nImported.\\n\\nSun Protection That Won't Wear Off\\nOur high-performance fabric provides SPF\"),\n",
       "  'qa_pairs': {'query': 'What are the key features and benefits of the Refresh Swimwear V-Neck Tankini, and how does its fabric contribute to both comfort and environmental sustainability?',\n",
       "   'answer': \"The Refresh Swimwear V-Neck Tankini is designed for comfort and functionality, making it suitable for activities like swimming and stand-up paddleboarding (SUP). Key features include a fitted design that sits close to the body, lightweight racerback straps for ease of wear, and a flattering V-neck silhouette. The tankini is made from a premium Italian-blend fabric that consists of 82% recycled nylon and 18% Lycra® spandex, providing breathability, quick drying, and abrasion resistance. Additionally, it is UPF 50+ rated, offering the highest level of sun protection. The use of recycled materials in its construction highlights its environmental sustainability, making it a good choice for eco-conscious consumers. Care instructions recommend handwashing and line drying to maintain the fabric's quality.\"}},\n",
       " {'doc': Document(metadata={'source': './data/OutdoorClothingCatalog_1000.csv', 'row': 4}, page_content=\": 4\\nname: EcoFlex 3L Storm Pants\\ndescription: Our new TEK O2 technology makes our four-season waterproof pants even more breathable. It's guaranteed to keep you dry and comfortable – whatever the activity and whatever the weather. Size & Fit: Slightly Fitted through hip and thigh. \\n\\nWhy We Love It: Our state-of-the-art TEK O2 technology offers the most breathability we've ever tested. Great as ski pants, they're ideal for a variety of outdoor activities year-round. Plus, they're loaded with features outdoor enthusiasts appreciate, including weather-blocking gaiters and handy side zips. Air In. Water Out. See how our air-permeable TEK O2 technology keeps you dry and comfortable. \\n\\nFabric & Care: 100% nylon, exclusive of trim. Machine wash and dry. \\n\\nAdditional Features: Three-layer shell delivers waterproof protection. Brand new TEK O2 technology provides enhanced breathability. Interior gaiters keep out rain and snow. Full side zips for easy on/off over boots. Two zippered hand pockets. Thigh pocket. Imported.\\n\\n – Official Supplier to the U.S. Ski Team\\nTHEIR WILL\"),\n",
       "  'qa_pairs': {'query': 'What are the key features of the EcoFlex 3L Storm Pants, and how does the TEK O2 technology enhance their performance for outdoor activities?',\n",
       "   'answer': 'The EcoFlex 3L Storm Pants are designed with several key features that enhance their performance for outdoor activities. They are made from a three-layer nylon shell that provides waterproof protection while incorporating the new TEK O2 technology, which offers the highest level of breathability tested. This technology ensures that the pants keep the wearer dry and comfortable in various weather conditions. Additional features include weather-blocking gaiters to prevent rain and snow from entering, full side zips for easy on and off over boots, and multiple pockets for storage, including two zippered hand pockets and a thigh pocket. These pants are slightly fitted through the hip and thigh, making them suitable for a range of outdoor activities year-round, including skiing.'}}]"
      ]
     },
     "execution_count": 109,
     "metadata": {},
     "output_type": "execute_result"
    }
   ],
   "source": [
    "raw_results"
   ]
  },
  {
   "cell_type": "markdown",
   "id": "974bfe5a",
   "metadata": {},
   "source": [
    "<span style=\"color:#00ff00\">\n",
    "LLM生成的原始结果格式与我们自定义的格式不一致，因此需要进行转换。\n",
    "</span>"
   ]
  },
  {
   "cell_type": "code",
   "execution_count": 110,
   "id": "f744059a",
   "metadata": {},
   "outputs": [],
   "source": [
    "# 将结果转换为所需格式\n",
    "# new_examples现在格式为[{'query': '...', 'answer': '...'}]\n",
    "new_examples = [{\"query\": r['qa_pairs'][\"query\"], \n",
    "                 \"answer\": r['qa_pairs'][\"answer\"]} for r in raw_results]"
   ]
  },
  {
   "cell_type": "code",
   "execution_count": 111,
   "id": "861355d2",
   "metadata": {},
   "outputs": [
    {
     "data": {
      "text/plain": [
       "[{'query': \"What are the key features of the Women's Campside Oxfords, including materials, construction, and fit recommendations?\",\n",
       "  'answer': \"The Women's Campside Oxfords are designed with a super-soft canvas material that provides a broken-in feel from the first wear. They feature thick cushioning, a comfortable EVA innersole with Cleansport NXT® antimicrobial odor control, and a vintage hunt, fish, and camping motif on the innersole. The shoes have a moderate arch contour and an EVA foam midsole for added cushioning and support. The outsole is made of molded rubber with a modified chain-tread pattern. For sizing, it is recommended to order the regular shoe size, and for half sizes not offered, to order up to the next whole size. The approximate weight of the shoes is 1 lb. 1 oz. per pair.\"},\n",
       " {'query': 'What are the dimensions of the small and medium sizes of the Recycled Waterhog Dog Mat, and what materials are used in its construction?',\n",
       "  'answer': 'The small size of the Recycled Waterhog Dog Mat measures 18\" x 28\", while the medium size measures 22.5\" x 34.5\". The mat is constructed from 24 oz. polyester fabric made from 94% recycled materials and features a rubber backing.'},\n",
       " {'query': \"What are the key features of the Infant and Toddler Girls' Coastal Chill Swimsuit, and how do they contribute to the swimsuit's functionality and safety?\",\n",
       "  'answer': \"The Infant and Toddler Girls' Coastal Chill Swimsuit features bright colors, ruffles, and exclusive whimsical prints, making it visually appealing for toddlers. It is made from four-way-stretch and chlorine-resistant fabric, which helps the swimsuit maintain its shape and resist snags. Additionally, the fabric is rated UPF 50+, providing the highest level of sun protection by blocking 98% of harmful UV rays. The swimsuit includes crossover no-slip straps and a fully lined bottom for a secure fit and maximum coverage. For maintenance, it is recommended to machine wash and line dry the swimsuit for best results.\"},\n",
       " {'query': 'What are the key features and benefits of the Refresh Swimwear V-Neck Tankini, and how does its fabric contribute to both comfort and environmental sustainability?',\n",
       "  'answer': \"The Refresh Swimwear V-Neck Tankini is designed for comfort and functionality, making it suitable for activities like swimming and stand-up paddleboarding (SUP). Key features include a fitted design that sits close to the body, lightweight racerback straps for ease of wear, and a flattering V-neck silhouette. The tankini is made from a premium Italian-blend fabric that consists of 82% recycled nylon and 18% Lycra® spandex, providing breathability, quick drying, and abrasion resistance. Additionally, it is UPF 50+ rated, offering the highest level of sun protection. The use of recycled materials in its construction highlights its environmental sustainability, making it a good choice for eco-conscious consumers. Care instructions recommend handwashing and line drying to maintain the fabric's quality.\"},\n",
       " {'query': 'What are the key features of the EcoFlex 3L Storm Pants, and how does the TEK O2 technology enhance their performance for outdoor activities?',\n",
       "  'answer': 'The EcoFlex 3L Storm Pants are designed with several key features that enhance their performance for outdoor activities. They are made from a three-layer nylon shell that provides waterproof protection while incorporating the new TEK O2 technology, which offers the highest level of breathability tested. This technology ensures that the pants keep the wearer dry and comfortable in various weather conditions. Additional features include weather-blocking gaiters to prevent rain and snow from entering, full side zips for easy on and off over boots, and multiple pockets for storage, including two zippered hand pockets and a thigh pocket. These pants are slightly fitted through the hip and thigh, making them suitable for a range of outdoor activities year-round, including skiing.'}]"
      ]
     },
     "execution_count": 111,
     "metadata": {},
     "output_type": "execute_result"
    }
   ],
   "source": [
    "new_examples"
   ]
  },
  {
   "cell_type": "markdown",
   "id": "4aca3656",
   "metadata": {},
   "source": [
    "<span style=\"color:#00ff00\">\n",
    "旧版api，使用的<code>apply_and_parse</code>方法将被废弃。\n",
    "</span>"
   ]
  },
  {
   "cell_type": "code",
   "execution_count": 54,
   "id": "62abae09",
   "metadata": {
    "height": 64
   },
   "outputs": [
    {
     "name": "stderr",
     "output_type": "stream",
     "text": [
      "/Users/xiaweichun/miniconda3/envs/llm/lib/python3.11/site-packages/langchain/chains/llm.py:369: UserWarning: The apply_and_parse method is deprecated, instead pass an output parser directly to LLMChain.\n",
      "  warnings.warn(\n"
     ]
    }
   ],
   "source": [
    "raw_results_2 = example_gen_chain.apply_and_parse(\n",
    "    [{\"doc\": t} for t in data[:5]]\n",
    ") #我们可以创建许多例子"
   ]
  },
  {
   "cell_type": "code",
   "execution_count": 55,
   "id": "31c9f786",
   "metadata": {},
   "outputs": [
    {
     "data": {
      "text/plain": [
       "[{'qa_pairs': {'query': \"What are the key features and specifications of the Women's Campside Oxfords as described in the document?\",\n",
       "   'answer': \"The Women's Campside Oxfords are ultracomfortable lace-to-toe shoes made from super-soft canvas, featuring thick cushioning and quality construction for a broken-in feel from the first wear. They should be ordered in regular shoe size, and for half sizes not offered, customers should order up to the next whole size. The shoes weigh approximately 1 lb. 1 oz. per pair and include a comfortable EVA innersole with Cleansport NXT® antimicrobial odor control, a vintage hunt, fish, and camping motif on the innersole, and a moderate arch contour. The EVA foam midsole provides cushioning and support, while the outsole is made of molded rubber with a modified chain-tread pattern.\"}},\n",
       " {'qa_pairs': {'query': 'What are the dimensions of the small and medium sizes of the Recycled Waterhog Dog Mat, and what materials are used in its construction?',\n",
       "   'answer': 'The small size of the Recycled Waterhog Dog Mat measures 18\" x 28\", while the medium size measures 22.5\" x 34.5\". The mat is constructed from 24 oz. polyester fabric made from 94% recycled materials and features a rubber backing.'}},\n",
       " {'qa_pairs': {'query': \"What are the key features of the Infant and Toddler Girls' Coastal Chill Swimsuit, and how do they contribute to the swimsuit's functionality and safety?\",\n",
       "   'answer': \"The Infant and Toddler Girls' Coastal Chill Swimsuit features bright colors, ruffles, and exclusive whimsical prints, making it visually appealing for toddlers. It is made from four-way-stretch and chlorine-resistant fabric, which helps the swimsuit maintain its shape and resist snags. Additionally, the fabric is rated UPF 50+, providing the highest level of sun protection by blocking 98% of harmful UV rays. The swimsuit includes crossover no-slip straps and a fully lined bottom for a secure fit and maximum coverage. For maintenance, it is recommended to machine wash and line dry the swimsuit for best results.\"}},\n",
       " {'qa_pairs': {'query': 'What are the key features and benefits of the Refresh Swimwear V-Neck Tankini, and how does its fabric contribute to both comfort and environmental sustainability?',\n",
       "   'answer': \"The Refresh Swimwear V-Neck Tankini is designed for comfort and functionality, making it suitable for activities like swimming and stand-up paddleboarding (SUP). Key features include a fitted design that sits close to the body, lightweight racerback straps for ease of wear, and a flattering V-neck silhouette. The tankini is made from a premium Italian-blend fabric that consists of 82% recycled nylon and 18% Lycra® spandex, providing breathability, quick drying, and abrasion resistance. Additionally, it is UPF 50+ rated, offering the highest level of sun protection. The use of recycled materials in its construction highlights its environmental sustainability, making it a good choice for eco-conscious consumers. Care instructions recommend handwashing and line drying to maintain the fabric's quality.\"}},\n",
       " {'qa_pairs': {'query': 'What are the key features of the EcoFlex 3L Storm Pants, and how does the TEK O2 technology enhance their performance for outdoor activities?',\n",
       "   'answer': 'The EcoFlex 3L Storm Pants are designed with several key features that enhance their performance for outdoor activities. They are made from a three-layer nylon shell that provides waterproof protection while incorporating the new TEK O2 technology, which offers the highest level of breathability tested. This technology ensures that the pants keep the wearer dry and comfortable by allowing air to circulate while blocking water. Additional features include weather-blocking gaiters to prevent rain and snow from entering, full side zips for easy on and off over boots, and multiple pockets for storage, including two zippered hand pockets and a thigh pocket. These pants are slightly fitted through the hip and thigh, making them suitable for a variety of outdoor activities year-round, including skiing.'}}]"
      ]
     },
     "execution_count": 55,
     "metadata": {},
     "output_type": "execute_result"
    }
   ],
   "source": [
    "raw_results_2"
   ]
  },
  {
   "cell_type": "code",
   "execution_count": 57,
   "id": "97ab28b5",
   "metadata": {
    "height": 30
   },
   "outputs": [
    {
     "data": {
      "text/plain": [
       "[{'query': \"What are the key features and specifications of the Women's Campside Oxfords as described in the document?\",\n",
       "  'answer': \"The Women's Campside Oxfords are ultracomfortable lace-to-toe shoes made from super-soft canvas, featuring thick cushioning and quality construction for a broken-in feel from the first wear. They should be ordered in regular shoe size, and for half sizes not offered, customers should order up to the next whole size. The shoes weigh approximately 1 lb. 1 oz. per pair and include a comfortable EVA innersole with Cleansport NXT® antimicrobial odor control, a vintage hunt, fish, and camping motif on the innersole, and a moderate arch contour. The EVA foam midsole provides cushioning and support, while the outsole is made of molded rubber with a modified chain-tread pattern.\"},\n",
       " {'query': 'What are the dimensions of the small and medium sizes of the Recycled Waterhog Dog Mat, and what materials are used in its construction?',\n",
       "  'answer': 'The small size of the Recycled Waterhog Dog Mat measures 18\" x 28\", while the medium size measures 22.5\" x 34.5\". The mat is constructed from 24 oz. polyester fabric made from 94% recycled materials and features a rubber backing.'},\n",
       " {'query': \"What are the key features of the Infant and Toddler Girls' Coastal Chill Swimsuit, and how do they contribute to the swimsuit's functionality and safety?\",\n",
       "  'answer': \"The Infant and Toddler Girls' Coastal Chill Swimsuit features bright colors, ruffles, and exclusive whimsical prints, making it visually appealing for toddlers. It is made from four-way-stretch and chlorine-resistant fabric, which helps the swimsuit maintain its shape and resist snags. Additionally, the fabric is rated UPF 50+, providing the highest level of sun protection by blocking 98% of harmful UV rays. The swimsuit includes crossover no-slip straps and a fully lined bottom for a secure fit and maximum coverage. For maintenance, it is recommended to machine wash and line dry the swimsuit for best results.\"},\n",
       " {'query': 'What are the key features and benefits of the Refresh Swimwear V-Neck Tankini, and how does its fabric contribute to both comfort and environmental sustainability?',\n",
       "  'answer': \"The Refresh Swimwear V-Neck Tankini is designed for comfort and functionality, making it suitable for activities like swimming and stand-up paddleboarding (SUP). Key features include a fitted design that sits close to the body, lightweight racerback straps for ease of wear, and a flattering V-neck silhouette. The tankini is made from a premium Italian-blend fabric that consists of 82% recycled nylon and 18% Lycra® spandex, providing breathability, quick drying, and abrasion resistance. Additionally, it is UPF 50+ rated, offering the highest level of sun protection. The use of recycled materials in its construction highlights its environmental sustainability, making it a good choice for eco-conscious consumers. Care instructions recommend handwashing and line drying to maintain the fabric's quality.\"},\n",
       " {'query': 'What are the key features of the EcoFlex 3L Storm Pants, and how does the TEK O2 technology enhance their performance for outdoor activities?',\n",
       "  'answer': 'The EcoFlex 3L Storm Pants are designed with several key features that enhance their performance for outdoor activities. They are made from a three-layer nylon shell that provides waterproof protection while incorporating the new TEK O2 technology, which offers the highest level of breathability tested. This technology ensures that the pants keep the wearer dry and comfortable by allowing air to circulate while blocking water. Additional features include weather-blocking gaiters to prevent rain and snow from entering, full side zips for easy on and off over boots, and multiple pockets for storage, including two zippered hand pockets and a thigh pocket. These pants are slightly fitted through the hip and thigh, making them suitable for a variety of outdoor activities year-round, including skiing.'}]"
      ]
     },
     "execution_count": 57,
     "metadata": {},
     "output_type": "execute_result"
    }
   ],
   "source": [
    "new_examples_2 = [{\"query\": r['qa_pairs'][\"query\"], \n",
    "                 \"answer\": r['qa_pairs'][\"answer\"]} for r in raw_results_2]\n",
    "new_examples_2"
   ]
  },
  {
   "cell_type": "markdown",
   "id": "faf25f2f",
   "metadata": {},
   "source": [
    "### 2.4 组合用例数据"
   ]
  },
  {
   "cell_type": "code",
   "execution_count": 64,
   "id": "ada2a3fc",
   "metadata": {
    "height": 30
   },
   "outputs": [],
   "source": [
    "examples += new_examples"
   ]
  },
  {
   "cell_type": "code",
   "execution_count": 65,
   "id": "af03bc27",
   "metadata": {},
   "outputs": [
    {
     "data": {
      "text/plain": [
       "[{'query': 'Do the Cozy Comfort Pullover Set        have side pockets?',\n",
       "  'answer': 'Yes'},\n",
       " {'query': 'What collection is the Ultra-Lofty         850 Stretch Down Hooded Jacket from?',\n",
       "  'answer': 'The DownTek collection'},\n",
       " {'query': \"What are the key features and specifications of the Women's Campside Oxfords as described in the document?\",\n",
       "  'answer': \"The Women's Campside Oxfords are ultracomfortable lace-to-toe shoes made from super-soft canvas, featuring thick cushioning and quality construction for a broken-in feel from the first wear. They should be ordered in regular shoe size, and for half sizes not offered, customers should order up to the next whole size. The shoes weigh approximately 1 lb. 1 oz. per pair and include a comfortable EVA innersole with Cleansport NXT® antimicrobial odor control, a vintage hunt, fish, and camping motif on the innersole, and a moderate arch contour. The EVA foam midsole provides cushioning and support, while the outsole is made of molded rubber with a modified chain-tread pattern.\"},\n",
       " {'query': 'What are the dimensions of the small and medium sizes of the Recycled Waterhog Dog Mat, and what materials are used in its construction?',\n",
       "  'answer': 'The small size of the Recycled Waterhog Dog Mat measures 18\" x 28\", while the medium size measures 22.5\" x 34.5\". The mat is constructed from 24 oz. polyester fabric made from 94% recycled materials and features a rubber backing.'},\n",
       " {'query': \"What are the key features of the Infant and Toddler Girls' Coastal Chill Swimsuit, and how do they contribute to the swimsuit's functionality and safety?\",\n",
       "  'answer': \"The Infant and Toddler Girls' Coastal Chill Swimsuit features bright colors, ruffles, and exclusive whimsical prints, making it visually appealing for toddlers. It is made from four-way-stretch and chlorine-resistant fabric, which helps the swimsuit maintain its shape and resist snags. Additionally, the fabric is rated UPF 50+, providing the highest level of sun protection by blocking 98% of harmful UV rays. The swimsuit includes crossover no-slip straps and a fully lined bottom for a secure fit and maximum coverage. For maintenance, it is recommended to machine wash and line dry the swimsuit for best results.\"},\n",
       " {'query': 'What are the key features and benefits of the Refresh Swimwear V-Neck Tankini, and how does its fabric contribute to both comfort and environmental sustainability?',\n",
       "  'answer': \"The Refresh Swimwear V-Neck Tankini is designed for comfort and functionality, making it suitable for activities like swimming and stand-up paddleboarding (SUP). Key features include a fitted design that sits close to the body, lightweight racerback straps for ease of wear, and a flattering V-neck silhouette. The tankini is made from a premium Italian-blend fabric that consists of 82% recycled nylon and 18% Lycra® spandex, providing breathability, quick drying, and abrasion resistance. Additionally, it is UPF 50+ rated, offering the highest level of sun protection. The use of recycled materials in its construction highlights its environmental sustainability, making it a good choice for eco-conscious consumers. Care instructions recommend handwashing and line drying to maintain the fabric's quality.\"},\n",
       " {'query': 'What are the key features of the EcoFlex 3L Storm Pants, and how does the TEK O2 technology enhance their performance for outdoor activities?',\n",
       "  'answer': 'The EcoFlex 3L Storm Pants are designed with several key features that enhance their performance for outdoor activities. They are made from a three-layer nylon shell that provides waterproof protection while incorporating the new TEK O2 technology, which offers the most breathability tested to date. This technology ensures that the pants keep the wearer dry and comfortable by allowing air in while keeping water out. Additional features include weather-blocking gaiters to prevent rain and snow from entering, full side zips for easy on and off over boots, and multiple pockets for storage, including two zippered hand pockets and a thigh pocket. These pants are slightly fitted through the hip and thigh, making them suitable for a variety of outdoor activities year-round, including skiing.'}]"
      ]
     },
     "execution_count": 65,
     "metadata": {},
     "output_type": "execute_result"
    }
   ],
   "source": [
    "examples"
   ]
  },
  {
   "cell_type": "markdown",
   "id": "3ef959d1",
   "metadata": {},
   "source": [
    "接下来，我们可以利用先前的qa链对上述示例中的query进行查询，检验他们的输出是否符合预期"
   ]
  },
  {
   "cell_type": "markdown",
   "id": "7cc0cf91",
   "metadata": {},
   "source": [
    "<span style=\"color:#00ff00\">\n",
    "调用<code>invoke</code>方法处理单个查询。\n",
    "</span>"
   ]
  },
  {
   "cell_type": "code",
   "execution_count": 35,
   "id": "9cdf5cf5",
   "metadata": {
    "height": 30
   },
   "outputs": [
    {
     "name": "stdout",
     "output_type": "stream",
     "text": [
      "\n",
      "\n",
      "\u001b[1m> Entering new RetrievalQA chain...\u001b[0m\n",
      "\n",
      "\u001b[1m> Finished chain.\u001b[0m\n"
     ]
    },
    {
     "data": {
      "text/plain": [
       "{'query': 'Do the Cozy Comfort Pullover Set        have side pockets?',\n",
       " 'result': 'Yes, the Cozy Comfort Pullover Set has side pockets in the pull-on pants.'}"
      ]
     },
     "execution_count": 35,
     "metadata": {},
     "output_type": "execute_result"
    }
   ],
   "source": [
    "qa.invoke({\"query\": examples[0][\"query\"]})"
   ]
  },
  {
   "cell_type": "markdown",
   "id": "a19441ac",
   "metadata": {},
   "source": [
    "<span style=\"color:#00ff00\">\n",
    "调用<code>batch</code>方法同时处理多个查询。\n",
    "</span>"
   ]
  },
  {
   "cell_type": "code",
   "execution_count": 67,
   "id": "0ef98280",
   "metadata": {},
   "outputs": [
    {
     "name": "stdout",
     "output_type": "stream",
     "text": [
      "\n",
      "\n",
      "\u001b[1m> Entering new RetrievalQA chain...\u001b[0m\n",
      "\n",
      "\n",
      "\u001b[1m> Entering new RetrievalQA chain...\u001b[0m\n",
      "\n",
      "\n",
      "\u001b[1m> Entering new RetrievalQA chain...\u001b[0m\n",
      "\n",
      "\n",
      "\u001b[1m> Entering new RetrievalQA chain...\u001b[0m\n",
      "\n",
      "\n",
      "\u001b[1m> Entering new RetrievalQA chain...\u001b[0m\n",
      "\n",
      "\n",
      "\u001b[1m> Entering new RetrievalQA chain...\u001b[0m\n",
      "\n",
      "\n",
      "\u001b[1m> Entering new RetrievalQA chain...\u001b[0m\n",
      "\n",
      "\u001b[1m> Finished chain.\u001b[0m\n",
      "\n",
      "\u001b[1m> Finished chain.\u001b[0m\n",
      "\n",
      "\u001b[1m> Finished chain.\u001b[0m\n",
      "\n",
      "\u001b[1m> Finished chain.\u001b[0m\n",
      "\n",
      "\u001b[1m> Finished chain.\u001b[0m\n",
      "\n",
      "\u001b[1m> Finished chain.\u001b[0m\n",
      "\n",
      "\u001b[1m> Finished chain.\u001b[0m\n"
     ]
    }
   ],
   "source": [
    "# 批处理多个查询\n",
    "results = qa.batch([{\"query\": example[\"query\"]} for example in examples])"
   ]
  },
  {
   "cell_type": "code",
   "execution_count": 68,
   "id": "4264c4f2",
   "metadata": {},
   "outputs": [
    {
     "data": {
      "text/plain": [
       "[{'query': 'Do the Cozy Comfort Pullover Set        have side pockets?',\n",
       "  'result': 'Yes, the Cozy Comfort Pullover Set has side pockets in the pull-on pants.'},\n",
       " {'query': 'What collection is the Ultra-Lofty         850 Stretch Down Hooded Jacket from?',\n",
       "  'result': 'The Ultra-Lofty 850 Stretch Down Hooded Jacket is from the DownTek collection.'},\n",
       " {'query': \"What are the key features and specifications of the Women's Campside Oxfords as described in the document?\",\n",
       "  'result': \"The key features and specifications of the Women's Campside Oxfords are as follows:\\n\\n- **Description**: Ultralight lace-to-toe Oxford with a super-soft canvas, thick cushioning, and quality construction for a broken-in feel from the first wear.\\n- **Size & Fit**: Order regular shoe size. For half sizes not offered, order up to the next whole size.\\n- **Approximate Weight**: 1 lb. 1 oz. per pair.\\n- **Construction**:\\n  - Soft canvas material for a broken-in feel and look.\\n  - Comfortable EVA innersole with Cleansport NXT® antimicrobial odor control.\\n  - Vintage hunt, fish, and camping motif on the innersole.\\n  - Moderate arch contour of the innersole.\\n  - EVA foam midsole for cushioning and support.\\n  - Chain-tread-inspired molded rubber outsole with a modified chain-tread pattern.\\n- **Imported**: Yes.\\n\\nIf you have any further questions, feel free to ask!\"},\n",
       " {'query': 'What are the dimensions of the small and medium sizes of the Recycled Waterhog Dog Mat, and what materials are used in its construction?',\n",
       "  'result': 'The dimensions of the Recycled Waterhog Dog Mat are as follows:\\n- Small: 18\" x 28\"\\n- Medium: 22.5\" x 34.5\"\\n\\nThe mat is constructed from 24 oz. polyester fabric made from 94% recycled materials, and it has a rubber backing.'},\n",
       " {'query': \"What are the key features of the Infant and Toddler Girls' Coastal Chill Swimsuit, and how do they contribute to the swimsuit's functionality and safety?\",\n",
       "  'result': \"The key features of the Infant and Toddler Girls' Coastal Chill Swimsuit include:\\n\\n1. **Bright Colors and Ruffles**: These design elements make the swimsuit visually appealing to toddlers, encouraging them to wear it.\\n\\n2. **Four-Way-Stretch and Chlorine-Resistant Fabric**: This feature ensures that the swimsuit maintains its shape and resists snags, providing durability and comfort during play.\\n\\n3. **UPF 50+ Rated Fabric**: This offers the highest level of sun protection, blocking 98% of harmful UV rays, which is crucial for protecting a child's sensitive skin from sunburn.\\n\\n4. **Crossover No-Slip Straps**: These straps help ensure a secure fit, preventing the swimsuit from slipping off during active play in the water.\\n\\n5. **Fully Lined Bottom**: This provides additional coverage and comfort, ensuring that the swimsuit is not only functional but also modest.\\n\\n6. **Machine Washable**: The swimsuit can be easily cleaned, making it convenient for parents.\\n\\nThese features contribute to the swimsuit's functionality by ensuring comfort, durability, and ease of use, while the UPF 50+ rating significantly enhances safety by protecting against sun exposure.\"},\n",
       " {'query': 'What are the key features and benefits of the Refresh Swimwear V-Neck Tankini, and how does its fabric contribute to both comfort and environmental sustainability?',\n",
       "  'result': \"The key features and benefits of the Refresh Swimwear V-Neck Tankini include:\\n\\n1. **Design and Fit**: The tankini has a fitted silhouette that sits close to the body, providing a flattering look. It features a V-neck design and lightweight racerback straps that are easy to put on and take off.\\n\\n2. **Comfort**: The tankini is designed for movement, making it suitable for swimming and watersports like stand-up paddleboarding (SUP). \\n\\n3. **Fabric Composition**: The tankini is made from a premium Italian-blend fabric that consists of 82% recycled nylon and 18% Lycra® spandex. This combination offers breathability, quick drying, and abrasion resistance.\\n\\n4. **Environmental Sustainability**: The use of recycled nylon in the fabric contributes to environmental sustainability by reducing waste and the need for new raw materials.\\n\\n5. **Sun Protection**: The fabric is rated UPF 50+, providing the highest level of sun protection available, blocking 98% of the sun's harmful rays.\\n\\n6. **Care Instructions**: It is recommended to handwash and line dry the tankini for best results, which helps maintain its quality and longevity.\\n\\nOverall, the Refresh Swimwear V-Neck Tankini combines style, comfort, and eco-friendliness, making it a great choice for active water activities.\"},\n",
       " {'query': 'What are the key features of the EcoFlex 3L Storm Pants, and how does the TEK O2 technology enhance their performance for outdoor activities?',\n",
       "  'result': \"The key features of the EcoFlex 3L Storm Pants include:\\n\\n- **TEK O2 Technology**: This state-of-the-art technology provides enhanced breathability, making the pants more comfortable during various activities and weather conditions.\\n- **Waterproof Protection**: The three-layer shell delivers reliable waterproof protection.\\n- **Interior Gaiters**: These keep out rain and snow, enhancing the pants' weather-blocking capabilities.\\n- **Full Side Zips**: These allow for easy on and off over boots.\\n- **Pockets**: The pants come with two zippered hand pockets and a thigh pocket for convenient storage.\\n- **Slightly Fitted Design**: They are designed to be slightly fitted through the hip and thigh for a comfortable fit.\\n\\nThe TEK O2 technology enhances their performance by allowing air to circulate while keeping water out, ensuring that the wearer stays dry and comfortable during outdoor activities, regardless of the weather. This breathability is particularly beneficial for activities like skiing and other outdoor pursuits year-round.\"}]"
      ]
     },
     "execution_count": 68,
     "metadata": {},
     "output_type": "execute_result"
    }
   ],
   "source": [
    "results"
   ]
  },
  {
   "cell_type": "markdown",
   "id": "6f596f04-012a-4fbd-8de1-d849dfa7a837",
   "metadata": {
    "tags": []
   },
   "source": [
    "\n",
    "### 2.5 中文版\n"
   ]
  },
  {
   "cell_type": "markdown",
   "id": "1940bf26",
   "metadata": {},
   "source": [
    "#### 2.5.1 按照langchain链的方式进行构建"
   ]
  },
  {
   "cell_type": "code",
   "execution_count": 112,
   "id": "bfd04e93",
   "metadata": {},
   "outputs": [],
   "source": [
    "from langchain.document_loaders import CSVLoader #文档加载器，采用csv格式存储\n",
    "\n",
    "#加载中文数据\n",
    "file = './data/product_data.csv'\n",
    "loader = CSVLoader(file_path=file)\n",
    "data = loader.load()"
   ]
  },
  {
   "cell_type": "code",
   "execution_count": 113,
   "id": "da8eb973",
   "metadata": {},
   "outputs": [
    {
     "data": {
      "text/html": [
       "<div>\n",
       "<style scoped>\n",
       "    .dataframe tbody tr th:only-of-type {\n",
       "        vertical-align: middle;\n",
       "    }\n",
       "\n",
       "    .dataframe tbody tr th {\n",
       "        vertical-align: top;\n",
       "    }\n",
       "\n",
       "    .dataframe thead th {\n",
       "        text-align: right;\n",
       "    }\n",
       "</style>\n",
       "<table border=\"1\" class=\"dataframe\">\n",
       "  <thead>\n",
       "    <tr style=\"text-align: right;\">\n",
       "      <th></th>\n",
       "      <th>0</th>\n",
       "      <th>1</th>\n",
       "    </tr>\n",
       "  </thead>\n",
       "  <tbody>\n",
       "    <tr>\n",
       "      <th>0</th>\n",
       "      <td>product_name</td>\n",
       "      <td>description</td>\n",
       "    </tr>\n",
       "    <tr>\n",
       "      <th>1</th>\n",
       "      <td>全自动咖啡机</td>\n",
       "      <td>规格:\\n大型 - 尺寸：13.8'' x 17.3''。\\n中型 - 尺寸：11.5'' ...</td>\n",
       "    </tr>\n",
       "    <tr>\n",
       "      <th>2</th>\n",
       "      <td>电动牙刷</td>\n",
       "      <td>规格:\\n一般大小 - 高度：9.5''，宽度：1''。\\n\\n为什么我们热爱它:\\n我们的...</td>\n",
       "    </tr>\n",
       "    <tr>\n",
       "      <th>3</th>\n",
       "      <td>橙味维生素C泡腾片</td>\n",
       "      <td>规格:\\n每盒含有20片。\\n\\n为什么我们热爱它:\\n我们的橙味维生素C泡腾片是快速补充维...</td>\n",
       "    </tr>\n",
       "    <tr>\n",
       "      <th>4</th>\n",
       "      <td>无线蓝牙耳机</td>\n",
       "      <td>规格:\\n单个耳机尺寸：1.5'' x 1.3''。\\n\\n为什么我们热爱它:\\n这款无线蓝...</td>\n",
       "    </tr>\n",
       "    <tr>\n",
       "      <th>5</th>\n",
       "      <td>瑜伽垫</td>\n",
       "      <td>规格:\\n尺寸：24'' x 68''。\\n\\n为什么我们热爱它:\\n我们的瑜伽垫拥有出色的...</td>\n",
       "    </tr>\n",
       "    <tr>\n",
       "      <th>6</th>\n",
       "      <td>防水运动手表</td>\n",
       "      <td>规格:\\n表盘直径：40mm。\\n\\n为什么我们热爱它:\\n这款防水运动手表配备了心率监测和...</td>\n",
       "    </tr>\n",
       "    <tr>\n",
       "      <th>7</th>\n",
       "      <td>书籍:《机器学习基础》</td>\n",
       "      <td>规格:\\n页数：580页。\\n\\n为什么我们热爱它:\\n《机器学习基础》以易懂的语言讲解了机...</td>\n",
       "    </tr>\n",
       "    <tr>\n",
       "      <th>8</th>\n",
       "      <td>空气净化器</td>\n",
       "      <td>规格:\\n尺寸：15'' x 15'' x 20''。\\n\\n为什么我们热爱它:\\n我们的空...</td>\n",
       "    </tr>\n",
       "    <tr>\n",
       "      <th>9</th>\n",
       "      <td>陶瓷保温杯</td>\n",
       "      <td>规格:\\n容量：350ml。\\n\\n为什么我们热爱它:\\n我们的陶瓷保温杯设计优雅，保温效果...</td>\n",
       "    </tr>\n",
       "    <tr>\n",
       "      <th>10</th>\n",
       "      <td>宠物自动喂食器</td>\n",
       "      <td>规格:\\n尺寸：14'' x 9'' x 15''。\\n\\n为什么我们热爱它:\\n我们的宠物...</td>\n",
       "    </tr>\n",
       "    <tr>\n",
       "      <th>11</th>\n",
       "      <td>高清电视机</td>\n",
       "      <td>规格:\\n尺寸：50''。\\n\\n为什么我们热爱它:\\n我们的高清电视机拥有出色的画质和强大...</td>\n",
       "    </tr>\n",
       "    <tr>\n",
       "      <th>12</th>\n",
       "      <td>旅行背包</td>\n",
       "      <td>规格:\\n尺寸：18'' x 12'' x 6''。\\n\\n为什么我们热爱它:\\n我们的旅行...</td>\n",
       "    </tr>\n",
       "    <tr>\n",
       "      <th>13</th>\n",
       "      <td>太阳能庭院灯</td>\n",
       "      <td>规格:\\n高度：18''。\\n\\n为什么我们热爱它:\\n我们的太阳能庭院灯无需电源，只需将其...</td>\n",
       "    </tr>\n",
       "    <tr>\n",
       "      <th>14</th>\n",
       "      <td>厨房刀具套装</td>\n",
       "      <td>规格:\\n一套包括8把刀。\\n\\n为什么我们热爱它:\\n我们的厨房刀具套装由专业级不锈钢制成...</td>\n",
       "    </tr>\n",
       "    <tr>\n",
       "      <th>15</th>\n",
       "      <td>迷你无线蓝牙音箱</td>\n",
       "      <td>规格:\\n直径：3''，高度：2''。\\n\\n为什么我们热爱它:\\n我们的迷你无线蓝牙音箱体...</td>\n",
       "    </tr>\n",
       "    <tr>\n",
       "      <th>16</th>\n",
       "      <td>抗菌洗手液</td>\n",
       "      <td>规格:\\n容量：500ml。\\n\\n为什么我们热爱它:\\n我们的抗菌洗手液含有天然植物精华，...</td>\n",
       "    </tr>\n",
       "    <tr>\n",
       "      <th>17</th>\n",
       "      <td>纯棉T恤</td>\n",
       "      <td>规格:\\n尺码：S, M, L, XL, XXL。\\n\\n为什么我们热爱它:\\n我们的纯棉T...</td>\n",
       "    </tr>\n",
       "    <tr>\n",
       "      <th>18</th>\n",
       "      <td>自动咖啡机</td>\n",
       "      <td>规格:\\n尺寸：12'' x 8'' x 14''。\\n\\n为什么我们热爱它:\\n我们的自动...</td>\n",
       "    </tr>\n",
       "    <tr>\n",
       "      <th>19</th>\n",
       "      <td>摄像头保护套</td>\n",
       "      <td>规格:\\n适用于各种品牌和型号的摄像头。\\n\\n为什么我们热爱它:\\n我们的摄像头保护套可以...</td>\n",
       "    </tr>\n",
       "    <tr>\n",
       "      <th>20</th>\n",
       "      <td>玻璃保护膜</td>\n",
       "      <td>规格:\\n适用于各种尺寸的手机屏幕。\\n\\n为什么我们热爱它:\\n我们的玻璃保护膜可以有效防...</td>\n",
       "    </tr>\n",
       "    <tr>\n",
       "      <th>21</th>\n",
       "      <td>儿童益智玩具</td>\n",
       "      <td>规格:\\n适合3岁以上的儿童。\\n\\n为什么我们热爱它:\\n我们的儿童益智玩具设计独特，色彩...</td>\n",
       "    </tr>\n",
       "    <tr>\n",
       "      <th>22</th>\n",
       "      <td>迷你书架</td>\n",
       "      <td>规格:\\n尺寸：20'' x 8'' x 24''。\\n\\n为什么我们热爱它:\\n我们的迷你...</td>\n",
       "    </tr>\n",
       "    <tr>\n",
       "      <th>23</th>\n",
       "      <td>防滑瑜伽垫</td>\n",
       "      <td>规格:\\n尺寸：72'' x 24''。\\n\\n为什么我们热爱它:\\n我们的防滑瑜伽垫采用高...</td>\n",
       "    </tr>\n",
       "    <tr>\n",
       "      <th>24</th>\n",
       "      <td>LED台灯</td>\n",
       "      <td>规格:\\n尺寸：6'' x 6'' x 18''。\\n\\n为什么我们热爱它:\\n我们的LED...</td>\n",
       "    </tr>\n",
       "    <tr>\n",
       "      <th>25</th>\n",
       "      <td>水晶酒杯</td>\n",
       "      <td>规格:\\n容量：250ml。\\n\\n为什么我们热爱它:\\n我们的水晶酒杯采用高品质水晶玻璃制...</td>\n",
       "    </tr>\n",
       "  </tbody>\n",
       "</table>\n",
       "</div>"
      ],
      "text/plain": [
       "               0                                                  1\n",
       "0   product_name                                        description\n",
       "1         全自动咖啡机  规格:\\n大型 - 尺寸：13.8'' x 17.3''。\\n中型 - 尺寸：11.5'' ...\n",
       "2           电动牙刷  规格:\\n一般大小 - 高度：9.5''，宽度：1''。\\n\\n为什么我们热爱它:\\n我们的...\n",
       "3      橙味维生素C泡腾片  规格:\\n每盒含有20片。\\n\\n为什么我们热爱它:\\n我们的橙味维生素C泡腾片是快速补充维...\n",
       "4         无线蓝牙耳机  规格:\\n单个耳机尺寸：1.5'' x 1.3''。\\n\\n为什么我们热爱它:\\n这款无线蓝...\n",
       "5            瑜伽垫  规格:\\n尺寸：24'' x 68''。\\n\\n为什么我们热爱它:\\n我们的瑜伽垫拥有出色的...\n",
       "6         防水运动手表  规格:\\n表盘直径：40mm。\\n\\n为什么我们热爱它:\\n这款防水运动手表配备了心率监测和...\n",
       "7    书籍:《机器学习基础》  规格:\\n页数：580页。\\n\\n为什么我们热爱它:\\n《机器学习基础》以易懂的语言讲解了机...\n",
       "8          空气净化器  规格:\\n尺寸：15'' x 15'' x 20''。\\n\\n为什么我们热爱它:\\n我们的空...\n",
       "9          陶瓷保温杯  规格:\\n容量：350ml。\\n\\n为什么我们热爱它:\\n我们的陶瓷保温杯设计优雅，保温效果...\n",
       "10       宠物自动喂食器  规格:\\n尺寸：14'' x 9'' x 15''。\\n\\n为什么我们热爱它:\\n我们的宠物...\n",
       "11         高清电视机  规格:\\n尺寸：50''。\\n\\n为什么我们热爱它:\\n我们的高清电视机拥有出色的画质和强大...\n",
       "12          旅行背包  规格:\\n尺寸：18'' x 12'' x 6''。\\n\\n为什么我们热爱它:\\n我们的旅行...\n",
       "13        太阳能庭院灯  规格:\\n高度：18''。\\n\\n为什么我们热爱它:\\n我们的太阳能庭院灯无需电源，只需将其...\n",
       "14        厨房刀具套装  规格:\\n一套包括8把刀。\\n\\n为什么我们热爱它:\\n我们的厨房刀具套装由专业级不锈钢制成...\n",
       "15      迷你无线蓝牙音箱  规格:\\n直径：3''，高度：2''。\\n\\n为什么我们热爱它:\\n我们的迷你无线蓝牙音箱体...\n",
       "16         抗菌洗手液  规格:\\n容量：500ml。\\n\\n为什么我们热爱它:\\n我们的抗菌洗手液含有天然植物精华，...\n",
       "17          纯棉T恤  规格:\\n尺码：S, M, L, XL, XXL。\\n\\n为什么我们热爱它:\\n我们的纯棉T...\n",
       "18         自动咖啡机  规格:\\n尺寸：12'' x 8'' x 14''。\\n\\n为什么我们热爱它:\\n我们的自动...\n",
       "19        摄像头保护套  规格:\\n适用于各种品牌和型号的摄像头。\\n\\n为什么我们热爱它:\\n我们的摄像头保护套可以...\n",
       "20         玻璃保护膜  规格:\\n适用于各种尺寸的手机屏幕。\\n\\n为什么我们热爱它:\\n我们的玻璃保护膜可以有效防...\n",
       "21        儿童益智玩具  规格:\\n适合3岁以上的儿童。\\n\\n为什么我们热爱它:\\n我们的儿童益智玩具设计独特，色彩...\n",
       "22          迷你书架  规格:\\n尺寸：20'' x 8'' x 24''。\\n\\n为什么我们热爱它:\\n我们的迷你...\n",
       "23         防滑瑜伽垫  规格:\\n尺寸：72'' x 24''。\\n\\n为什么我们热爱它:\\n我们的防滑瑜伽垫采用高...\n",
       "24         LED台灯  规格:\\n尺寸：6'' x 6'' x 18''。\\n\\n为什么我们热爱它:\\n我们的LED...\n",
       "25          水晶酒杯  规格:\\n容量：250ml。\\n\\n为什么我们热爱它:\\n我们的水晶酒杯采用高品质水晶玻璃制..."
      ]
     },
     "execution_count": 113,
     "metadata": {},
     "output_type": "execute_result"
    }
   ],
   "source": [
    "#查看数据\n",
    "import pandas as pd\n",
    "test_data = pd.read_csv(file,header=None)\n",
    "test_data"
   ]
  },
  {
   "cell_type": "code",
   "execution_count": 114,
   "id": "95890a3b",
   "metadata": {},
   "outputs": [],
   "source": [
    "from langchain.indexes import VectorstoreIndexCreator #导入向量存储索引创建器\n",
    "from langchain.vectorstores import DocArrayInMemorySearch #向量存储\n",
    "\n",
    "index = VectorstoreIndexCreator(\n",
    "    embedding=embeddings,\n",
    "    vectorstore_cls=DocArrayInMemorySearch\n",
    ").from_loaders([loader])"
   ]
  },
  {
   "cell_type": "code",
   "execution_count": 115,
   "id": "f5230594",
   "metadata": {},
   "outputs": [],
   "source": [
    "from langchain.chains.retrieval_qa.base import RetrievalQA #检索QA链，在文档上进行检索\n",
    "from langchain.chat_models import init_chat_model\n",
    "\n",
    "#通过指定语言模型、链类型、检索器和我们要打印的详细程度来创建检索QA链\n",
    "llm = init_chat_model(model=\"gpt-4o-mini\",temperature = 0.0)\n",
    "\n",
    "qa = RetrievalQA.from_chain_type(\n",
    "    llm=llm, \n",
    "    chain_type=\"stuff\", \n",
    "    retriever=index.vectorstore.as_retriever(), \n",
    "    verbose=True,\n",
    "    chain_type_kwargs = {\n",
    "        \"document_separator\": \"<<<<>>>>>\"\n",
    "    }\n",
    ")"
   ]
  },
  {
   "cell_type": "markdown",
   "id": "77e98983-3bf8-4a47-86ed-9eff5a52d1fd",
   "metadata": {},
   "source": [
    "#### 2.5.2 创建评估数据点\n"
   ]
  },
  {
   "cell_type": "markdown",
   "id": "b78385b5",
   "metadata": {},
   "source": [
    "将自己想出好的数据点作为例子，查看一些数据，然后想出例子问题和答案，以便以后用于评估"
   ]
  },
  {
   "cell_type": "code",
   "execution_count": 73,
   "id": "eae9bd65",
   "metadata": {},
   "outputs": [
    {
     "data": {
      "text/plain": [
       "Document(metadata={'source': './data/product_data.csv', 'row': 10}, page_content=\"product_name: 高清电视机\\ndescription: 规格:\\n尺寸：50''。\\n\\n为什么我们热爱它:\\n我们的高清电视机拥有出色的画质和强大的音效，带来沉浸式的观看体验。\\n\\n材质与护理:\\n使用干布清洁。\\n\\n构造:\\n由塑料、金属和电子元件制成。\\n\\n其他特性:\\n支持网络连接，可以在线观看视频。\\n配备遥控器。\\n在韩国制造。\\n\\n有问题？请随时联系我们的客户服务团队，他们会解答您的所有问题。\")"
      ]
     },
     "execution_count": 73,
     "metadata": {},
     "output_type": "execute_result"
    }
   ],
   "source": [
    "data[10]#查看这里的一些文档，我们可以对其中发生的事情有所了解"
   ]
  },
  {
   "cell_type": "code",
   "execution_count": 74,
   "id": "5ef28a34",
   "metadata": {},
   "outputs": [
    {
     "data": {
      "text/plain": [
       "Document(metadata={'source': './data/product_data.csv', 'row': 11}, page_content=\"product_name: 旅行背包\\ndescription: 规格:\\n尺寸：18'' x 12'' x 6''。\\n\\n为什么我们热爱它:\\n我们的旅行背包拥有多个实用的内外袋，轻松装下您的必需品，是短途旅行的理想选择。\\n\\n材质与护理:\\n可以手洗，自然晾干。\\n\\n构造:\\n由防水尼龙制成。\\n\\n其他特性:\\n附带可调节背带和安全锁。\\n在中国制造。\\n\\n有问题？请随时联系我们的客户服务团队，他们会解答您的所有问题。\")"
      ]
     },
     "execution_count": 74,
     "metadata": {},
     "output_type": "execute_result"
    }
   ],
   "source": [
    "data[11]"
   ]
  },
  {
   "cell_type": "markdown",
   "id": "c6166702-b575-4fee-b7fa-270fe6cdeb0b",
   "metadata": {},
   "source": [
    "看上面的第一个文档中有高清电视机，第二个文档中有旅行背包，从这些细节中，我们可以创建一些例子查询和答案"
   ]
  },
  {
   "cell_type": "markdown",
   "id": "0889d24e-fa2d-4c53-baf0-c55ad1c46668",
   "metadata": {},
   "source": [
    "#### 2.5.3 创建测试用例数据\n"
   ]
  },
  {
   "cell_type": "code",
   "execution_count": 116,
   "id": "8936f72d",
   "metadata": {},
   "outputs": [],
   "source": [
    "examples = [\n",
    "    {\n",
    "        \"query\": \"高清电视机怎么进行护理？\",\n",
    "        \"answer\": \"使用干布清洁。\"\n",
    "    },\n",
    "    {\n",
    "        \"query\": \"旅行背包有内外袋吗？\",\n",
    "        \"answer\": \"有。\"\n",
    "    }\n",
    "]"
   ]
  },
  {
   "cell_type": "markdown",
   "id": "0ff2e0fd-15e6-4502-930a-57ffb06c5723",
   "metadata": {},
   "source": [
    "#### 2.5.4 通过LLM生成测试用例"
   ]
  },
  {
   "cell_type": "code",
   "execution_count": 117,
   "id": "d9c7342c",
   "metadata": {},
   "outputs": [],
   "source": [
    "from langchain.evaluation.qa import QAGenerateChain #导入QA生成链，它将接收文档，并从每个文档中创建一个问题答案对"
   ]
  },
  {
   "cell_type": "markdown",
   "id": "f654a5d3-fbc1-427c-b231-d8e93aa10a14",
   "metadata": {},
   "source": [
    "由于`QAGenerateChain`类中使用的`PROMPT`是英文，故我们继承`QAGenerateChain`类，将`PROMPT`加上“请使用中文输出”。"
   ]
  },
  {
   "cell_type": "markdown",
   "id": "63142d22-04fd-4bf3-b321-8da183c099b3",
   "metadata": {},
   "source": [
    "下面是`generate_chain.py`文件中的`QAGenerateChain`类的源码"
   ]
  },
  {
   "cell_type": "code",
   "execution_count": 118,
   "id": "0401f602",
   "metadata": {},
   "outputs": [],
   "source": [
    "\"\"\"LLM Chain specifically for generating examples for question answering.\"\"\"\n",
    "from __future__ import annotations\n",
    "\n",
    "from typing import Any\n",
    "\n",
    "from langchain.base_language import BaseLanguageModel\n",
    "from langchain.chains.llm import LLMChain\n",
    "from langchain.evaluation.qa.generate_prompt import PROMPT\n",
    "\n",
    "class QAGenerateChain(LLMChain):\n",
    "    \"\"\"LLM Chain specifically for generating examples for question answering.\"\"\"\n",
    "\n",
    "    @classmethod\n",
    "    def from_llm(cls, llm: BaseLanguageModel, **kwargs: Any) -> QAGenerateChain:\n",
    "        \"\"\"Load QA Generate Chain from LLM.\"\"\"\n",
    "        return cls(llm=llm, prompt=PROMPT, **kwargs)"
   ]
  },
  {
   "cell_type": "code",
   "execution_count": 119,
   "id": "9fb1e63e",
   "metadata": {},
   "outputs": [
    {
     "data": {
      "text/plain": [
       "PromptTemplate(input_variables=['doc'], input_types={}, partial_variables={}, template='You are a teacher coming up with questions to ask on a quiz. \\nGiven the following document, please generate a question and answer based on that document.\\n\\nExample Format:\\n<Begin Document>\\n...\\n<End Document>\\nQUESTION: question here\\nANSWER: answer here\\n\\nThese questions should be detailed and be based explicitly on information in the document. Begin!\\n\\n<Begin Document>\\n{doc}\\n<End Document>')"
      ]
     },
     "execution_count": 119,
     "metadata": {},
     "output_type": "execute_result"
    }
   ],
   "source": [
    "PROMPT"
   ]
  },
  {
   "cell_type": "markdown",
   "id": "be0ac6b7-0bc5-4f10-a160-a98fb69f1953",
   "metadata": {},
   "source": [
    "我们可以看到`PROMPT`为英文，下面我们将`PROMPT`添加上“请使用中文输出”"
   ]
  },
  {
   "cell_type": "markdown",
   "id": "68d38f1c",
   "metadata": {},
   "source": [
    "##### 2.5.4.1 <span style=\"color:#00ff00\">新版api</span>"
   ]
  },
  {
   "cell_type": "code",
   "execution_count": 129,
   "id": "a521f599",
   "metadata": {},
   "outputs": [
    {
     "data": {
      "text/plain": [
       "PromptTemplate(input_variables=['doc'], input_types={}, partial_variables={}, template='You are a teacher coming up with questions to ask on a quiz. \\nGiven the following document, please generate a question and answer based on that document.\\n\\nExample Format:\\n<Begin Document>\\n...\\n<End Document>\\nQUESTION: question here\\nANSWER: answer here\\n\\nThese questions should be detailed and be based explicitly on information in the document. Begin!\\n\\n<Begin Document>\\n{doc}\\n<End Document>\\n请使用中文输出。\\n')"
      ]
     },
     "execution_count": 129,
     "metadata": {},
     "output_type": "execute_result"
    }
   ],
   "source": [
    "# 下面是langchain.evaluation.qa.generate_prompt中的源码，我们在template的最后加上“请使用中文输出”\n",
    "# flake8: noqa\n",
    "from langchain.output_parsers.regex import RegexParser\n",
    "from langchain.prompts import PromptTemplate\n",
    "\n",
    "template = \"\"\"You are a teacher coming up with questions to ask on a quiz. \n",
    "Given the following document, please generate a question and answer based on that document.\n",
    "\n",
    "Example Format:\n",
    "<Begin Document>\n",
    "...\n",
    "<End Document>\n",
    "QUESTION: question here\n",
    "ANSWER: answer here\n",
    "\n",
    "These questions should be detailed and be based explicitly on information in the document. Begin!\n",
    "\n",
    "<Begin Document>\n",
    "{doc}\n",
    "<End Document>\n",
    "请使用中文输出。\n",
    "\"\"\"\n",
    "PROMPT_new = PromptTemplate(\n",
    "    input_variables=[\"doc\"], template=template\n",
    ")\n",
    "\n",
    "PROMPT_new\n"
   ]
  },
  {
   "cell_type": "code",
   "execution_count": 131,
   "id": "1846dc7b",
   "metadata": {},
   "outputs": [],
   "source": [
    "# 继承QAGenerateChain\n",
    "class MyQAGenerateChain(QAGenerateChain):\n",
    "    \"\"\"LLM Chain specifically for generating examples for question answering.\"\"\"\n",
    "\n",
    "    @classmethod\n",
    "    def from_llm(cls, llm: BaseLanguageModel, **kwargs: Any) -> QAGenerateChain:\n",
    "        \"\"\"Load QA Generate Chain from LLM.\"\"\"\n",
    "        return cls(llm=llm, prompt=PROMPT_new, **kwargs)"
   ]
  },
  {
   "cell_type": "code",
   "execution_count": 132,
   "id": "677d5875",
   "metadata": {},
   "outputs": [],
   "source": [
    "example_gen_chain = MyQAGenerateChain.from_llm(init_chat_model(model=\"gpt-4o-mini\",temperature = 0.0))#通过传递chat open AI语言模型来创建这个链"
   ]
  },
  {
   "cell_type": "code",
   "execution_count": 141,
   "id": "9112254f",
   "metadata": {},
   "outputs": [
    {
     "data": {
      "text/plain": [
       "[Document(metadata={'source': './data/product_data.csv', 'row': 0}, page_content=\"product_name: 全自动咖啡机\\ndescription: 规格:\\n大型 - 尺寸：13.8'' x 17.3''。\\n中型 - 尺寸：11.5'' x 15.2''。\\n\\n为什么我们热爱它:\\n这款全自动咖啡机是爱好者的理想选择。 一键操作，即可研磨豆子并沏制出您喜爱的咖啡。它的耐用性和一致性使它成为家庭和办公室的理想选择。\\n\\n材质与护理:\\n清洁时只需轻擦。\\n\\n构造:\\n由高品质不锈钢制成。\\n\\n其他特性:\\n内置研磨器和滤网。\\n预设多种咖啡模式。\\n在中国制造。\\n\\n有问题？ 请随时联系我们的客户服务团队，他们会解答您的所有问题。\"),\n",
       " Document(metadata={'source': './data/product_data.csv', 'row': 1}, page_content=\"product_name: 电动牙刷\\ndescription: 规格:\\n一般大小 - 高度：9.5''，宽度：1''。\\n\\n为什么我们热爱它:\\n我们的电动牙刷采用先进的刷头设计和强大的电机，为您提供超凡的清洁力和舒适的刷牙体验。\\n\\n材质与护理:\\n不可水洗，只需用湿布清洁。\\n\\n构造:\\n由食品级塑料和尼龙刷毛制成。\\n\\n其他特性:\\n具有多种清洁模式和定时功能。\\nUSB充电。\\n在日本制造。\\n\\n有问题？请随时联系我们的客户服务团队，他们会解答您的所有问题。\"),\n",
       " Document(metadata={'source': './data/product_data.csv', 'row': 2}, page_content='product_name: 橙味维生素C泡腾片\\ndescription: 规格:\\n每盒含有20片。\\n\\n为什么我们热爱它:\\n我们的橙味维生素C泡腾片是快速补充维生素C的理想方式。每片含有500mg的维生素C，可以帮助提升免疫力，保护您的健康。\\n\\n材质与护理:\\n请存放在阴凉干燥的地方，避免阳光直射。\\n\\n构造:\\n主要成分为维生素C和柠檬酸钠。\\n\\n其他特性:\\n含有天然橙味。\\n易于携带。\\n在美国制造。\\n\\n有问题？请随时联系我们的客户服务团队，他们会解答您的所有问题。'),\n",
       " Document(metadata={'source': './data/product_data.csv', 'row': 3}, page_content=\"product_name: 无线蓝牙耳机\\ndescription: 规格:\\n单个耳机尺寸：1.5'' x 1.3''。\\n\\n为什么我们热爱它:\\n这款无线蓝牙耳机配备了降噪技术和长达8小时的电池续航力，让您无论在哪里都可以享受无障碍的音乐体验。\\n\\n材质与护理:\\n只需用湿布清洁。\\n\\n构造:\\n由耐用的塑料和金属构成，配备有软质耳塞。\\n\\n其他特性:\\n快速充电功能。\\n内置麦克风，支持接听电话。\\n在韩国制造。\\n\\n有问题？请随时联系我们的客户服务团队，他们会解答您的所有问题。\"),\n",
       " Document(metadata={'source': './data/product_data.csv', 'row': 4}, page_content=\"product_name: 瑜伽垫\\ndescription: 规格:\\n尺寸：24'' x 68''。\\n\\n为什么我们热爱它:\\n我们的瑜伽垫拥有出色的抓地力和舒适度，无论是做瑜伽还是健身，都是理想的选择。\\n\\n材质与护理:\\n可用清水清洁，自然晾干。\\n\\n构造:\\n由环保PVC材料制成。\\n\\n其他特性:\\n附带便携包和绑带。\\n在印度制造。\\n\\n有问题？请随时联系我们的客户服务团队，他们会解答您的所有问题。\")]"
      ]
     },
     "execution_count": 141,
     "metadata": {},
     "output_type": "execute_result"
    }
   ],
   "source": [
    "data[:5]"
   ]
  },
  {
   "cell_type": "code",
   "execution_count": 133,
   "id": "d03f2cbf",
   "metadata": {},
   "outputs": [],
   "source": [
    "inputs = [{\"doc\": doc} for doc in data[:5]]\n",
    "\n",
    "# 使用batch方法处理多个文档\n",
    "raw_results = example_gen_chain.batch(inputs)"
   ]
  },
  {
   "cell_type": "markdown",
   "id": "2ec176ab",
   "metadata": {},
   "source": [
    "<span style=\"color:#00ff00\">\n",
    "此时的原始输出格式需要进行转换。我们采用<code>RegexParser</code>解析器进行转换。\n",
    "</span>"
   ]
  },
  {
   "cell_type": "code",
   "execution_count": 134,
   "id": "b75b61b2",
   "metadata": {},
   "outputs": [
    {
     "data": {
      "text/plain": [
       "[{'doc': Document(metadata={'source': './data/product_data.csv', 'row': 0}, page_content=\"product_name: 全自动咖啡机\\ndescription: 规格:\\n大型 - 尺寸：13.8'' x 17.3''。\\n中型 - 尺寸：11.5'' x 15.2''。\\n\\n为什么我们热爱它:\\n这款全自动咖啡机是爱好者的理想选择。 一键操作，即可研磨豆子并沏制出您喜爱的咖啡。它的耐用性和一致性使它成为家庭和办公室的理想选择。\\n\\n材质与护理:\\n清洁时只需轻擦。\\n\\n构造:\\n由高品质不锈钢制成。\\n\\n其他特性:\\n内置研磨器和滤网。\\n预设多种咖啡模式。\\n在中国制造。\\n\\n有问题？ 请随时联系我们的客户服务团队，他们会解答您的所有问题。\"),\n",
       "  'text': \"QUESTION: 这款全自动咖啡机的尺寸有哪些？请分别列出大型和中型的尺寸。\\nANSWER: 大型的尺寸是13.8'' x 17.3''，中型的尺寸是11.5'' x 15.2''。\"},\n",
       " {'doc': Document(metadata={'source': './data/product_data.csv', 'row': 1}, page_content=\"product_name: 电动牙刷\\ndescription: 规格:\\n一般大小 - 高度：9.5''，宽度：1''。\\n\\n为什么我们热爱它:\\n我们的电动牙刷采用先进的刷头设计和强大的电机，为您提供超凡的清洁力和舒适的刷牙体验。\\n\\n材质与护理:\\n不可水洗，只需用湿布清洁。\\n\\n构造:\\n由食品级塑料和尼龙刷毛制成。\\n\\n其他特性:\\n具有多种清洁模式和定时功能。\\nUSB充电。\\n在日本制造。\\n\\n有问题？请随时联系我们的客户服务团队，他们会解答您的所有问题。\"),\n",
       "  'text': 'QUESTION: 这款电动牙刷的高度和宽度分别是多少？它的主要材质是什么？\\nANSWER: 这款电动牙刷的高度为9.5英寸，宽度为1英寸。主要材质为食品级塑料和尼龙刷毛。'},\n",
       " {'doc': Document(metadata={'source': './data/product_data.csv', 'row': 2}, page_content='product_name: 橙味维生素C泡腾片\\ndescription: 规格:\\n每盒含有20片。\\n\\n为什么我们热爱它:\\n我们的橙味维生素C泡腾片是快速补充维生素C的理想方式。每片含有500mg的维生素C，可以帮助提升免疫力，保护您的健康。\\n\\n材质与护理:\\n请存放在阴凉干燥的地方，避免阳光直射。\\n\\n构造:\\n主要成分为维生素C和柠檬酸钠。\\n\\n其他特性:\\n含有天然橙味。\\n易于携带。\\n在美国制造。\\n\\n有问题？请随时联系我们的客户服务团队，他们会解答您的所有问题。'),\n",
       "  'text': 'QUESTION: 橙味维生素C泡腾片的主要成分是什么？每片含有多少毫克的维生素C？  \\nANSWER: 橙味维生素C泡腾片的主要成分为维生素C和柠檬酸钠，每片含有500mg的维生素C。'},\n",
       " {'doc': Document(metadata={'source': './data/product_data.csv', 'row': 3}, page_content=\"product_name: 无线蓝牙耳机\\ndescription: 规格:\\n单个耳机尺寸：1.5'' x 1.3''。\\n\\n为什么我们热爱它:\\n这款无线蓝牙耳机配备了降噪技术和长达8小时的电池续航力，让您无论在哪里都可以享受无障碍的音乐体验。\\n\\n材质与护理:\\n只需用湿布清洁。\\n\\n构造:\\n由耐用的塑料和金属构成，配备有软质耳塞。\\n\\n其他特性:\\n快速充电功能。\\n内置麦克风，支持接听电话。\\n在韩国制造。\\n\\n有问题？请随时联系我们的客户服务团队，他们会解答您的所有问题。\"),\n",
       "  'text': 'QUESTION: 这款无线蓝牙耳机的电池续航力是多少小时？并且它具备哪些特别的功能？\\nANSWER: 这款无线蓝牙耳机的电池续航力为长达8小时，具备降噪技术、快速充电功能和内置麦克风，支持接听电话。'},\n",
       " {'doc': Document(metadata={'source': './data/product_data.csv', 'row': 4}, page_content=\"product_name: 瑜伽垫\\ndescription: 规格:\\n尺寸：24'' x 68''。\\n\\n为什么我们热爱它:\\n我们的瑜伽垫拥有出色的抓地力和舒适度，无论是做瑜伽还是健身，都是理想的选择。\\n\\n材质与护理:\\n可用清水清洁，自然晾干。\\n\\n构造:\\n由环保PVC材料制成。\\n\\n其他特性:\\n附带便携包和绑带。\\n在印度制造。\\n\\n有问题？请随时联系我们的客户服务团队，他们会解答您的所有问题。\"),\n",
       "  'text': 'QUESTION: 这款瑜伽垫的尺寸是多少？它的材质是什么？  \\nANSWER: 这款瑜伽垫的尺寸是24英寸 x 68英寸，材质是环保PVC材料。'}]"
      ]
     },
     "execution_count": 134,
     "metadata": {},
     "output_type": "execute_result"
    }
   ],
   "source": [
    "raw_results "
   ]
  },
  {
   "cell_type": "markdown",
   "id": "f1623f9e",
   "metadata": {},
   "source": [
    "<span style=\"color:#00ff00\">\n",
    "<code>RegexParser</code> 是一个用于从文本中提取结构化信息的解析器，它按照正则表达式模式：<code>r\"QUESTION: (.*?)\\nANSWER: (.*)\"</code>匹配以 \"QUESTION: \"开头的文本，捕获问题内容 (.*?)，直到遇到换行符，然后匹配 \"ANSWER: \" 标记，捕获答案内容 (.*)（剩余所有文本）。\n",
    "</span>"
   ]
  },
  {
   "cell_type": "code",
   "execution_count": 135,
   "id": "1320fc8a",
   "metadata": {},
   "outputs": [],
   "source": [
    "output_parser = RegexParser(\n",
    "    regex=r\"QUESTION: (.*?)\\nANSWER: (.*)\", output_keys=[\"query\", \"answer\"]\n",
    ")"
   ]
  },
  {
   "cell_type": "code",
   "execution_count": 145,
   "id": "c8647dc0",
   "metadata": {},
   "outputs": [],
   "source": [
    "raw_results_text = [r['text'] for r in raw_results]\n",
    "\n",
    "new_examples = output_parser.batch(raw_results_text)"
   ]
  },
  {
   "cell_type": "code",
   "execution_count": 146,
   "id": "1c2fa369",
   "metadata": {},
   "outputs": [
    {
     "data": {
      "text/plain": [
       "[{'query': '这款全自动咖啡机的尺寸有哪些？请分别列出大型和中型的尺寸。',\n",
       "  'answer': \"大型的尺寸是13.8'' x 17.3''，中型的尺寸是11.5'' x 15.2''。\"},\n",
       " {'query': '这款电动牙刷的高度和宽度分别是多少？它的主要材质是什么？',\n",
       "  'answer': '这款电动牙刷的高度为9.5英寸，宽度为1英寸。主要材质为食品级塑料和尼龙刷毛。'},\n",
       " {'query': '橙味维生素C泡腾片的主要成分是什么？每片含有多少毫克的维生素C？  ',\n",
       "  'answer': '橙味维生素C泡腾片的主要成分为维生素C和柠檬酸钠，每片含有500mg的维生素C。'},\n",
       " {'query': '这款无线蓝牙耳机的电池续航力是多少小时？并且它具备哪些特别的功能？',\n",
       "  'answer': '这款无线蓝牙耳机的电池续航力为长达8小时，具备降噪技术、快速充电功能和内置麦克风，支持接听电话。'},\n",
       " {'query': '这款瑜伽垫的尺寸是多少？它的材质是什么？  ',\n",
       "  'answer': '这款瑜伽垫的尺寸是24英寸 x 68英寸，材质是环保PVC材料。'}]"
      ]
     },
     "execution_count": 146,
     "metadata": {},
     "output_type": "execute_result"
    }
   ],
   "source": [
    "new_examples"
   ]
  },
  {
   "cell_type": "markdown",
   "id": "2a1d20d1",
   "metadata": {},
   "source": [
    "##### 2.5.4.2 <span style=\"color:#00ff00\">旧版api</span>"
   ]
  },
  {
   "cell_type": "code",
   "execution_count": 138,
   "id": "a33dc3af",
   "metadata": {},
   "outputs": [
    {
     "data": {
      "text/plain": [
       "PromptTemplate(input_variables=['doc'], input_types={}, output_parser=RegexParser(regex='QUESTION: (.*?)\\\\nANSWER: (.*)', output_keys=['query', 'answer']), partial_variables={}, template='You are a teacher coming up with questions to ask on a quiz. \\nGiven the following document, please generate a question and answer based on that document.\\n\\nExample Format:\\n<Begin Document>\\n...\\n<End Document>\\nQUESTION: question here\\nANSWER: answer here\\n\\nThese questions should be detailed and be based explicitly on information in the document. Begin!\\n\\n<Begin Document>\\n{doc}\\n<End Document>\\n请使用中文输出。\\n')"
      ]
     },
     "execution_count": 138,
     "metadata": {},
     "output_type": "execute_result"
    }
   ],
   "source": [
    "# 下面是langchain.evaluation.qa.generate_prompt中的源码，我们在template的最后加上“请使用中文输出”\n",
    "# flake8: noqa\n",
    "from langchain.output_parsers.regex import RegexParser\n",
    "from langchain.prompts import PromptTemplate\n",
    "\n",
    "template = \"\"\"You are a teacher coming up with questions to ask on a quiz. \n",
    "Given the following document, please generate a question and answer based on that document.\n",
    "\n",
    "Example Format:\n",
    "<Begin Document>\n",
    "...\n",
    "<End Document>\n",
    "QUESTION: question here\n",
    "ANSWER: answer here\n",
    "\n",
    "These questions should be detailed and be based explicitly on information in the document. Begin!\n",
    "\n",
    "<Begin Document>\n",
    "{doc}\n",
    "<End Document>\n",
    "请使用中文输出。\n",
    "\"\"\"\n",
    "output_parser = RegexParser(\n",
    "    regex=r\"QUESTION: (.*?)\\nANSWER: (.*)\", output_keys=[\"query\", \"answer\"]\n",
    ")\n",
    "\n",
    "# 直接在提示模版中应用我们的解析器\n",
    "PROMPT_ch = PromptTemplate(\n",
    "    input_variables=[\"doc\"], template=template, output_parser=output_parser\n",
    ")\n",
    "\n",
    "PROMPT_ch\n"
   ]
  },
  {
   "cell_type": "code",
   "execution_count": 139,
   "id": "82ec0488",
   "metadata": {},
   "outputs": [],
   "source": [
    "# 继承QAGenerateChain\n",
    "class MyQAGenerateChain(QAGenerateChain):\n",
    "    \"\"\"LLM Chain specifically for generating examples for question answering.\"\"\"\n",
    "\n",
    "    @classmethod\n",
    "    def from_llm(cls, llm: BaseLanguageModel, **kwargs: Any) -> QAGenerateChain:\n",
    "        \"\"\"Load QA Generate Chain from LLM.\"\"\"\n",
    "        return cls(llm=llm, prompt=PROMPT_ch, **kwargs)"
   ]
  },
  {
   "cell_type": "code",
   "execution_count": 140,
   "id": "8dfc4372",
   "metadata": {},
   "outputs": [],
   "source": [
    "example_gen_chain = MyQAGenerateChain.from_llm(init_chat_model(model=\"gpt-4o-mini\",temperature = 0.0))#通过传递chat open AI语言模型来创建这个链"
   ]
  },
  {
   "cell_type": "markdown",
   "id": "62c35254",
   "metadata": {},
   "source": [
    "<span style=\"color:#00ff00\">\n",
    "旧版api可以直接使用<code>apply_and_parse</code>方法来生成符合预期格式的用例数据。\n",
    "</span>"
   ]
  },
  {
   "cell_type": "code",
   "execution_count": 143,
   "id": "ef0f5cad",
   "metadata": {},
   "outputs": [
    {
     "name": "stderr",
     "output_type": "stream",
     "text": [
      "/Users/xiaweichun/miniconda3/envs/llm/lib/python3.11/site-packages/langchain/chains/llm.py:369: UserWarning: The apply_and_parse method is deprecated, instead pass an output parser directly to LLMChain.\n",
      "  warnings.warn(\n"
     ]
    }
   ],
   "source": [
    "new_examples_2 = example_gen_chain.apply_and_parse(\n",
    "    [{\"doc\": t} for t in data[:5]]\n",
    ") "
   ]
  },
  {
   "cell_type": "code",
   "execution_count": 147,
   "id": "7bc64a85",
   "metadata": {},
   "outputs": [
    {
     "data": {
      "text/plain": [
       "[{'query': '这款全自动咖啡机的尺寸有哪些？并且它适合在哪些场合使用？',\n",
       "  'answer': \"这款全自动咖啡机有两种尺寸：大型尺寸为13.8'' x 17.3''，中型尺寸为11.5'' x 15.2''。它是爱好者的理想选择，适合家庭和办公室使用。\"},\n",
       " {'query': '这款电动牙刷的高度和宽度分别是多少？它的主要材质是什么？',\n",
       "  'answer': '这款电动牙刷的高度为9.5英寸，宽度为1英寸。主要材质为食品级塑料和尼龙刷毛。'},\n",
       " {'query': '橙味维生素C泡腾片的主要成分是什么？每片含有多少毫克的维生素C？  ',\n",
       "  'answer': '橙味维生素C泡腾片的主要成分为维生素C和柠檬酸钠，每片含有500mg的维生素C。'},\n",
       " {'query': '这款无线蓝牙耳机的电池续航力是多少小时？并且它具备哪些特别的功能？',\n",
       "  'answer': '这款无线蓝牙耳机的电池续航力为长达8小时，具备降噪技术、快速充电功能和内置麦克风，支持接听电话。'},\n",
       " {'query': '瑜伽垫的尺寸是多少？它的材质是什么？  ', 'answer': \"瑜伽垫的尺寸是24'' x 68''，材质是环保PVC材料。\"}]"
      ]
     },
     "execution_count": 147,
     "metadata": {},
     "output_type": "execute_result"
    }
   ],
   "source": [
    "new_examples_2 #查看用例数据"
   ]
  },
  {
   "cell_type": "markdown",
   "id": "0cdb7e86",
   "metadata": {},
   "source": [
    "#### 2.5.4.3 <span style=\"color:#00ff00\">总结</span>\n"
   ]
  },
  {
   "cell_type": "markdown",
   "id": "1b3062f9",
   "metadata": {},
   "source": [
    "<span style=\"color:#00ff00\">\n",
    "相比较于新版api，旧版api的生成用例数据的方式更加简单，只需要在提示模版中应用我们的解析器即可，不需要额外的对输出进行一次解析器处理。\n",
    "</span>\n"
   ]
  },
  {
   "cell_type": "markdown",
   "id": "e6cb8f71-4720-4d98-8921-1e25022d5375",
   "metadata": {},
   "source": [
    "#### 2.6 组合用例数据"
   ]
  },
  {
   "cell_type": "code",
   "execution_count": 150,
   "id": "c0636823",
   "metadata": {},
   "outputs": [],
   "source": [
    "examples += new_examples"
   ]
  },
  {
   "cell_type": "code",
   "execution_count": 156,
   "id": "1e92429a",
   "metadata": {},
   "outputs": [
    {
     "data": {
      "text/plain": [
       "[{'query': '高清电视机怎么进行护理？', 'answer': '使用干布清洁。'},\n",
       " {'query': '旅行背包有内外袋吗？', 'answer': '有。'},\n",
       " {'query': '这款全自动咖啡机的尺寸有哪些？请分别列出大型和中型的尺寸。',\n",
       "  'answer': \"大型的尺寸是13.8'' x 17.3''，中型的尺寸是11.5'' x 15.2''。\"},\n",
       " {'query': '这款电动牙刷的高度和宽度分别是多少？它的主要材质是什么？',\n",
       "  'answer': '这款电动牙刷的高度为9.5英寸，宽度为1英寸。主要材质为食品级塑料和尼龙刷毛。'},\n",
       " {'query': '橙味维生素C泡腾片的主要成分是什么？每片含有多少毫克的维生素C？  ',\n",
       "  'answer': '橙味维生素C泡腾片的主要成分为维生素C和柠檬酸钠，每片含有500mg的维生素C。'},\n",
       " {'query': '这款无线蓝牙耳机的电池续航力是多少小时？并且它具备哪些特别的功能？',\n",
       "  'answer': '这款无线蓝牙耳机的电池续航力为长达8小时，具备降噪技术、快速充电功能和内置麦克风，支持接听电话。'},\n",
       " {'query': '这款瑜伽垫的尺寸是多少？它的材质是什么？  ',\n",
       "  'answer': '这款瑜伽垫的尺寸是24英寸 x 68英寸，材质是环保PVC材料。'}]"
      ]
     },
     "execution_count": 156,
     "metadata": {},
     "output_type": "execute_result"
    }
   ],
   "source": [
    "examples"
   ]
  },
  {
   "cell_type": "markdown",
   "id": "334c5cfe",
   "metadata": {},
   "source": [
    "<span style=\"color:#00ff00\">\n",
    "同样可以使用<code>invoke</code>和<code>batch</code>方法来查询用例数据。\n",
    "</span>"
   ]
  },
  {
   "cell_type": "code",
   "execution_count": 151,
   "id": "8d33b5de",
   "metadata": {},
   "outputs": [
    {
     "name": "stdout",
     "output_type": "stream",
     "text": [
      "\n",
      "\n",
      "\u001b[1m> Entering new RetrievalQA chain...\u001b[0m\n",
      "\n",
      "\u001b[1m> Finished chain.\u001b[0m\n"
     ]
    },
    {
     "data": {
      "text/plain": [
       "{'query': '高清电视机怎么进行护理？', 'result': '高清电视机的护理方法是使用干布清洁。'}"
      ]
     },
     "execution_count": 151,
     "metadata": {},
     "output_type": "execute_result"
    }
   ],
   "source": [
    "qa.invoke(examples[0][\"query\"])"
   ]
  },
  {
   "cell_type": "code",
   "execution_count": 159,
   "id": "32d29636",
   "metadata": {},
   "outputs": [
    {
     "name": "stdout",
     "output_type": "stream",
     "text": [
      "\n",
      "\n",
      "\u001b[1m> Entering new RetrievalQA chain...\u001b[0m\n",
      "\n",
      "\u001b[1m> Entering new RetrievalQA chain...\u001b[0m\n",
      "\n",
      "\n",
      "\n",
      "\u001b[1m> Entering new RetrievalQA chain...\u001b[0m\n",
      "\n",
      "\n",
      "\u001b[1m> Entering new RetrievalQA chain...\u001b[0m\n",
      "\n",
      "\n",
      "\u001b[1m> Entering new RetrievalQA chain...\u001b[0m\n",
      "\n",
      "\n",
      "\u001b[1m> Entering new RetrievalQA chain...\u001b[0m\n",
      "\n",
      "\n",
      "\u001b[1m> Entering new RetrievalQA chain...\u001b[0m\n",
      "\n",
      "\u001b[1m> Finished chain.\u001b[0m\n",
      "\n",
      "\u001b[1m> Finished chain.\u001b[0m\n",
      "\n",
      "\u001b[1m> Finished chain.\u001b[0m\n",
      "\n",
      "\u001b[1m> Finished chain.\u001b[0m\n",
      "\n",
      "\u001b[1m> Finished chain.\u001b[0m\n",
      "\n",
      "\u001b[1m> Finished chain.\u001b[0m\n",
      "\n",
      "\u001b[1m> Finished chain.\u001b[0m\n"
     ]
    },
    {
     "data": {
      "text/plain": [
       "[{'query': '高清电视机怎么进行护理？', 'result': '高清电视机的护理方法是使用干布清洁。'},\n",
       " {'query': '旅行背包有内外袋吗？', 'result': '是的，旅行背包拥有多个实用的内外袋。'},\n",
       " {'query': '这款全自动咖啡机的尺寸有哪些？请分别列出大型和中型的尺寸。',\n",
       "  'result': \"这款全自动咖啡机的尺寸如下：\\n- 大型：13.8'' x 17.3''。\\n- 中型：11.5'' x 15.2''。\"},\n",
       " {'query': '这款电动牙刷的高度和宽度分别是多少？它的主要材质是什么？',\n",
       "  'result': '这款电动牙刷的高度是9.5英寸，宽度是1英寸。它的主要材质是食品级塑料和尼龙刷毛。'},\n",
       " {'query': '橙味维生素C泡腾片的主要成分是什么？每片含有多少毫克的维生素C？  ',\n",
       "  'result': '橙味维生素C泡腾片的主要成分为维生素C和柠檬酸钠。每片含有500mg的维生素C。'},\n",
       " {'query': '这款无线蓝牙耳机的电池续航力是多少小时？并且它具备哪些特别的功能？',\n",
       "  'result': '这款无线蓝牙耳机的电池续航力是长达8小时。它具备的特别功能包括降噪技术、快速充电功能和内置麦克风，支持接听电话。'},\n",
       " {'query': '这款瑜伽垫的尺寸是多少？它的材质是什么？  ',\n",
       "  'result': \"瑜伽垫的尺寸是24'' x 68''，材质是环保PVC材料。\"}]"
      ]
     },
     "execution_count": 159,
     "metadata": {},
     "output_type": "execute_result"
    }
   ],
   "source": [
    "# 使用batch方法处理多个文档\n",
    "\n",
    "qa.batch(([{\"query\": example[\"query\"]} for example in examples]))"
   ]
  },
  {
   "cell_type": "markdown",
   "id": "63f3cb08",
   "metadata": {},
   "source": [
    "## 三、 人工评估\n",
    "现在有了这些示例，但是我们如何<span style=\"color:red\">评估正在发生的事情</span>呢？\n",
    "\n",
    "我们运行一个示例通过链，并查看它产生的输出。在这里我们传递一个查询，然后我们得到一个答案。实际上正在发生的事情，进入语言模型的实际提示是什么？它检索的文档是什么？   中间结果是什么？仅仅查看最终答案通常不足以了解链中出现了什么问题或可能出现了什么问题"
   ]
  },
  {
   "cell_type": "markdown",
   "id": "0fe8725b",
   "metadata": {},
   "source": [
    "<span style=\"color:#00ff00\">\n",
    "LingChain的<code>debug</code>工具可以了解运行一个实例通过链中间所经历的步骤\n",
    "</span>"
   ]
  },
  {
   "cell_type": "code",
   "execution_count": 160,
   "id": "fcaf622e",
   "metadata": {
    "height": 47
   },
   "outputs": [],
   "source": [
    "import langchain\n",
    "langchain.debug = True"
   ]
  },
  {
   "cell_type": "code",
   "execution_count": 161,
   "id": "1e1deab0",
   "metadata": {},
   "outputs": [
    {
     "name": "stdout",
     "output_type": "stream",
     "text": [
      "\u001b[32;1m\u001b[1;3m[chain/start]\u001b[0m \u001b[1m[chain:RetrievalQA] Entering Chain run with input:\n",
      "\u001b[0m{\n",
      "  \"query\": \"旅行背包有内外袋吗？\"\n",
      "}\n",
      "\u001b[32;1m\u001b[1;3m[chain/start]\u001b[0m \u001b[1m[chain:RetrievalQA > chain:StuffDocumentsChain] Entering Chain run with input:\n",
      "\u001b[0m[inputs]\n",
      "\u001b[32;1m\u001b[1;3m[chain/start]\u001b[0m \u001b[1m[chain:RetrievalQA > chain:StuffDocumentsChain > chain:LLMChain] Entering Chain run with input:\n",
      "\u001b[0m{\n",
      "  \"question\": \"旅行背包有内外袋吗？\",\n",
      "  \"context\": \"product_name: 旅行背包\\ndescription: 规格:\\n尺寸：18'' x 12'' x 6''。\\n\\n为什么我们热爱它:\\n我们的旅行背包拥有多个实用的内外袋，轻松装下您的必需品，是短途旅行的理想选择。\\n\\n材质与护理:\\n可以手洗，自然晾干。\\n\\n构造:\\n由防水尼龙制成。\\n\\n其他特性:\\n附带可调节背带和安全锁。\\n在中国制造。\\n\\n有问题？请随时联系我们的客户服务团队，他们会解答您的所有问题。<<<<>>>>>product_name: 迷你书架\\ndescription: 规格:\\n尺寸：20'' x 8'' x 24''。\\n\\n为什么我们热爱它:\\n我们的迷你书架占地面积小，设计简约，能够有效存放和展示您的书籍。\\n\\n材质与护理:\\n使用干布擦拭。\\n\\n构造:\\n由实木制成。\\n\\n其他特性:\\n拥有3层收纳空间。\\n在中国制造。\\n\\n有问题？请随时联系我们的客户服务团队，他们会解答您的所有问题。<<<<>>>>>product_name: 摄像头保护套\\ndescription: 规格:\\n适用于各种品牌和型号的摄像头。\\n\\n为什么我们热爱它:\\n我们的摄像头保护套可以有效保护您的摄像头不受灰尘和刮擦的影响。\\n\\n材质与护理:\\n使用湿布擦拭。\\n\\n构造:\\n由耐磨的合成纤维制成。\\n\\n其他特性:\\n设计简洁，易于安装。\\n在中国制造。\\n\\n有问题？请随时联系我们的客户服务团队，他们会解答您的所有问题。<<<<>>>>>product_name: 厨房刀具套装\\ndescription: 规格:\\n一套包括8把刀。\\n\\n为什么我们热爱它:\\n我们的厨房刀具套装由专业级不锈钢制成，刀身坚固，刀刃锋利，切割效果出色，是厨房必备工具。\\n\\n材质与护理:\\n建议手洗并立即擦干，以保持最佳状况。\\n\\n构造:\\n由高品质不锈钢制成。\\n\\n其他特性:\\n包括多种类型的刀，适合不同的用途。\\n在德国制造。\\n\\n有问题？请随时联系我们的客户服务团队，他们会解答您的所有问题。\"\n",
      "}\n",
      "\u001b[32;1m\u001b[1;3m[llm/start]\u001b[0m \u001b[1m[chain:RetrievalQA > chain:StuffDocumentsChain > chain:LLMChain > llm:ChatOpenAI] Entering LLM run with input:\n",
      "\u001b[0m{\n",
      "  \"prompts\": [\n",
      "    \"System: Use the following pieces of context to answer the user's question. \\nIf you don't know the answer, just say that you don't know, don't try to make up an answer.\\n----------------\\nproduct_name: 旅行背包\\ndescription: 规格:\\n尺寸：18'' x 12'' x 6''。\\n\\n为什么我们热爱它:\\n我们的旅行背包拥有多个实用的内外袋，轻松装下您的必需品，是短途旅行的理想选择。\\n\\n材质与护理:\\n可以手洗，自然晾干。\\n\\n构造:\\n由防水尼龙制成。\\n\\n其他特性:\\n附带可调节背带和安全锁。\\n在中国制造。\\n\\n有问题？请随时联系我们的客户服务团队，他们会解答您的所有问题。<<<<>>>>>product_name: 迷你书架\\ndescription: 规格:\\n尺寸：20'' x 8'' x 24''。\\n\\n为什么我们热爱它:\\n我们的迷你书架占地面积小，设计简约，能够有效存放和展示您的书籍。\\n\\n材质与护理:\\n使用干布擦拭。\\n\\n构造:\\n由实木制成。\\n\\n其他特性:\\n拥有3层收纳空间。\\n在中国制造。\\n\\n有问题？请随时联系我们的客户服务团队，他们会解答您的所有问题。<<<<>>>>>product_name: 摄像头保护套\\ndescription: 规格:\\n适用于各种品牌和型号的摄像头。\\n\\n为什么我们热爱它:\\n我们的摄像头保护套可以有效保护您的摄像头不受灰尘和刮擦的影响。\\n\\n材质与护理:\\n使用湿布擦拭。\\n\\n构造:\\n由耐磨的合成纤维制成。\\n\\n其他特性:\\n设计简洁，易于安装。\\n在中国制造。\\n\\n有问题？请随时联系我们的客户服务团队，他们会解答您的所有问题。<<<<>>>>>product_name: 厨房刀具套装\\ndescription: 规格:\\n一套包括8把刀。\\n\\n为什么我们热爱它:\\n我们的厨房刀具套装由专业级不锈钢制成，刀身坚固，刀刃锋利，切割效果出色，是厨房必备工具。\\n\\n材质与护理:\\n建议手洗并立即擦干，以保持最佳状况。\\n\\n构造:\\n由高品质不锈钢制成。\\n\\n其他特性:\\n包括多种类型的刀，适合不同的用途。\\n在德国制造。\\n\\n有问题？请随时联系我们的客户服务团队，他们会解答您的所有问题。\\nHuman: 旅行背包有内外袋吗？\"\n",
      "  ]\n",
      "}\n",
      "\u001b[36;1m\u001b[1;3m[llm/end]\u001b[0m \u001b[1m[chain:RetrievalQA > chain:StuffDocumentsChain > chain:LLMChain > llm:ChatOpenAI] [5.39s] Exiting LLM run with output:\n",
      "\u001b[0m{\n",
      "  \"generations\": [\n",
      "    [\n",
      "      {\n",
      "        \"text\": \"是的，旅行背包拥有多个实用的内外袋。\",\n",
      "        \"generation_info\": {\n",
      "          \"finish_reason\": \"stop\",\n",
      "          \"logprobs\": null\n",
      "        },\n",
      "        \"type\": \"ChatGeneration\",\n",
      "        \"message\": {\n",
      "          \"lc\": 1,\n",
      "          \"type\": \"constructor\",\n",
      "          \"id\": [\n",
      "            \"langchain\",\n",
      "            \"schema\",\n",
      "            \"messages\",\n",
      "            \"AIMessage\"\n",
      "          ],\n",
      "          \"kwargs\": {\n",
      "            \"content\": \"是的，旅行背包拥有多个实用的内外袋。\",\n",
      "            \"additional_kwargs\": {\n",
      "              \"refusal\": null\n",
      "            },\n",
      "            \"response_metadata\": {\n",
      "              \"token_usage\": {\n",
      "                \"completion_tokens\": 16,\n",
      "                \"prompt_tokens\": 559,\n",
      "                \"total_tokens\": 575,\n",
      "                \"completion_tokens_details\": {\n",
      "                  \"accepted_prediction_tokens\": 0,\n",
      "                  \"audio_tokens\": 0,\n",
      "                  \"reasoning_tokens\": 0,\n",
      "                  \"rejected_prediction_tokens\": 0\n",
      "                },\n",
      "                \"prompt_tokens_details\": {\n",
      "                  \"audio_tokens\": 0,\n",
      "                  \"cached_tokens\": 0\n",
      "                }\n",
      "              },\n",
      "              \"model_name\": \"gpt-4o-mini-2024-07-18\",\n",
      "              \"system_fingerprint\": \"fp_3267753c5d\",\n",
      "              \"finish_reason\": \"stop\",\n",
      "              \"logprobs\": null\n",
      "            },\n",
      "            \"type\": \"ai\",\n",
      "            \"id\": \"run-162925d8-851e-4adf-a4ca-3d53912fb806-0\",\n",
      "            \"usage_metadata\": {\n",
      "              \"input_tokens\": 559,\n",
      "              \"output_tokens\": 16,\n",
      "              \"total_tokens\": 575,\n",
      "              \"input_token_details\": {\n",
      "                \"audio\": 0,\n",
      "                \"cache_read\": 0\n",
      "              },\n",
      "              \"output_token_details\": {\n",
      "                \"audio\": 0,\n",
      "                \"reasoning\": 0\n",
      "              }\n",
      "            },\n",
      "            \"tool_calls\": [],\n",
      "            \"invalid_tool_calls\": []\n",
      "          }\n",
      "        }\n",
      "      }\n",
      "    ]\n",
      "  ],\n",
      "  \"llm_output\": {\n",
      "    \"token_usage\": {\n",
      "      \"completion_tokens\": 16,\n",
      "      \"prompt_tokens\": 559,\n",
      "      \"total_tokens\": 575,\n",
      "      \"completion_tokens_details\": {\n",
      "        \"accepted_prediction_tokens\": 0,\n",
      "        \"audio_tokens\": 0,\n",
      "        \"reasoning_tokens\": 0,\n",
      "        \"rejected_prediction_tokens\": 0\n",
      "      },\n",
      "      \"prompt_tokens_details\": {\n",
      "        \"audio_tokens\": 0,\n",
      "        \"cached_tokens\": 0\n",
      "      }\n",
      "    },\n",
      "    \"model_name\": \"gpt-4o-mini-2024-07-18\",\n",
      "    \"system_fingerprint\": \"fp_3267753c5d\"\n",
      "  },\n",
      "  \"run\": null,\n",
      "  \"type\": \"LLMResult\"\n",
      "}\n",
      "\u001b[36;1m\u001b[1;3m[chain/end]\u001b[0m \u001b[1m[chain:RetrievalQA > chain:StuffDocumentsChain > chain:LLMChain] [5.39s] Exiting Chain run with output:\n",
      "\u001b[0m{\n",
      "  \"text\": \"是的，旅行背包拥有多个实用的内外袋。\"\n",
      "}\n",
      "\u001b[36;1m\u001b[1;3m[chain/end]\u001b[0m \u001b[1m[chain:RetrievalQA > chain:StuffDocumentsChain] [5.39s] Exiting Chain run with output:\n",
      "\u001b[0m{\n",
      "  \"output_text\": \"是的，旅行背包拥有多个实用的内外袋。\"\n",
      "}\n",
      "\u001b[36;1m\u001b[1;3m[chain/end]\u001b[0m \u001b[1m[chain:RetrievalQA] [6.40s] Exiting Chain run with output:\n",
      "\u001b[0m{\n",
      "  \"result\": \"是的，旅行背包拥有多个实用的内外袋。\"\n",
      "}\n"
     ]
    },
    {
     "data": {
      "text/plain": [
       "{'query': '旅行背包有内外袋吗？', 'result': '是的，旅行背包拥有多个实用的内外袋。'}"
      ]
     },
     "execution_count": 161,
     "metadata": {},
     "output_type": "execute_result"
    }
   ],
   "source": [
    "qa.invoke(examples[1][\"query\"])#重新运行与上面相同的示例，可以看到它开始打印出更多的信息"
   ]
  },
  {
   "cell_type": "markdown",
   "id": "8dee0f24",
   "metadata": {},
   "source": [
    "我们可以看到它首先深入到检索QA链中，然后它进入了一些文档链（<span style=\"color:#00ff00\">可以看到，对于不同的查询，进入的文档链是不同的，并且符合我们的预期</span>）。如上所述，我们正在使用stuff方法，现在我们正在传递这个上下文，可以看到，这个上下文是由我们<span style=\"color:red\">检索到的不同文档创建的</span>。因此，在进行问答时，当返回错误结果时，通常不是语言模型本身出错了，实际上是**检索步骤**出错了，仔细查看问题的确切内容和上下文可以帮助调试出错的原因。    \n",
    "\n",
    "然后，我们可以再向下一级，看看进入语言模型的确切内容，以及 OpenAI 自身，在这里，我们可以看到传递的完整提示，我们有一个系统消息，有所使用的提示的描述，这是问题回答链使用的提示，我们可以看到提示打印出来，使用以下上下文片段回答用户的问题。\n",
    "如果您不知道答案，只需说您不知道即可，不要试图编造答案。然后我们看到一堆之前插入的上下文，我们还可以看到有关实际返回类型的更多信息。我们不仅仅返回一个答案，还有token的使用情况，可以了解到token数的使用情况\n",
    "\n",
    "\n",
    "由于这是一个相对简单的链，我们现在可以看到最终的响应，舒适的毛衣套装，条纹款，有侧袋，正在起泡，通过链返回给用户，我们刚刚讲解了如何查看和调试单个输入到该链的情况。\n",
    "\n",
    "\n"
   ]
  },
  {
   "cell_type": "markdown",
   "id": "5e4a0835",
   "metadata": {},
   "source": [
    "## 四、 通过LLM进行评估实例"
   ]
  },
  {
   "cell_type": "markdown",
   "id": "7b37c7bc",
   "metadata": {},
   "source": [
    "### 4.1 处理所有新创建的实例\n"
   ]
  },
  {
   "cell_type": "markdown",
   "id": "7ade255f",
   "metadata": {},
   "source": [
    "首先我们运行链条来处理所有示例，然后查看输出。"
   ]
  },
  {
   "cell_type": "code",
   "execution_count": 162,
   "id": "b3d6bef0",
   "metadata": {
    "height": 47
   },
   "outputs": [],
   "source": [
    "# 我们需要为所有示例创建预测，关闭调试模式，以便不将所有内容打印到屏幕上\n",
    "langchain.debug = False"
   ]
  },
  {
   "cell_type": "code",
   "execution_count": 174,
   "id": "5c4d11dc",
   "metadata": {},
   "outputs": [
    {
     "data": {
      "text/plain": [
       "[{'query': '高清电视机怎么进行护理？', 'answer': '使用干布清洁。'},\n",
       " {'query': '旅行背包有内外袋吗？', 'answer': '有。'},\n",
       " {'query': '这款全自动咖啡机的尺寸有哪些？请分别列出大型和中型的尺寸。',\n",
       "  'answer': \"大型的尺寸是13.8'' x 17.3''，中型的尺寸是11.5'' x 15.2''。\"},\n",
       " {'query': '这款电动牙刷的高度和宽度分别是多少？它的主要材质是什么？',\n",
       "  'answer': '这款电动牙刷的高度为9.5英寸，宽度为1英寸。主要材质为食品级塑料和尼龙刷毛。'},\n",
       " {'query': '橙味维生素C泡腾片的主要成分是什么？每片含有多少毫克的维生素C？  ',\n",
       "  'answer': '橙味维生素C泡腾片的主要成分为维生素C和柠檬酸钠，每片含有500mg的维生素C。'},\n",
       " {'query': '这款无线蓝牙耳机的电池续航力是多少小时？并且它具备哪些特别的功能？',\n",
       "  'answer': '这款无线蓝牙耳机的电池续航力为长达8小时，具备降噪技术、快速充电功能和内置麦克风，支持接听电话。'},\n",
       " {'query': '这款瑜伽垫的尺寸是多少？它的材质是什么？  ',\n",
       "  'answer': '这款瑜伽垫的尺寸是24英寸 x 68英寸，材质是环保PVC材料。'}]"
      ]
     },
     "execution_count": 174,
     "metadata": {},
     "output_type": "execute_result"
    }
   ],
   "source": [
    "examples"
   ]
  },
  {
   "cell_type": "code",
   "execution_count": 175,
   "id": "a4dca05a",
   "metadata": {
    "height": 30
   },
   "outputs": [
    {
     "name": "stdout",
     "output_type": "stream",
     "text": [
      "\n",
      "\n",
      "\u001b[1m> Entering new RetrievalQA chain...\u001b[0m\n",
      "\n",
      "\n",
      "\u001b[1m> Entering new RetrievalQA chain...\u001b[0m\n",
      "\n",
      "\n",
      "\u001b[1m> Entering new RetrievalQA chain...\u001b[0m\n",
      "\n",
      "\n",
      "\u001b[1m> Entering new RetrievalQA chain...\u001b[0m\n",
      "\n",
      "\n",
      "\u001b[1m> Entering new RetrievalQA chain...\u001b[0m\n",
      "\n",
      "\n",
      "\u001b[1m> Entering new RetrievalQA chain...\u001b[0m\n",
      "\n",
      "\n",
      "\u001b[1m> Entering new RetrievalQA chain...\u001b[0m\n",
      "\n",
      "\u001b[1m> Finished chain.\u001b[0m\n",
      "\n",
      "\u001b[1m> Finished chain.\u001b[0m\n",
      "\n",
      "\u001b[1m> Finished chain.\u001b[0m\n",
      "\n",
      "\u001b[1m> Finished chain.\u001b[0m\n",
      "\n",
      "\u001b[1m> Finished chain.\u001b[0m\n",
      "\n",
      "\u001b[1m> Finished chain.\u001b[0m\n",
      "\n",
      "\u001b[1m> Finished chain.\u001b[0m\n"
     ]
    }
   ],
   "source": [
    "predictions = qa.batch(([{\"query\": example[\"query\"]} for example in examples]))"
   ]
  },
  {
   "cell_type": "code",
   "execution_count": 176,
   "id": "10776c20",
   "metadata": {},
   "outputs": [
    {
     "data": {
      "text/plain": [
       "[{'query': '高清电视机怎么进行护理？', 'result': '高清电视机的护理方法是使用干布清洁。'},\n",
       " {'query': '旅行背包有内外袋吗？', 'result': '是的，旅行背包拥有多个实用的内外袋。'},\n",
       " {'query': '这款全自动咖啡机的尺寸有哪些？请分别列出大型和中型的尺寸。',\n",
       "  'result': \"这款全自动咖啡机的尺寸如下：\\n- 大型：13.8'' x 17.3''。\\n- 中型：11.5'' x 15.2''。\"},\n",
       " {'query': '这款电动牙刷的高度和宽度分别是多少？它的主要材质是什么？',\n",
       "  'result': '这款电动牙刷的高度是9.5英寸，宽度是1英寸。它的主要材质是食品级塑料和尼龙刷毛。'},\n",
       " {'query': '橙味维生素C泡腾片的主要成分是什么？每片含有多少毫克的维生素C？  ',\n",
       "  'result': '橙味维生素C泡腾片的主要成分为维生素C和柠檬酸钠。每片含有500mg的维生素C。'},\n",
       " {'query': '这款无线蓝牙耳机的电池续航力是多少小时？并且它具备哪些特别的功能？',\n",
       "  'result': '这款无线蓝牙耳机的电池续航力是长达8小时。它具备的特别功能包括降噪技术、快速充电功能和内置麦克风，支持接听电话。'},\n",
       " {'query': '这款瑜伽垫的尺寸是多少？它的材质是什么？  ',\n",
       "  'result': \"瑜伽垫的尺寸是24'' x 68''，材质是环保PVC材料。\"}]"
      ]
     },
     "execution_count": 176,
     "metadata": {},
     "output_type": "execute_result"
    }
   ],
   "source": [
    "predictions"
   ]
  },
  {
   "cell_type": "markdown",
   "id": "aa087640",
   "metadata": {},
   "source": [
    "### 4.2 利用QA评估链进行评估"
   ]
  },
  {
   "cell_type": "markdown",
   "id": "ddf47b02",
   "metadata": {},
   "source": [
    "<span style=\"color:#00ff00\">\n",
    "我们利用LangChain库的<code>QAEvalChain</code>类，构建一条评估链对qa链的输出进行自动评估。评估链将评估qa链生成的预测答案对比真实答案是否正确。\n",
    "</span>"
   ]
  },
  {
   "cell_type": "code",
   "execution_count": 181,
   "id": "6012a3e0",
   "metadata": {
    "height": 30
   },
   "outputs": [],
   "source": [
    "from langchain.evaluation.qa import QAEvalChain #导入QA问题回答，评估链\n",
    "\n",
    "#通过调用chatGPT进行评估\n",
    "llm = init_chat_model(model=\"gpt-4o\",temperature = 0.0)\n",
    "eval_chain = QAEvalChain.from_llm(llm)"
   ]
  },
  {
   "cell_type": "code",
   "execution_count": 183,
   "id": "8b46ae55",
   "metadata": {
    "height": 30
   },
   "outputs": [],
   "source": [
    "#在此链上调用evaluate，进行评估\n",
    "graded_outputs = eval_chain.evaluate(examples, predictions)"
   ]
  },
  {
   "cell_type": "code",
   "execution_count": 184,
   "id": "bf06c88a",
   "metadata": {},
   "outputs": [
    {
     "data": {
      "text/plain": [
       "[{'results': 'CORRECT'},\n",
       " {'results': 'CORRECT'},\n",
       " {'results': 'CORRECT'},\n",
       " {'results': 'CORRECT'},\n",
       " {'results': 'CORRECT'},\n",
       " {'results': 'CORRECT'},\n",
       " {'results': 'CORRECT'}]"
      ]
     },
     "execution_count": 184,
     "metadata": {},
     "output_type": "execute_result"
    }
   ],
   "source": [
    "graded_outputs"
   ]
  },
  {
   "cell_type": "markdown",
   "id": "1436b563",
   "metadata": {},
   "source": [
    "### 4.3  评估思路\n"
   ]
  },
  {
   "cell_type": "markdown",
   "id": "a21cd065",
   "metadata": {},
   "source": [
    "我们将循环遍历所有示例，并打印出示例中的`原始问题`、`真实答案`、qa链的`预测答案`以及评估链的`评估结果`。这可以详细了解每个示例。"
   ]
  },
  {
   "cell_type": "code",
   "execution_count": 186,
   "id": "3437cfbe",
   "metadata": {
    "height": 132
   },
   "outputs": [
    {
     "name": "stdout",
     "output_type": "stream",
     "text": [
      "例 0:\n",
      "问题: 高清电视机怎么进行护理？\n",
      "真实答案: 使用干布清洁。\n",
      "预测答案: 高清电视机的护理方法是使用干布清洁。\n",
      "预测成绩: CORRECT\n",
      "\n",
      "例 1:\n",
      "问题: 旅行背包有内外袋吗？\n",
      "真实答案: 有。\n",
      "预测答案: 是的，旅行背包拥有多个实用的内外袋。\n",
      "预测成绩: CORRECT\n",
      "\n",
      "例 2:\n",
      "问题: 这款全自动咖啡机的尺寸有哪些？请分别列出大型和中型的尺寸。\n",
      "真实答案: 大型的尺寸是13.8'' x 17.3''，中型的尺寸是11.5'' x 15.2''。\n",
      "预测答案: 这款全自动咖啡机的尺寸如下：\n",
      "- 大型：13.8'' x 17.3''。\n",
      "- 中型：11.5'' x 15.2''。\n",
      "预测成绩: CORRECT\n",
      "\n",
      "例 3:\n",
      "问题: 这款电动牙刷的高度和宽度分别是多少？它的主要材质是什么？\n",
      "真实答案: 这款电动牙刷的高度为9.5英寸，宽度为1英寸。主要材质为食品级塑料和尼龙刷毛。\n",
      "预测答案: 这款电动牙刷的高度是9.5英寸，宽度是1英寸。它的主要材质是食品级塑料和尼龙刷毛。\n",
      "预测成绩: CORRECT\n",
      "\n",
      "例 4:\n",
      "问题: 橙味维生素C泡腾片的主要成分是什么？每片含有多少毫克的维生素C？  \n",
      "真实答案: 橙味维生素C泡腾片的主要成分为维生素C和柠檬酸钠，每片含有500mg的维生素C。\n",
      "预测答案: 橙味维生素C泡腾片的主要成分为维生素C和柠檬酸钠。每片含有500mg的维生素C。\n",
      "预测成绩: CORRECT\n",
      "\n",
      "例 5:\n",
      "问题: 这款无线蓝牙耳机的电池续航力是多少小时？并且它具备哪些特别的功能？\n",
      "真实答案: 这款无线蓝牙耳机的电池续航力为长达8小时，具备降噪技术、快速充电功能和内置麦克风，支持接听电话。\n",
      "预测答案: 这款无线蓝牙耳机的电池续航力是长达8小时。它具备的特别功能包括降噪技术、快速充电功能和内置麦克风，支持接听电话。\n",
      "预测成绩: CORRECT\n",
      "\n",
      "例 6:\n",
      "问题: 这款瑜伽垫的尺寸是多少？它的材质是什么？  \n",
      "真实答案: 这款瑜伽垫的尺寸是24英寸 x 68英寸，材质是环保PVC材料。\n",
      "预测答案: 瑜伽垫的尺寸是24'' x 68''，材质是环保PVC材料。\n",
      "预测成绩: CORRECT\n",
      "\n"
     ]
    }
   ],
   "source": [
    "#我们将传入示例和预测，得到一堆分级输出，循环遍历它们打印答案\n",
    "for i, eg in enumerate(examples):\n",
    "    print(f\"例 {i}:\")\n",
    "    print(\"问题: \" + examples[i]['query'])\n",
    "    print(\"真实答案: \" + examples[i]['answer'])\n",
    "    print(\"预测答案: \" + predictions[i]['result'])\n",
    "    print(\"预测成绩: \" + graded_outputs[i]['results'])\n",
    "    print()"
   ]
  },
  {
   "cell_type": "markdown",
   "id": "87ecb476",
   "metadata": {},
   "source": [
    "### 4.4 结果分析\n",
    "对于每个示例，它看起来都是正确的，让我们看看第一个例子。\n",
    "\n",
    "这里的问题是，高清电视机怎么进行护理？真正的答案是使用干布清洁。模型预测的答案也是使用干布清洁。因此，我们可以确认这是一个正确的答案。评估链也将其评为正确。 "
   ]
  },
  {
   "cell_type": "markdown",
   "id": "ede60ced",
   "metadata": {},
   "source": [
    "### 4.5 使用模型评估的优势\n",
    "\n",
    "模型的回答可以是任意字符串，并不存在唯一最优的标准答案。只要不同的变体表达了相同的语义，就应被评为相似。使用正则表达式进行精确匹配会导致语义信息的丧失，许多现有的评估指标尚不完善。目前，<span style=\"color:red\">利用语言模型进行评估</span>是最有趣且最受欢迎的方法之一。"
   ]
  }
 ],
 "metadata": {
  "kernelspec": {
   "display_name": "llm",
   "language": "python",
   "name": "python3"
  },
  "language_info": {
   "codemirror_mode": {
    "name": "ipython",
    "version": 3
   },
   "file_extension": ".py",
   "mimetype": "text/x-python",
   "name": "python",
   "nbconvert_exporter": "python",
   "pygments_lexer": "ipython3",
   "version": "3.11.11"
  },
  "toc": {
   "base_numbering": 1,
   "nav_menu": {},
   "number_sections": false,
   "sideBar": true,
   "skip_h1_title": false,
   "title_cell": "Table of Contents",
   "title_sidebar": "Contents",
   "toc_cell": false,
   "toc_position": {
    "height": "calc(100% - 180px)",
    "left": "10px",
    "top": "150px",
    "width": "261.818px"
   },
   "toc_section_display": true,
   "toc_window_display": true
  }
 },
 "nbformat": 4,
 "nbformat_minor": 5
}
