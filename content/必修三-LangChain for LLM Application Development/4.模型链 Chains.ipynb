{
 "cells": [
  {
   "cell_type": "markdown",
   "id": "52824b89-532a-4e54-87e9-1410813cd39e",
   "metadata": {},
   "source": [
    "# 第四章 模型链\n",
    "\n",
    " - [一、设置OpenAI API Key](#一、设置OpenAI-API-Key)\n",
    " - [二、大语言模型链](#二、大语言模型链)\n",
    "     - [2.1 导入数据](#2.1-导入数据)\n",
    "     - [2.2 初始化语言模型](#2.2-初始化语言模型)\n",
    "     - [2.3 初始化提示模版](#2.3-初始化提示模版)\n",
    "     - [2.4 构建大语言模型链](#2.4-构建大语言模型链)\n",
    "     - [2.5 运行大语言模型链](#2.5-运行大语言模型链)\n",
    "     - [2.6 中文提示](#2.6-中文提示)\n",
    " - [三、顺序链](#三、顺序链)\n",
    "     - [3.1 简单顺序链](#3.1-简单顺序链)\n",
    "         - [3.1.1 创建两个子链](#3.1.1-创建两个子链)\n",
    "         - [3.1.2 构建简单顺序链](#3.1.2-构建简单顺序链)\n",
    "         - [3.1.3 运行简单顺序链](#3.1.3-运行简单顺序链)\n",
    "         - [3.1.4 中文提示](#3.1.4-中文提示)\n",
    "     - [3.2 顺序链](#3.2-顺序链)\n",
    "         - [3.2.1 创建四个子链](#3.2.1-创建四个子链)\n",
    "         - [3.2.2 对四个子链进行组合](#3.2.2-对四个子链进行组合)\n",
    "         - [3.2.3 中文提示](#3.2.3-中文提示)\n",
    " - [四、 路由链](#四、-路由链)\n",
    "     - [4.1 定义提示模板](#4.1-定义提示模板)\n",
    "     - [4.2 对提示模版进行命名和描述](#4.2-对提示模版进行命名和描述)\n",
    "     - [4.3 基于提示模版信息创建相应目标链  ](#4.3-基于提示模版信息创建相应目标链--)\n",
    "     - [4.4 创建默认目标链](#4.4-创建默认目标链)\n",
    "     - [4.5 定义不同链之间的路由模板](#4.5-定义不同链之间的路由模板)\n",
    "     - [4.6 构建路由链](#4.6-构建路由链)\n",
    "     - [4.7 创建整体链路](#4.7-创建整体链路)\n",
    "     - [4.8 进行提问](#4.8-进行提问)\n",
    "     - [4.9 中文提示](#4.9-中文提示)\n"
   ]
  },
  {
   "cell_type": "markdown",
   "id": "54810ef7",
   "metadata": {},
   "source": [
    "链（Chains）通常将大语言模型（LLM）与提示(Prompt)结合在一起，基于此，我们可以对文本或数据进行一系列操作。\n",
    "\n",
    "链（Chains）可以一次性接受多个输入\n",
    "\n",
    "例如，我们可以创建一个链，该链接受用户输入，使用提示模板对其进行格式化，然后将格式化的响应传递给LLM。我们可以通过将多个链组合在一起，或者通过将链与其他组件组合在一起来构建更复杂的链。"
   ]
  },
  {
   "cell_type": "markdown",
   "id": "21009bf6-49bd-466e-8177-74c23533d938",
   "metadata": {
    "tags": []
   },
   "source": [
    "## 一、设置OpenAI API Key"
   ]
  },
  {
   "cell_type": "markdown",
   "id": "a2f5993b-f28d-4be4-984f-2d05be9f4579",
   "metadata": {},
   "source": [
    "登陆 [OpenAI 账户](https://platform.openai.com/account/api-keys) 获取API Key，然后将其设置为环境变量。\n",
    "\n",
    "- 如果你想要设置为全局环境变量，可以参考[知乎文章](https://zhuanlan.zhihu.com/p/627665725)。\n",
    "- 如果你想要设置为本地/项目环境变量，在本文件目录下创建`.env`文件, 打开文件输入以下内容。\n",
    "\n",
    "    <p style=\"font-family:verdana; font-size:12px;color:green\">\n",
    "    OPENAI_API_KEY=\"your_api_key\" \n",
    "    </p>\n",
    "  \n",
    "  替换\"your_api_key\"为你自己的 API Key"
   ]
  },
  {
   "cell_type": "code",
   "execution_count": 1,
   "id": "1ad53241-bef6-42b8-894b-bcbbc8c64df7",
   "metadata": {
    "tags": []
   },
   "outputs": [],
   "source": [
    "import os\n",
    "from openai import OpenAI\n",
    "from dotenv import load_dotenv, find_dotenv\n",
    "\n",
    "# 读取本地/项目的环境变量。\n",
    "\n",
    "# find_dotenv()寻找并定位.env文件的路径\n",
    "# load_dotenv()读取该.env文件，并将其中的环境变量加载到当前的运行环境中  \n",
    "# 如果你设置的是全局的环境变量，这行代码则没有任何作用。\n",
    "_ = load_dotenv(find_dotenv())\n",
    "\n",
    "# 获取环境变量 OPENAI_API_KEY\n",
    "openai_api_key = os.getenv(\"OPENAI_API_KEY\")"
   ]
  },
  {
   "cell_type": "markdown",
   "id": "b940ce7c",
   "metadata": {
    "tags": []
   },
   "source": [
    "## 二、大语言模型链"
   ]
  },
  {
   "cell_type": "markdown",
   "id": "e000bd16",
   "metadata": {},
   "source": [
    "<span style=\"color:red\">大语言模型链(LLMChain)</span>是一个简单但非常强大的链，也是后面我们将要介绍的许多链的基础。"
   ]
  },
  {
   "cell_type": "markdown",
   "id": "d57e93b9-52ba-4f86-a953-e4661b895a3d",
   "metadata": {},
   "source": [
    "### 2.1 导入数据"
   ]
  },
  {
   "cell_type": "code",
   "execution_count": 2,
   "id": "974acf8e-8f88-42de-88f8-40a82cb58e8b",
   "metadata": {},
   "outputs": [],
   "source": [
    "import pandas as pd\n",
    "df = pd.read_csv('data/Data.csv')"
   ]
  },
  {
   "cell_type": "code",
   "execution_count": 3,
   "id": "b7a09c35",
   "metadata": {},
   "outputs": [
    {
     "data": {
      "text/html": [
       "<div>\n",
       "<style scoped>\n",
       "    .dataframe tbody tr th:only-of-type {\n",
       "        vertical-align: middle;\n",
       "    }\n",
       "\n",
       "    .dataframe tbody tr th {\n",
       "        vertical-align: top;\n",
       "    }\n",
       "\n",
       "    .dataframe thead th {\n",
       "        text-align: right;\n",
       "    }\n",
       "</style>\n",
       "<table border=\"1\" class=\"dataframe\">\n",
       "  <thead>\n",
       "    <tr style=\"text-align: right;\">\n",
       "      <th></th>\n",
       "      <th>Product</th>\n",
       "      <th>Review</th>\n",
       "    </tr>\n",
       "  </thead>\n",
       "  <tbody>\n",
       "    <tr>\n",
       "      <th>0</th>\n",
       "      <td>Queen Size Sheet Set</td>\n",
       "      <td>I ordered a king size set. My only criticism w...</td>\n",
       "    </tr>\n",
       "    <tr>\n",
       "      <th>1</th>\n",
       "      <td>Waterproof Phone Pouch</td>\n",
       "      <td>I loved the waterproof sac, although the openi...</td>\n",
       "    </tr>\n",
       "    <tr>\n",
       "      <th>2</th>\n",
       "      <td>Luxury Air Mattress</td>\n",
       "      <td>This mattress had a small hole in the top of i...</td>\n",
       "    </tr>\n",
       "    <tr>\n",
       "      <th>3</th>\n",
       "      <td>Pillows Insert</td>\n",
       "      <td>This is the best throw pillow fillers on Amazo...</td>\n",
       "    </tr>\n",
       "    <tr>\n",
       "      <th>4</th>\n",
       "      <td>Milk Frother Handheld\\n</td>\n",
       "      <td>I loved this product. But they only seem to l...</td>\n",
       "    </tr>\n",
       "  </tbody>\n",
       "</table>\n",
       "</div>"
      ],
      "text/plain": [
       "                   Product                                             Review\n",
       "0     Queen Size Sheet Set  I ordered a king size set. My only criticism w...\n",
       "1   Waterproof Phone Pouch  I loved the waterproof sac, although the openi...\n",
       "2      Luxury Air Mattress  This mattress had a small hole in the top of i...\n",
       "3           Pillows Insert  This is the best throw pillow fillers on Amazo...\n",
       "4  Milk Frother Handheld\\n   I loved this product. But they only seem to l..."
      ]
     },
     "execution_count": 3,
     "metadata": {},
     "output_type": "execute_result"
    }
   ],
   "source": [
    "df.head()"
   ]
  },
  {
   "cell_type": "markdown",
   "id": "daa83d10-04ee-4355-abe3-ab699c9eaca9",
   "metadata": {},
   "source": [
    "### 2.2 初始化语言模型"
   ]
  },
  {
   "cell_type": "code",
   "execution_count": 52,
   "id": "e92dff22",
   "metadata": {},
   "outputs": [],
   "source": [
    "from langchain.chat_models import init_chat_model\n",
    "from langchain.prompts import ChatPromptTemplate  "
   ]
  },
  {
   "cell_type": "code",
   "execution_count": 53,
   "id": "943237a7",
   "metadata": {},
   "outputs": [],
   "source": [
    "# 这里我们将参数temperature设置为0.0，从而减少生成答案的随机性。\n",
    "# 如果你想要每次得到不一样的有新意的答案，可以尝试调整该参数。\n",
    "llm = init_chat_model(\"gpt-4o-mini\", model_provider=\"openai\", temperature=0)"
   ]
  },
  {
   "cell_type": "markdown",
   "id": "81887434",
   "metadata": {},
   "source": [
    "### 2.3 初始化提示模版\n",
    "初始化提示，这个提示将接受一个名为product的变量。该prompt将要求LLM生成一个描述制造该产品的公司的最佳名称"
   ]
  },
  {
   "cell_type": "code",
   "execution_count": 54,
   "id": "cdcdb42d",
   "metadata": {},
   "outputs": [],
   "source": [
    "prompt = ChatPromptTemplate.from_template(   \n",
    "    \"描述制造{product}的一个公司的最佳名称是什么?请用单独一个名称作为回复\"\n",
    ")"
   ]
  },
  {
   "cell_type": "markdown",
   "id": "5c22cb13",
   "metadata": {},
   "source": [
    "### 2.4 构建大语言模型链\n",
    "\n",
    "将大语言模型(LLM)和提示（Prompt）组合成链。这个大语言模型链非常简单，可以让我们以一种顺序的方式去通过运行提示并且结合到大语言模型中。"
   ]
  },
  {
   "cell_type": "markdown",
   "id": "aa3ef297",
   "metadata": {},
   "source": [
    "<span style=\"color:#00ff00\">\n",
    "在Langchain 1.0中，我们使用<code>RunnableSequence</code>来构建大语言模型链，具体通过<code>管道操作符|</code>连接prompt和llm。\n",
    "</span>\n",
    "\n"
   ]
  },
  {
   "cell_type": "code",
   "execution_count": null,
   "id": "d7abc20b",
   "metadata": {},
   "outputs": [],
   "source": [
    "chain = prompt | llm"
   ]
  },
  {
   "cell_type": "markdown",
   "id": "8d7d5ff6",
   "metadata": {},
   "source": [
    "### 2.5 运行大语言模型链\n",
    "因此，如果我们有一个名为\"Queen Size Sheet Set\"的产品，我们可以通过使用chain.run将其通过这个链运行"
   ]
  },
  {
   "cell_type": "markdown",
   "id": "f44539ff",
   "metadata": {},
   "source": [
    "<span style=\"color:#00ff00\">\n",
    "现在需要调用<code>chain.invoke</code>方法，并传入一个字典作为输入，字典的键是提示模板中的变量名，值是具体的变量值。\n",
    "</span>\n",
    "\n",
    "\n"
   ]
  },
  {
   "cell_type": "code",
   "execution_count": 83,
   "id": "ad44d1fb",
   "metadata": {},
   "outputs": [],
   "source": [
    "product = \"大号床单套装\"\n",
    "response = chain.invoke({\"product\": product})"
   ]
  },
  {
   "cell_type": "code",
   "execution_count": 84,
   "id": "89ead377",
   "metadata": {},
   "outputs": [
    {
     "data": {
      "text/plain": [
       "AIMessage(content='梦境床品', additional_kwargs={'refusal': None}, response_metadata={'token_usage': {'completion_tokens': 5, 'prompt_tokens': 30, 'total_tokens': 35, 'completion_tokens_details': {'accepted_prediction_tokens': 0, 'audio_tokens': 0, 'reasoning_tokens': 0, 'rejected_prediction_tokens': 0}, 'prompt_tokens_details': {'audio_tokens': 0, 'cached_tokens': 0}}, 'model_name': 'gpt-4o-mini-2024-07-18', 'system_fingerprint': 'fp_3267753c5d', 'finish_reason': 'stop', 'logprobs': None}, id='run-72d726f5-be2d-45e6-bbaf-c5ee698f243a-0', usage_metadata={'input_tokens': 30, 'output_tokens': 5, 'total_tokens': 35, 'input_token_details': {'audio': 0, 'cache_read': 0}, 'output_token_details': {'audio': 0, 'reasoning': 0}})"
      ]
     },
     "execution_count": 84,
     "metadata": {},
     "output_type": "execute_result"
    }
   ],
   "source": [
    "response"
   ]
  },
  {
   "cell_type": "code",
   "execution_count": 85,
   "id": "aad19d8e",
   "metadata": {},
   "outputs": [
    {
     "data": {
      "text/plain": [
       "'梦境床品'"
      ]
     },
     "execution_count": 85,
     "metadata": {},
     "output_type": "execute_result"
    }
   ],
   "source": [
    "response.content"
   ]
  },
  {
   "cell_type": "markdown",
   "id": "165f54dd",
   "metadata": {},
   "source": [
    "<span style=\"color:#00ff00\">\n",
    "可以在构建chain时，使用<code>StrOutputParser()</code>解析输出，这样chain的输出就是字符串了\n",
    "</span>\n",
    "\n"
   ]
  },
  {
   "cell_type": "code",
   "execution_count": 86,
   "id": "c84f9088",
   "metadata": {},
   "outputs": [],
   "source": [
    "from langchain_core.output_parsers import StrOutputParser\n",
    "\n",
    "chain = prompt | llm | StrOutputParser()\n",
    "\n",
    "product = \"大号床单套装\"\n",
    "response = chain.invoke({\"product\": product})"
   ]
  },
  {
   "cell_type": "code",
   "execution_count": 87,
   "id": "84fcb426",
   "metadata": {},
   "outputs": [
    {
     "data": {
      "text/plain": [
       "'梦享床品'"
      ]
     },
     "execution_count": 87,
     "metadata": {},
     "output_type": "execute_result"
    }
   ],
   "source": [
    "response"
   ]
  },
  {
   "cell_type": "markdown",
   "id": "1e1ede1c",
   "metadata": {},
   "source": [
    "您可以输入任何产品描述，然后查看链将输出什么结果"
   ]
  },
  {
   "cell_type": "markdown",
   "id": "49158430",
   "metadata": {},
   "source": [
    "## 三、顺序链"
   ]
  },
  {
   "cell_type": "markdown",
   "id": "69b03469",
   "metadata": {},
   "source": [
    "### 3.1 简单顺序链\n",
    "\n",
    "顺序链（SequentialChains）是按预定义顺序执行其链接的链。具体来说，我们将使用简单顺序链（SimpleSequentialChain），这是顺序链的最简单类型，其中每个步骤都有<span style=\"color:red\">一个输入/输出</span>，一个步骤的输出是下一个步骤的输入。"
   ]
  },
  {
   "cell_type": "markdown",
   "id": "38ce1b8c",
   "metadata": {},
   "source": [
    "<span style=\"color:#00ff00\">\n",
    "现在，在构建<code>SimpleSequentialChain</code>时，可以直接使用<code>管道连接符|</code>来连接两个chain，这样就可以直接将一个chain的输出作为下一个chain的输入。\n",
    "</span>\n",
    "\n"
   ]
  },
  {
   "cell_type": "code",
   "execution_count": 116,
   "id": "5d019d6f",
   "metadata": {},
   "outputs": [],
   "source": [
    "llm = init_chat_model(\"gpt-4o-mini\", model_provider=\"openai\", temperature=0.9)"
   ]
  },
  {
   "cell_type": "markdown",
   "id": "0e732589",
   "metadata": {},
   "source": [
    "#### 3.1.1 创建两个子链"
   ]
  },
  {
   "cell_type": "code",
   "execution_count": 117,
   "id": "2f31aa8a",
   "metadata": {},
   "outputs": [],
   "source": [
    "# 提示模板 1 ：这个提示将接受产品并返回最佳名称来描述该公司\n",
    "first_prompt = ChatPromptTemplate.from_template(\n",
    "    \"描述制造{product}的一个公司的最佳名称是什么?请用单独一个名称作为回复\"\n",
    ")\n",
    "\n",
    "# Chain 1\n",
    "chain_one = first_prompt | llm"
   ]
  },
  {
   "cell_type": "code",
   "execution_count": 118,
   "id": "3f5d5b76",
   "metadata": {},
   "outputs": [],
   "source": [
    "\n",
    "# 提示模板 2 ：接受公司名称，然后输出该公司的长为20个单词的描述\n",
    "second_prompt = ChatPromptTemplate.from_template(\n",
    "        \"写一个20字的描述，对于下面这个公司：{company_name}\"\n",
    ")\n",
    "# chain 2\n",
    "chain_two = second_prompt | llm"
   ]
  },
  {
   "cell_type": "markdown",
   "id": "3a1991f4",
   "metadata": {},
   "source": [
    "#### 3.1.2 构建简单顺序链\n",
    "现在我们可以组合两个LLMChain，以便我们可以在一个步骤中创建公司名称和描述"
   ]
  },
  {
   "cell_type": "code",
   "execution_count": 119,
   "id": "6c1eb2c4",
   "metadata": {},
   "outputs": [],
   "source": [
    "# 使用新的管道风格连接链\n",
    "overall_simple_chain = chain_one | chain_two "
   ]
  },
  {
   "cell_type": "code",
   "execution_count": 125,
   "id": "0e8bbec3",
   "metadata": {},
   "outputs": [
    {
     "data": {
      "text/plain": [
       "langchain_core.runnables.base.RunnableSequence"
      ]
     },
     "execution_count": 125,
     "metadata": {},
     "output_type": "execute_result"
    }
   ],
   "source": [
    "type(overall_simple_chain)"
   ]
  },
  {
   "cell_type": "markdown",
   "id": "5b9ffdad",
   "metadata": {},
   "source": [
    "#### 3.1.3 运行简单顺序链\n"
   ]
  },
  {
   "cell_type": "markdown",
   "id": "823cf0ab",
   "metadata": {},
   "source": [
    "<span style=\"color:#00ff00\">\n",
    "现在，构建好的简单顺序链是一个<code>RunnableSequence对象</code>，需要通过<code>invoke</code>方法来运行。此外，\n",
    "不能直接通过设置参数verbose=True来打印日志，需要使用<code>ConsoleCallbackHandler</code>来打印日志。\n",
    "</span>"
   ]
  },
  {
   "cell_type": "code",
   "execution_count": 120,
   "id": "e12a4611",
   "metadata": {},
   "outputs": [
    {
     "name": "stdout",
     "output_type": "stream",
     "text": [
      "\u001b[32;1m\u001b[1;3m[chain/start]\u001b[0m \u001b[1m[chain:RunnableSequence] Entering Chain run with input:\n",
      "\u001b[0m{\n",
      "  \"product\": \"大号床单套装\"\n",
      "}\n",
      "\u001b[32;1m\u001b[1;3m[chain/start]\u001b[0m \u001b[1m[chain:RunnableSequence > prompt:ChatPromptTemplate] Entering Prompt run with input:\n",
      "\u001b[0m{\n",
      "  \"product\": \"大号床单套装\"\n",
      "}\n",
      "\u001b[36;1m\u001b[1;3m[chain/end]\u001b[0m \u001b[1m[chain:RunnableSequence > prompt:ChatPromptTemplate] [0ms] Exiting Prompt run with output:\n",
      "\u001b[0m[outputs]\n",
      "\u001b[32;1m\u001b[1;3m[llm/start]\u001b[0m \u001b[1m[chain:RunnableSequence > llm:ChatOpenAI] Entering LLM run with input:\n",
      "\u001b[0m{\n",
      "  \"prompts\": [\n",
      "    \"Human: 描述制造大号床单套装的一个公司的最佳名称是什么?请用单独一个名称作为回复\"\n",
      "  ]\n",
      "}\n",
      "\u001b[36;1m\u001b[1;3m[llm/end]\u001b[0m \u001b[1m[chain:RunnableSequence > llm:ChatOpenAI] [1.42s] Exiting LLM run with output:\n",
      "\u001b[0m{\n",
      "  \"generations\": [\n",
      "    [\n",
      "      {\n",
      "        \"text\": \"舒适之家\",\n",
      "        \"generation_info\": {\n",
      "          \"finish_reason\": \"stop\",\n",
      "          \"logprobs\": null\n",
      "        },\n",
      "        \"type\": \"ChatGeneration\",\n",
      "        \"message\": {\n",
      "          \"lc\": 1,\n",
      "          \"type\": \"constructor\",\n",
      "          \"id\": [\n",
      "            \"langchain\",\n",
      "            \"schema\",\n",
      "            \"messages\",\n",
      "            \"AIMessage\"\n",
      "          ],\n",
      "          \"kwargs\": {\n",
      "            \"content\": \"舒适之家\",\n",
      "            \"additional_kwargs\": {\n",
      "              \"refusal\": null\n",
      "            },\n",
      "            \"response_metadata\": {\n",
      "              \"token_usage\": {\n",
      "                \"completion_tokens\": 4,\n",
      "                \"prompt_tokens\": 30,\n",
      "                \"total_tokens\": 34,\n",
      "                \"completion_tokens_details\": {\n",
      "                  \"accepted_prediction_tokens\": 0,\n",
      "                  \"audio_tokens\": 0,\n",
      "                  \"reasoning_tokens\": 0,\n",
      "                  \"rejected_prediction_tokens\": 0\n",
      "                },\n",
      "                \"prompt_tokens_details\": {\n",
      "                  \"audio_tokens\": 0,\n",
      "                  \"cached_tokens\": 0\n",
      "                }\n",
      "              },\n",
      "              \"model_name\": \"gpt-4o-mini-2024-07-18\",\n",
      "              \"system_fingerprint\": \"fp_3267753c5d\",\n",
      "              \"finish_reason\": \"stop\",\n",
      "              \"logprobs\": null\n",
      "            },\n",
      "            \"type\": \"ai\",\n",
      "            \"id\": \"run-fbb59b99-4c50-4793-81d6-c48cc85d95a0-0\",\n",
      "            \"usage_metadata\": {\n",
      "              \"input_tokens\": 30,\n",
      "              \"output_tokens\": 4,\n",
      "              \"total_tokens\": 34,\n",
      "              \"input_token_details\": {\n",
      "                \"audio\": 0,\n",
      "                \"cache_read\": 0\n",
      "              },\n",
      "              \"output_token_details\": {\n",
      "                \"audio\": 0,\n",
      "                \"reasoning\": 0\n",
      "              }\n",
      "            },\n",
      "            \"tool_calls\": [],\n",
      "            \"invalid_tool_calls\": []\n",
      "          }\n",
      "        }\n",
      "      }\n",
      "    ]\n",
      "  ],\n",
      "  \"llm_output\": {\n",
      "    \"token_usage\": {\n",
      "      \"completion_tokens\": 4,\n",
      "      \"prompt_tokens\": 30,\n",
      "      \"total_tokens\": 34,\n",
      "      \"completion_tokens_details\": {\n",
      "        \"accepted_prediction_tokens\": 0,\n",
      "        \"audio_tokens\": 0,\n",
      "        \"reasoning_tokens\": 0,\n",
      "        \"rejected_prediction_tokens\": 0\n",
      "      },\n",
      "      \"prompt_tokens_details\": {\n",
      "        \"audio_tokens\": 0,\n",
      "        \"cached_tokens\": 0\n",
      "      }\n",
      "    },\n",
      "    \"model_name\": \"gpt-4o-mini-2024-07-18\",\n",
      "    \"system_fingerprint\": \"fp_3267753c5d\"\n",
      "  },\n",
      "  \"run\": null,\n",
      "  \"type\": \"LLMResult\"\n",
      "}\n",
      "\u001b[32;1m\u001b[1;3m[chain/start]\u001b[0m \u001b[1m[chain:RunnableSequence > prompt:ChatPromptTemplate] Entering Prompt run with input:\n",
      "\u001b[0m[inputs]\n",
      "\u001b[36;1m\u001b[1;3m[chain/end]\u001b[0m \u001b[1m[chain:RunnableSequence > prompt:ChatPromptTemplate] [1ms] Exiting Prompt run with output:\n",
      "\u001b[0m[outputs]\n",
      "\u001b[32;1m\u001b[1;3m[llm/start]\u001b[0m \u001b[1m[chain:RunnableSequence > llm:ChatOpenAI] Entering LLM run with input:\n",
      "\u001b[0m{\n",
      "  \"prompts\": [\n",
      "    \"Human: 写一个20字的描述，对于下面这个公司：content='舒适之家' additional_kwargs={'refusal': None} response_metadata={'token_usage': {'completion_tokens': 4, 'prompt_tokens': 30, 'total_tokens': 34, 'completion_tokens_details': {'accepted_prediction_tokens': 0, 'audio_tokens': 0, 'reasoning_tokens': 0, 'rejected_prediction_tokens': 0}, 'prompt_tokens_details': {'audio_tokens': 0, 'cached_tokens': 0}}, 'model_name': 'gpt-4o-mini-2024-07-18', 'system_fingerprint': 'fp_3267753c5d', 'finish_reason': 'stop', 'logprobs': None} id='run-fbb59b99-4c50-4793-81d6-c48cc85d95a0-0' usage_metadata={'input_tokens': 30, 'output_tokens': 4, 'total_tokens': 34, 'input_token_details': {'audio': 0, 'cache_read': 0}, 'output_token_details': {'audio': 0, 'reasoning': 0}}\"\n",
      "  ]\n",
      "}\n",
      "\u001b[36;1m\u001b[1;3m[llm/end]\u001b[0m \u001b[1m[chain:RunnableSequence > llm:ChatOpenAI] [992ms] Exiting LLM run with output:\n",
      "\u001b[0m{\n",
      "  \"generations\": [\n",
      "    [\n",
      "      {\n",
      "        \"text\": \"舒适之家，致力于提供温馨舒适的居住环境，让每位客户享受家的温暖与安心。\",\n",
      "        \"generation_info\": {\n",
      "          \"finish_reason\": \"stop\",\n",
      "          \"logprobs\": null\n",
      "        },\n",
      "        \"type\": \"ChatGeneration\",\n",
      "        \"message\": {\n",
      "          \"lc\": 1,\n",
      "          \"type\": \"constructor\",\n",
      "          \"id\": [\n",
      "            \"langchain\",\n",
      "            \"schema\",\n",
      "            \"messages\",\n",
      "            \"AIMessage\"\n",
      "          ],\n",
      "          \"kwargs\": {\n",
      "            \"content\": \"舒适之家，致力于提供温馨舒适的居住环境，让每位客户享受家的温暖与安心。\",\n",
      "            \"additional_kwargs\": {\n",
      "              \"refusal\": null\n",
      "            },\n",
      "            \"response_metadata\": {\n",
      "              \"token_usage\": {\n",
      "                \"completion_tokens\": 29,\n",
      "                \"prompt_tokens\": 252,\n",
      "                \"total_tokens\": 281,\n",
      "                \"completion_tokens_details\": {\n",
      "                  \"accepted_prediction_tokens\": 0,\n",
      "                  \"audio_tokens\": 0,\n",
      "                  \"reasoning_tokens\": 0,\n",
      "                  \"rejected_prediction_tokens\": 0\n",
      "                },\n",
      "                \"prompt_tokens_details\": {\n",
      "                  \"audio_tokens\": 0,\n",
      "                  \"cached_tokens\": 0\n",
      "                }\n",
      "              },\n",
      "              \"model_name\": \"gpt-4o-mini-2024-07-18\",\n",
      "              \"system_fingerprint\": \"fp_06737a9306\",\n",
      "              \"finish_reason\": \"stop\",\n",
      "              \"logprobs\": null\n",
      "            },\n",
      "            \"type\": \"ai\",\n",
      "            \"id\": \"run-0573c2f6-df97-47d0-9724-0bfc1d4d1b34-0\",\n",
      "            \"usage_metadata\": {\n",
      "              \"input_tokens\": 252,\n",
      "              \"output_tokens\": 29,\n",
      "              \"total_tokens\": 281,\n",
      "              \"input_token_details\": {\n",
      "                \"audio\": 0,\n",
      "                \"cache_read\": 0\n",
      "              },\n",
      "              \"output_token_details\": {\n",
      "                \"audio\": 0,\n",
      "                \"reasoning\": 0\n",
      "              }\n",
      "            },\n",
      "            \"tool_calls\": [],\n",
      "            \"invalid_tool_calls\": []\n",
      "          }\n",
      "        }\n",
      "      }\n",
      "    ]\n",
      "  ],\n",
      "  \"llm_output\": {\n",
      "    \"token_usage\": {\n",
      "      \"completion_tokens\": 29,\n",
      "      \"prompt_tokens\": 252,\n",
      "      \"total_tokens\": 281,\n",
      "      \"completion_tokens_details\": {\n",
      "        \"accepted_prediction_tokens\": 0,\n",
      "        \"audio_tokens\": 0,\n",
      "        \"reasoning_tokens\": 0,\n",
      "        \"rejected_prediction_tokens\": 0\n",
      "      },\n",
      "      \"prompt_tokens_details\": {\n",
      "        \"audio_tokens\": 0,\n",
      "        \"cached_tokens\": 0\n",
      "      }\n",
      "    },\n",
      "    \"model_name\": \"gpt-4o-mini-2024-07-18\",\n",
      "    \"system_fingerprint\": \"fp_06737a9306\"\n",
      "  },\n",
      "  \"run\": null,\n",
      "  \"type\": \"LLMResult\"\n",
      "}\n",
      "\u001b[36;1m\u001b[1;3m[chain/end]\u001b[0m \u001b[1m[chain:RunnableSequence] [2.42s] Exiting Chain run with output:\n",
      "\u001b[0m[outputs]\n"
     ]
    }
   ],
   "source": [
    "from langchain_core.tracers.stdout import ConsoleCallbackHandler\n",
    "\n",
    "callbacks = [ConsoleCallbackHandler()]\n",
    "\n",
    "product = \"大号床单套装\"\n",
    "response = overall_simple_chain.invoke(\n",
    "    {\"product\": product}, \n",
    "    config={\"callbacks\": callbacks, \"verbose\": True}  # 注意：verbose在这里是传递给回调的参数\n",
    ")"
   ]
  },
  {
   "cell_type": "code",
   "execution_count": 126,
   "id": "3ddedbda",
   "metadata": {},
   "outputs": [
    {
     "data": {
      "text/plain": [
       "'舒适之家，致力于提供温馨舒适的居住环境，让每位客户享受家的温暖与安心。'"
      ]
     },
     "execution_count": 126,
     "metadata": {},
     "output_type": "execute_result"
    }
   ],
   "source": [
    "response.content"
   ]
  },
  {
   "cell_type": "markdown",
   "id": "3983eb68-adf0-4c18-beed-ff6fc09cd78b",
   "metadata": {},
   "source": [
    "#### 3.1.4 中文提示<span style=\"color:#00ff00\">（使用旧版API）</span>"
   ]
  },
  {
   "cell_type": "code",
   "execution_count": 127,
   "id": "c7c32997",
   "metadata": {},
   "outputs": [
    {
     "name": "stdout",
     "output_type": "stream",
     "text": [
      "\n",
      "\n",
      "\u001b[1m> Entering new SimpleSequentialChain chain...\u001b[0m\n",
      "\u001b[36;1m\u001b[1;3m床梦工坊\u001b[0m\n",
      "\u001b[33;1m\u001b[1;3m床梦工坊专注于优质床垫与寝具，致力于为每位客户提供舒适、健康的睡眠体验。\u001b[0m\n",
      "\n",
      "\u001b[1m> Finished chain.\u001b[0m\n"
     ]
    },
    {
     "data": {
      "text/plain": [
       "'床梦工坊专注于优质床垫与寝具，致力于为每位客户提供舒适、健康的睡眠体验。'"
      ]
     },
     "execution_count": 127,
     "metadata": {},
     "output_type": "execute_result"
    }
   ],
   "source": [
    "from langchain.chains.llm import LLMChain   \n",
    "from langchain.chains.sequential import SimpleSequentialChain\n",
    "\n",
    "\n",
    "first_prompt = ChatPromptTemplate.from_template(   \n",
    "    \"描述制造{product}的一个公司的最好的名称是什么,请用单独一个名称作为回复\"\n",
    ")\n",
    "chain_one = LLMChain(llm=llm, prompt=first_prompt, output_key=\"company_name\")\n",
    "\n",
    "second_prompt = ChatPromptTemplate.from_template(   \n",
    "    \"写一个20字的描述对于下面这个\\\n",
    "    公司：{company_name}的\"\n",
    ")\n",
    "chain_two = LLMChain(llm=llm, prompt=second_prompt)\n",
    "\n",
    "\n",
    "overall_simple_chain = SimpleSequentialChain(chains=[chain_one, chain_two],verbose=True)\n",
    "product = \"大号床单套装\"\n",
    "overall_simple_chain.run(product)"
   ]
  },
  {
   "cell_type": "markdown",
   "id": "7b5ce18c",
   "metadata": {},
   "source": [
    "### 3.2 顺序链"
   ]
  },
  {
   "cell_type": "markdown",
   "id": "1e69f4c0",
   "metadata": {},
   "source": [
    "当只有一个输入和一个输出时，简单顺序链（SimpleSequentialChain）即可实现。当有<span style=\"color:red\">多个输入或多个输出</span>时，我们则需要使用顺序链（SequentialChain）来实现。"
   ]
  },
  {
   "cell_type": "code",
   "execution_count": 158,
   "id": "03a8e203",
   "metadata": {},
   "outputs": [],
   "source": [
    "llm = init_chat_model(\"gpt-4o-mini\", model_provider=\"openai\", temperature=0.9)"
   ]
  },
  {
   "cell_type": "markdown",
   "id": "2d9c6259",
   "metadata": {},
   "source": [
    "<span style=\"color:#00ff00\">\n",
    "接下来我将分别采用longchain的新版api和旧版api来实现顺序链。以作为对比。\n",
    "</span>\n"
   ]
  },
  {
   "cell_type": "markdown",
   "id": "269c14a0",
   "metadata": {},
   "source": [
    "### 3.2.1 新版API"
   ]
  },
  {
   "cell_type": "markdown",
   "id": "df9e87ec-b99a-4130-a5b5-cdce064dc6ca",
   "metadata": {},
   "source": [
    "<span style=\"color:#00ff00\">\n",
    "我们首先创建四个子链\n",
    "</span>"
   ]
  },
  {
   "cell_type": "code",
   "execution_count": 196,
   "id": "016187ac",
   "metadata": {},
   "outputs": [],
   "source": [
    "#子链1\n",
    "# prompt模板 1: 翻译成英语（把下面的review翻译成英语）\n",
    "first_prompt = ChatPromptTemplate.from_template(\n",
    "    \"把下面的评论review翻译成英文:\"\n",
    "    \"\\n\\n{Review}\"\n",
    ")\n",
    "# chain 1: 输入：Review    输出：英文的 Review\n",
    "chain_one = first_prompt | llm | StrOutputParser()\n",
    "\n",
    "#子链2\n",
    "# prompt模板 2: 用一句话总结下面的 review\n",
    "second_prompt = ChatPromptTemplate.from_template(\n",
    "    \"请你用一句话来总结下面的评论review:\"\n",
    "    \"\\n\\n{English_Review}\"\n",
    ")\n",
    "# chain 2: 输入：英文的Review   输出：总结\n",
    "chain_two = second_prompt | llm | StrOutputParser()\n",
    "\n",
    "#子链3\n",
    "# prompt模板 3: 下面review使用的什么语言\n",
    "third_prompt = ChatPromptTemplate.from_template(\n",
    "    \"下面的评论review使用的什么语言:\\n\\n{Review}\"\n",
    ")\n",
    "# chain 3: 输入：Review  输出：语言\n",
    "chain_three = third_prompt | llm | StrOutputParser()\n",
    "\n",
    "#子链4\n",
    "# prompt模板 4: 使用特定的语言对下面的总结写一个后续回复\n",
    "fourth_prompt = ChatPromptTemplate.from_template(\n",
    "    \"使用特定的语言对下面的总结写一个后续回复:\"\n",
    "    \"\\n\\n总结: {summary}\\n\\n语言: {language}\"\n",
    ")\n",
    "# chain 4: 输入： 总结, 语言    输出： 后续回复\n",
    "chain_four = fourth_prompt | llm | StrOutputParser()"
   ]
  },
  {
   "cell_type": "markdown",
   "id": "ff435291-5d20-4c3e-9ed7-76a1140f96d2",
   "metadata": {},
   "source": [
    "<span style=\"color:#00ff00\">\n",
    "接下来我们对四个子链进行组合\n",
    "</span>"
   ]
  },
  {
   "cell_type": "code",
   "execution_count": 197,
   "id": "89603117",
   "metadata": {},
   "outputs": [],
   "source": [
    "from langchain_core.runnables import RunnableParallel\n",
    "from operator import itemgetter\n",
    "\n",
    "# 输入：review    \n",
    "# 输出：英文review，总结，后续回复 \n",
    "# 构建完整的管道式链\n",
    "\n",
    "\n",
    "# 提取评论\n",
    "review_getter = itemgetter(\"Review\")\n",
    "\n",
    "# 英文翻译处理链\n",
    "english_review_chain = chain_one \n",
    "\n",
    "# 摘要处理流程\n",
    "summary_chain = RunnableParallel({ \"English_Review\": english_review_chain}) | chain_two | StrOutputParser()\n",
    "\n",
    "# 后续回复处理流程\n",
    "followup_chain = RunnableParallel({\"summary\": summary_chain,\"language\": chain_three }) | chain_four | StrOutputParser()\n",
    "\n",
    "# 最终链 - 只包含四个指定字段\n",
    "final_chain = RunnableParallel({\n",
    "    \"Review\": review_getter,\n",
    "    \"English_Review\": english_review_chain,\n",
    "    \"summary\": summary_chain,\n",
    "    \"followup_message\": followup_chain\n",
    "})\n"
   ]
  },
  {
   "cell_type": "markdown",
   "id": "404e4264",
   "metadata": {},
   "source": [
    "<span style=\"color:#00ff00\">\n",
    "这里有两点需要注意：\n",
    "<br>1. 我们使用<code>itemgetter</code>来提取输入中的\"Review\"字段。\n",
    "<br>2. 我们使用<code>RunnableParallel</code>来组合子链，这样可以并行处理多个输入。<code>RunnableParallel</code>将输出一个字典，其中字典的键通过参数字典指定，字典的值为子链的输出。\n",
    "</span>"
   ]
  },
  {
   "cell_type": "code",
   "execution_count": 198,
   "id": "ee64b6d2",
   "metadata": {},
   "outputs": [
    {
     "data": {
      "text/plain": [
       "{'English_Review': \"I find the taste mediocre. The mousse doesn't hold, it's strange. I buy the same ones in stores and the taste is much better...  \\nOld batch or counterfeit!?\",\n",
       " 'language': '这段评论是用法语写的。'}"
      ]
     },
     "execution_count": 198,
     "metadata": {},
     "output_type": "execute_result"
    }
   ],
   "source": [
    "example_chain =  RunnableParallel({\"English_Review\": chain_one,\"language\": chain_three})\n",
    "\n",
    "review = df.Review[5]\n",
    "example_chain.invoke({\"Review\": review})"
   ]
  },
  {
   "cell_type": "markdown",
   "id": "0509de01",
   "metadata": {},
   "source": [
    "让我们选择一篇评论并通过整个链传递它，可以发现，原始review是法语，可以把英文review看做是一种翻译，接下来是根据英文review得到的总结，最后输出的是用法语原文进行的续写信息。"
   ]
  },
  {
   "cell_type": "code",
   "execution_count": 199,
   "id": "51b04f45",
   "metadata": {},
   "outputs": [
    {
     "data": {
      "text/plain": [
       "{'Review': \"Je trouve le goût médiocre. La mousse ne tient pas, c'est bizarre. J'achète les mêmes dans le commerce et le goût est bien meilleur...\\nVieux lot ou contrefaçon !?\",\n",
       " 'English_Review': \"I find the taste mediocre. The mousse doesn't hold, it's strange. I buy the same ones in stores and the taste is much better...  \\nOld batch or counterfeit!?\",\n",
       " 'summary': '评论者认为这款慕斯味道平庸，且质地不佳，怀疑可能是过期或假冒产品。',\n",
       " 'followup_message': \"回复：\\n\\nBonjour,\\n\\nMerci d'avoir pris le temps de partager vos impressions sur notre produit. Nous sommes désolés d'apprendre que la mousse n'a pas répondu à vos attentes et que vous avez eu des doutes sur sa qualité. Votre retour est très important pour nous, et nous allons l'examiner de près. \\n\\nNous nous engageons à offrir des produits de la plus haute qualité et nous serions ravis de vous aider à trouver une solution. Pourriez-vous nous donner plus de détails sur votre achat, comme le numéro du lot ? Cela nous permettra de mieux comprendre la situation.\\n\\nMerci encore pour vos commentaires, et nous espérons avoir de vos nouvelles bientôt.\\n\\nCordialement,  \\n[Votre Nom]  \\n[Votre Entreprise]\"}"
      ]
     },
     "execution_count": 199,
     "metadata": {},
     "output_type": "execute_result"
    }
   ],
   "source": [
    "review = df.Review[5]\n",
    "final_chain.invoke({\"Review\": review})"
   ]
  },
  {
   "cell_type": "markdown",
   "id": "0d3839de",
   "metadata": {},
   "source": [
    "<span style=\"color:#00ff00\">\n",
    "同样可以打印日志\n",
    "</span>\n"
   ]
  },
  {
   "cell_type": "code",
   "execution_count": 200,
   "id": "0a9555d9",
   "metadata": {},
   "outputs": [
    {
     "name": "stdout",
     "output_type": "stream",
     "text": [
      "\u001b[32;1m\u001b[1;3m[chain/start]\u001b[0m \u001b[1m[chain:RunnableParallel<Review,English_Review,summary,followup_message>] Entering Chain run with input:\n",
      "\u001b[0m{\n",
      "  \"Review\": \"Je trouve le goût médiocre. La mousse ne tient pas, c'est bizarre. J'achète les mêmes dans le commerce et le goût est bien meilleur...\\nVieux lot ou contrefaçon !?\"\n",
      "}\n",
      "\u001b[32;1m\u001b[1;3m[chain/start]\u001b[0m \u001b[1m[chain:RunnableParallel<Review,English_Review,summary,followup_message> > chain:RunnableLambda] Entering Chain run with input:\n",
      "\u001b[0m{\n",
      "  \"Review\": \"Je trouve le goût médiocre. La mousse ne tient pas, c'est bizarre. J'achète les mêmes dans le commerce et le goût est bien meilleur...\\nVieux lot ou contrefaçon !?\"\n",
      "}\n",
      "\u001b[36;1m\u001b[1;3m[chain/end]\u001b[0m \u001b[1m[chain:RunnableParallel<Review,English_Review,summary,followup_message> > chain:RunnableLambda] [0ms] Exiting Chain run with output:\n",
      "\u001b[0m{\n",
      "  \"output\": \"Je trouve le goût médiocre. La mousse ne tient pas, c'est bizarre. J'achète les mêmes dans le commerce et le goût est bien meilleur...\\nVieux lot ou contrefaçon !?\"\n",
      "}\n",
      "\u001b[32;1m\u001b[1;3m[chain/start]\u001b[0m \u001b[1m[chain:RunnableParallel<Review,English_Review,summary,followup_message> > chain:RunnableSequence] Entering Chain run with input:\n",
      "\u001b[0m{\n",
      "  \"Review\": \"Je trouve le goût médiocre. La mousse ne tient pas, c'est bizarre. J'achète les mêmes dans le commerce et le goût est bien meilleur...\\nVieux lot ou contrefaçon !?\"\n",
      "}\n",
      "\u001b[32;1m\u001b[1;3m[chain/start]\u001b[0m \u001b[1m[chain:RunnableParallel<Review,English_Review,summary,followup_message> > chain:RunnableSequence > prompt:ChatPromptTemplate] Entering Prompt run with input:\n",
      "\u001b[0m{\n",
      "  \"Review\": \"Je trouve le goût médiocre. La mousse ne tient pas, c'est bizarre. J'achète les mêmes dans le commerce et le goût est bien meilleur...\\nVieux lot ou contrefaçon !?\"\n",
      "}\n",
      "\u001b[36;1m\u001b[1;3m[chain/end]\u001b[0m \u001b[1m[chain:RunnableParallel<Review,English_Review,summary,followup_message> > chain:RunnableSequence > prompt:ChatPromptTemplate] [0ms] Exiting Prompt run with output:\n",
      "\u001b[0m[outputs]\n",
      "\u001b[32;1m\u001b[1;3m[llm/start]\u001b[0m \u001b[1m[chain:RunnableParallel<Review,English_Review,summary,followup_message> > chain:RunnableSequence > llm:ChatOpenAI] Entering LLM run with input:\n",
      "\u001b[0m{\n",
      "  \"prompts\": [\n",
      "    \"Human: 把下面的评论review翻译成英文:\\n\\nJe trouve le goût médiocre. La mousse ne tient pas, c'est bizarre. J'achète les mêmes dans le commerce et le goût est bien meilleur...\\nVieux lot ou contrefaçon !?\"\n",
      "  ]\n",
      "}\n",
      "\u001b[32;1m\u001b[1;3m[chain/start]\u001b[0m \u001b[1m[chain:RunnableParallel<Review,English_Review,summary,followup_message> > chain:RunnableSequence] Entering Chain run with input:\n",
      "\u001b[0m{\n",
      "  \"Review\": \"Je trouve le goût médiocre. La mousse ne tient pas, c'est bizarre. J'achète les mêmes dans le commerce et le goût est bien meilleur...\\nVieux lot ou contrefaçon !?\"\n",
      "}\n",
      "\u001b[32;1m\u001b[1;3m[chain/start]\u001b[0m \u001b[1m[chain:RunnableParallel<Review,English_Review,summary,followup_message> > chain:RunnableSequence > chain:RunnableParallel<English_Review>] Entering Chain run with input:\n",
      "\u001b[0m{\n",
      "  \"Review\": \"Je trouve le goût médiocre. La mousse ne tient pas, c'est bizarre. J'achète les mêmes dans le commerce et le goût est bien meilleur...\\nVieux lot ou contrefaçon !?\"\n",
      "}\n",
      "\u001b[32;1m\u001b[1;3m[chain/start]\u001b[0m \u001b[1m[chain:RunnableParallel<Review,English_Review,summary,followup_message> > chain:RunnableSequence] Entering Chain run with input:\n",
      "\u001b[0m{\n",
      "  \"Review\": \"Je trouve le goût médiocre. La mousse ne tient pas, c'est bizarre. J'achète les mêmes dans le commerce et le goût est bien meilleur...\\nVieux lot ou contrefaçon !?\"\n",
      "}\n",
      "\u001b[32;1m\u001b[1;3m[chain/start]\u001b[0m \u001b[1m[chain:RunnableParallel<Review,English_Review,summary,followup_message> > chain:RunnableSequence > chain:RunnableParallel<summary,language>] Entering Chain run with input:\n",
      "\u001b[0m{\n",
      "  \"Review\": \"Je trouve le goût médiocre. La mousse ne tient pas, c'est bizarre. J'achète les mêmes dans le commerce et le goût est bien meilleur...\\nVieux lot ou contrefaçon !?\"\n",
      "}\n",
      "\u001b[32;1m\u001b[1;3m[chain/start]\u001b[0m \u001b[1m[chain:RunnableParallel<Review,English_Review,summary,followup_message> > chain:RunnableSequence > chain:RunnableParallel<English_Review> > chain:RunnableSequence] Entering Chain run with input:\n",
      "\u001b[0m{\n",
      "  \"Review\": \"Je trouve le goût médiocre. La mousse ne tient pas, c'est bizarre. J'achète les mêmes dans le commerce et le goût est bien meilleur...\\nVieux lot ou contrefaçon !?\"\n",
      "}\n",
      "\u001b[32;1m\u001b[1;3m[chain/start]\u001b[0m \u001b[1m[chain:RunnableParallel<Review,English_Review,summary,followup_message> > chain:RunnableSequence > chain:RunnableParallel<English_Review> > chain:RunnableSequence > prompt:ChatPromptTemplate] Entering Prompt run with input:\n",
      "\u001b[0m{\n",
      "  \"Review\": \"Je trouve le goût médiocre. La mousse ne tient pas, c'est bizarre. J'achète les mêmes dans le commerce et le goût est bien meilleur...\\nVieux lot ou contrefaçon !?\"\n",
      "}\n",
      "\u001b[36;1m\u001b[1;3m[chain/end]\u001b[0m \u001b[1m[chain:RunnableParallel<Review,English_Review,summary,followup_message> > chain:RunnableSequence > chain:RunnableParallel<English_Review> > chain:RunnableSequence > prompt:ChatPromptTemplate] [0ms] Exiting Prompt run with output:\n",
      "\u001b[0m[outputs]\n",
      "\u001b[32;1m\u001b[1;3m[llm/start]\u001b[0m \u001b[1m[chain:RunnableParallel<Review,English_Review,summary,followup_message> > chain:RunnableSequence > chain:RunnableParallel<English_Review> > chain:RunnableSequence > llm:ChatOpenAI] Entering LLM run with input:\n",
      "\u001b[0m{\n",
      "  \"prompts\": [\n",
      "    \"Human: 把下面的评论review翻译成英文:\\n\\nJe trouve le goût médiocre. La mousse ne tient pas, c'est bizarre. J'achète les mêmes dans le commerce et le goût est bien meilleur...\\nVieux lot ou contrefaçon !?\"\n",
      "  ]\n",
      "}\n",
      "\u001b[32;1m\u001b[1;3m[chain/start]\u001b[0m \u001b[1m[chain:RunnableParallel<Review,English_Review,summary,followup_message> > chain:RunnableSequence > chain:RunnableParallel<summary,language> > chain:RunnableSequence] Entering Chain run with input:\n",
      "\u001b[0m{\n",
      "  \"Review\": \"Je trouve le goût médiocre. La mousse ne tient pas, c'est bizarre. J'achète les mêmes dans le commerce et le goût est bien meilleur...\\nVieux lot ou contrefaçon !?\"\n",
      "}\n",
      "\u001b[32;1m\u001b[1;3m[chain/start]\u001b[0m \u001b[1m[chain:RunnableParallel<Review,English_Review,summary,followup_message> > chain:RunnableSequence > chain:RunnableParallel<summary,language> > chain:RunnableSequence > chain:RunnableParallel<English_Review>] Entering Chain run with input:\n",
      "\u001b[0m{\n",
      "  \"Review\": \"Je trouve le goût médiocre. La mousse ne tient pas, c'est bizarre. J'achète les mêmes dans le commerce et le goût est bien meilleur...\\nVieux lot ou contrefaçon !?\"\n",
      "}\n",
      "\u001b[32;1m\u001b[1;3m[chain/start]\u001b[0m \u001b[1m[chain:RunnableParallel<Review,English_Review,summary,followup_message> > chain:RunnableSequence > chain:RunnableParallel<summary,language> > chain:RunnableSequence] Entering Chain run with input:\n",
      "\u001b[0m{\n",
      "  \"Review\": \"Je trouve le goût médiocre. La mousse ne tient pas, c'est bizarre. J'achète les mêmes dans le commerce et le goût est bien meilleur...\\nVieux lot ou contrefaçon !?\"\n",
      "}\n",
      "\u001b[32;1m\u001b[1;3m[chain/start]\u001b[0m \u001b[1m[chain:RunnableParallel<Review,English_Review,summary,followup_message> > chain:RunnableSequence > chain:RunnableParallel<summary,language> > chain:RunnableSequence > prompt:ChatPromptTemplate] Entering Prompt run with input:\n",
      "\u001b[0m{\n",
      "  \"Review\": \"Je trouve le goût médiocre. La mousse ne tient pas, c'est bizarre. J'achète les mêmes dans le commerce et le goût est bien meilleur...\\nVieux lot ou contrefaçon !?\"\n",
      "}\n",
      "\u001b[36;1m\u001b[1;3m[chain/end]\u001b[0m \u001b[1m[chain:RunnableParallel<Review,English_Review,summary,followup_message> > chain:RunnableSequence > chain:RunnableParallel<summary,language> > chain:RunnableSequence > prompt:ChatPromptTemplate] [0ms] Exiting Prompt run with output:\n",
      "\u001b[0m[outputs]\n",
      "\u001b[32;1m\u001b[1;3m[llm/start]\u001b[0m \u001b[1m[chain:RunnableParallel<Review,English_Review,summary,followup_message> > chain:RunnableSequence > chain:RunnableParallel<summary,language> > chain:RunnableSequence > llm:ChatOpenAI] Entering LLM run with input:\n",
      "\u001b[0m{\n",
      "  \"prompts\": [\n",
      "    \"Human: 下面的评论review使用的什么语言:\\n\\nJe trouve le goût médiocre. La mousse ne tient pas, c'est bizarre. J'achète les mêmes dans le commerce et le goût est bien meilleur...\\nVieux lot ou contrefaçon !?\"\n",
      "  ]\n",
      "}\n",
      "\u001b[32;1m\u001b[1;3m[chain/start]\u001b[0m \u001b[1m[chain:RunnableParallel<Review,English_Review,summary,followup_message> > chain:RunnableSequence > chain:RunnableParallel<summary,language> > chain:RunnableSequence > chain:RunnableParallel<English_Review> > chain:RunnableSequence] Entering Chain run with input:\n",
      "\u001b[0m{\n",
      "  \"Review\": \"Je trouve le goût médiocre. La mousse ne tient pas, c'est bizarre. J'achète les mêmes dans le commerce et le goût est bien meilleur...\\nVieux lot ou contrefaçon !?\"\n",
      "}\n",
      "\u001b[32;1m\u001b[1;3m[chain/start]\u001b[0m \u001b[1m[chain:RunnableParallel<Review,English_Review,summary,followup_message> > chain:RunnableSequence > chain:RunnableParallel<summary,language> > chain:RunnableSequence > chain:RunnableParallel<English_Review> > chain:RunnableSequence > prompt:ChatPromptTemplate] Entering Prompt run with input:\n",
      "\u001b[0m{\n",
      "  \"Review\": \"Je trouve le goût médiocre. La mousse ne tient pas, c'est bizarre. J'achète les mêmes dans le commerce et le goût est bien meilleur...\\nVieux lot ou contrefaçon !?\"\n",
      "}\n",
      "\u001b[36;1m\u001b[1;3m[chain/end]\u001b[0m \u001b[1m[chain:RunnableParallel<Review,English_Review,summary,followup_message> > chain:RunnableSequence > chain:RunnableParallel<summary,language> > chain:RunnableSequence > chain:RunnableParallel<English_Review> > chain:RunnableSequence > prompt:ChatPromptTemplate] [0ms] Exiting Prompt run with output:\n",
      "\u001b[0m[outputs]\n",
      "\u001b[32;1m\u001b[1;3m[llm/start]\u001b[0m \u001b[1m[chain:RunnableParallel<Review,English_Review,summary,followup_message> > chain:RunnableSequence > chain:RunnableParallel<summary,language> > chain:RunnableSequence > chain:RunnableParallel<English_Review> > chain:RunnableSequence > llm:ChatOpenAI] Entering LLM run with input:\n",
      "\u001b[0m{\n",
      "  \"prompts\": [\n",
      "    \"Human: 把下面的评论review翻译成英文:\\n\\nJe trouve le goût médiocre. La mousse ne tient pas, c'est bizarre. J'achète les mêmes dans le commerce et le goût est bien meilleur...\\nVieux lot ou contrefaçon !?\"\n",
      "  ]\n",
      "}\n",
      "\u001b[36;1m\u001b[1;3m[llm/end]\u001b[0m \u001b[1m[chain:RunnableParallel<Review,English_Review,summary,followup_message> > chain:RunnableSequence > chain:RunnableParallel<summary,language> > chain:RunnableSequence > llm:ChatOpenAI] [1.07s] Exiting LLM run with output:\n",
      "\u001b[0m{\n",
      "  \"generations\": [\n",
      "    [\n",
      "      {\n",
      "        \"text\": \"这段评论使用的是法语。\",\n",
      "        \"generation_info\": {\n",
      "          \"finish_reason\": \"stop\",\n",
      "          \"logprobs\": null\n",
      "        },\n",
      "        \"type\": \"ChatGeneration\",\n",
      "        \"message\": {\n",
      "          \"lc\": 1,\n",
      "          \"type\": \"constructor\",\n",
      "          \"id\": [\n",
      "            \"langchain\",\n",
      "            \"schema\",\n",
      "            \"messages\",\n",
      "            \"AIMessage\"\n",
      "          ],\n",
      "          \"kwargs\": {\n",
      "            \"content\": \"这段评论使用的是法语。\",\n",
      "            \"additional_kwargs\": {\n",
      "              \"refusal\": null\n",
      "            },\n",
      "            \"response_metadata\": {\n",
      "              \"token_usage\": {\n",
      "                \"completion_tokens\": 9,\n",
      "                \"prompt_tokens\": 59,\n",
      "                \"total_tokens\": 68,\n",
      "                \"completion_tokens_details\": {\n",
      "                  \"accepted_prediction_tokens\": 0,\n",
      "                  \"audio_tokens\": 0,\n",
      "                  \"reasoning_tokens\": 0,\n",
      "                  \"rejected_prediction_tokens\": 0\n",
      "                },\n",
      "                \"prompt_tokens_details\": {\n",
      "                  \"audio_tokens\": 0,\n",
      "                  \"cached_tokens\": 0\n",
      "                }\n",
      "              },\n",
      "              \"model_name\": \"gpt-4o-mini-2024-07-18\",\n",
      "              \"system_fingerprint\": \"fp_06737a9306\",\n",
      "              \"finish_reason\": \"stop\",\n",
      "              \"logprobs\": null\n",
      "            },\n",
      "            \"type\": \"ai\",\n",
      "            \"id\": \"run-90bfd98f-7936-4527-89f8-d51dcec1f2e7-0\",\n",
      "            \"usage_metadata\": {\n",
      "              \"input_tokens\": 59,\n",
      "              \"output_tokens\": 9,\n",
      "              \"total_tokens\": 68,\n",
      "              \"input_token_details\": {\n",
      "                \"audio\": 0,\n",
      "                \"cache_read\": 0\n",
      "              },\n",
      "              \"output_token_details\": {\n",
      "                \"audio\": 0,\n",
      "                \"reasoning\": 0\n",
      "              }\n",
      "            },\n",
      "            \"tool_calls\": [],\n",
      "            \"invalid_tool_calls\": []\n",
      "          }\n",
      "        }\n",
      "      }\n",
      "    ]\n",
      "  ],\n",
      "  \"llm_output\": {\n",
      "    \"token_usage\": {\n",
      "      \"completion_tokens\": 9,\n",
      "      \"prompt_tokens\": 59,\n",
      "      \"total_tokens\": 68,\n",
      "      \"completion_tokens_details\": {\n",
      "        \"accepted_prediction_tokens\": 0,\n",
      "        \"audio_tokens\": 0,\n",
      "        \"reasoning_tokens\": 0,\n",
      "        \"rejected_prediction_tokens\": 0\n",
      "      },\n",
      "      \"prompt_tokens_details\": {\n",
      "        \"audio_tokens\": 0,\n",
      "        \"cached_tokens\": 0\n",
      "      }\n",
      "    },\n",
      "    \"model_name\": \"gpt-4o-mini-2024-07-18\",\n",
      "    \"system_fingerprint\": \"fp_06737a9306\"\n",
      "  },\n",
      "  \"run\": null,\n",
      "  \"type\": \"LLMResult\"\n",
      "}\n",
      "\u001b[32;1m\u001b[1;3m[chain/start]\u001b[0m \u001b[1m[chain:RunnableParallel<Review,English_Review,summary,followup_message> > chain:RunnableSequence > chain:RunnableParallel<summary,language> > chain:RunnableSequence > parser:StrOutputParser] Entering Parser run with input:\n",
      "\u001b[0m[inputs]\n",
      "\u001b[36;1m\u001b[1;3m[chain/end]\u001b[0m \u001b[1m[chain:RunnableParallel<Review,English_Review,summary,followup_message> > chain:RunnableSequence > chain:RunnableParallel<summary,language> > chain:RunnableSequence > parser:StrOutputParser] [0ms] Exiting Parser run with output:\n",
      "\u001b[0m{\n",
      "  \"output\": \"这段评论使用的是法语。\"\n",
      "}\n",
      "\u001b[36;1m\u001b[1;3m[chain/end]\u001b[0m \u001b[1m[chain:RunnableParallel<Review,English_Review,summary,followup_message> > chain:RunnableSequence > chain:RunnableParallel<summary,language> > chain:RunnableSequence] [1.07s] Exiting Chain run with output:\n",
      "\u001b[0m{\n",
      "  \"output\": \"这段评论使用的是法语。\"\n",
      "}\n",
      "\u001b[36;1m\u001b[1;3m[llm/end]\u001b[0m \u001b[1m[chain:RunnableParallel<Review,English_Review,summary,followup_message> > chain:RunnableSequence > llm:ChatOpenAI] [1.23s] Exiting LLM run with output:\n",
      "\u001b[0m{\n",
      "  \"generations\": [\n",
      "    [\n",
      "      {\n",
      "        \"text\": \"I find the taste mediocre. The mousse doesn't hold, it's strange. I buy the same ones in the store and the taste is much better...  \\nOld batch or counterfeit!?\",\n",
      "        \"generation_info\": {\n",
      "          \"finish_reason\": \"stop\",\n",
      "          \"logprobs\": null\n",
      "        },\n",
      "        \"type\": \"ChatGeneration\",\n",
      "        \"message\": {\n",
      "          \"lc\": 1,\n",
      "          \"type\": \"constructor\",\n",
      "          \"id\": [\n",
      "            \"langchain\",\n",
      "            \"schema\",\n",
      "            \"messages\",\n",
      "            \"AIMessage\"\n",
      "          ],\n",
      "          \"kwargs\": {\n",
      "            \"content\": \"I find the taste mediocre. The mousse doesn't hold, it's strange. I buy the same ones in the store and the taste is much better...  \\nOld batch or counterfeit!?\",\n",
      "            \"additional_kwargs\": {\n",
      "              \"refusal\": null\n",
      "            },\n",
      "            \"response_metadata\": {\n",
      "              \"token_usage\": {\n",
      "                \"completion_tokens\": 36,\n",
      "                \"prompt_tokens\": 60,\n",
      "                \"total_tokens\": 96,\n",
      "                \"completion_tokens_details\": {\n",
      "                  \"accepted_prediction_tokens\": 0,\n",
      "                  \"audio_tokens\": 0,\n",
      "                  \"reasoning_tokens\": 0,\n",
      "                  \"rejected_prediction_tokens\": 0\n",
      "                },\n",
      "                \"prompt_tokens_details\": {\n",
      "                  \"audio_tokens\": 0,\n",
      "                  \"cached_tokens\": 0\n",
      "                }\n",
      "              },\n",
      "              \"model_name\": \"gpt-4o-mini-2024-07-18\",\n",
      "              \"system_fingerprint\": \"fp_06737a9306\",\n",
      "              \"finish_reason\": \"stop\",\n",
      "              \"logprobs\": null\n",
      "            },\n",
      "            \"type\": \"ai\",\n",
      "            \"id\": \"run-945f7e6a-742d-4068-92a8-907a4e744a14-0\",\n",
      "            \"usage_metadata\": {\n",
      "              \"input_tokens\": 60,\n",
      "              \"output_tokens\": 36,\n",
      "              \"total_tokens\": 96,\n",
      "              \"input_token_details\": {\n",
      "                \"audio\": 0,\n",
      "                \"cache_read\": 0\n",
      "              },\n",
      "              \"output_token_details\": {\n",
      "                \"audio\": 0,\n",
      "                \"reasoning\": 0\n",
      "              }\n",
      "            },\n",
      "            \"tool_calls\": [],\n",
      "            \"invalid_tool_calls\": []\n",
      "          }\n",
      "        }\n",
      "      }\n",
      "    ]\n",
      "  ],\n",
      "  \"llm_output\": {\n",
      "    \"token_usage\": {\n",
      "      \"completion_tokens\": 36,\n",
      "      \"prompt_tokens\": 60,\n",
      "      \"total_tokens\": 96,\n",
      "      \"completion_tokens_details\": {\n",
      "        \"accepted_prediction_tokens\": 0,\n",
      "        \"audio_tokens\": 0,\n",
      "        \"reasoning_tokens\": 0,\n",
      "        \"rejected_prediction_tokens\": 0\n",
      "      },\n",
      "      \"prompt_tokens_details\": {\n",
      "        \"audio_tokens\": 0,\n",
      "        \"cached_tokens\": 0\n",
      "      }\n",
      "    },\n",
      "    \"model_name\": \"gpt-4o-mini-2024-07-18\",\n",
      "    \"system_fingerprint\": \"fp_06737a9306\"\n",
      "  },\n",
      "  \"run\": null,\n",
      "  \"type\": \"LLMResult\"\n",
      "}\n",
      "\u001b[32;1m\u001b[1;3m[chain/start]\u001b[0m \u001b[1m[chain:RunnableParallel<Review,English_Review,summary,followup_message> > chain:RunnableSequence > parser:StrOutputParser] Entering Parser run with input:\n",
      "\u001b[0m[inputs]\n",
      "\u001b[36;1m\u001b[1;3m[chain/end]\u001b[0m \u001b[1m[chain:RunnableParallel<Review,English_Review,summary,followup_message> > chain:RunnableSequence > parser:StrOutputParser] [0ms] Exiting Parser run with output:\n",
      "\u001b[0m{\n",
      "  \"output\": \"I find the taste mediocre. The mousse doesn't hold, it's strange. I buy the same ones in the store and the taste is much better...  \\nOld batch or counterfeit!?\"\n",
      "}\n",
      "\u001b[36;1m\u001b[1;3m[chain/end]\u001b[0m \u001b[1m[chain:RunnableParallel<Review,English_Review,summary,followup_message> > chain:RunnableSequence] [1.23s] Exiting Chain run with output:\n",
      "\u001b[0m{\n",
      "  \"output\": \"I find the taste mediocre. The mousse doesn't hold, it's strange. I buy the same ones in the store and the taste is much better...  \\nOld batch or counterfeit!?\"\n",
      "}\n",
      "\u001b[36;1m\u001b[1;3m[llm/end]\u001b[0m \u001b[1m[chain:RunnableParallel<Review,English_Review,summary,followup_message> > chain:RunnableSequence > chain:RunnableParallel<English_Review> > chain:RunnableSequence > llm:ChatOpenAI] [1.58s] Exiting LLM run with output:\n",
      "\u001b[0m{\n",
      "  \"generations\": [\n",
      "    [\n",
      "      {\n",
      "        \"text\": \"I find the taste mediocre. The mousse doesn't hold, it's strange. I buy the same ones in stores and the taste is much better...  \\nOld batch or counterfeit!?\",\n",
      "        \"generation_info\": {\n",
      "          \"finish_reason\": \"stop\",\n",
      "          \"logprobs\": null\n",
      "        },\n",
      "        \"type\": \"ChatGeneration\",\n",
      "        \"message\": {\n",
      "          \"lc\": 1,\n",
      "          \"type\": \"constructor\",\n",
      "          \"id\": [\n",
      "            \"langchain\",\n",
      "            \"schema\",\n",
      "            \"messages\",\n",
      "            \"AIMessage\"\n",
      "          ],\n",
      "          \"kwargs\": {\n",
      "            \"content\": \"I find the taste mediocre. The mousse doesn't hold, it's strange. I buy the same ones in stores and the taste is much better...  \\nOld batch or counterfeit!?\",\n",
      "            \"additional_kwargs\": {\n",
      "              \"refusal\": null\n",
      "            },\n",
      "            \"response_metadata\": {\n",
      "              \"token_usage\": {\n",
      "                \"completion_tokens\": 35,\n",
      "                \"prompt_tokens\": 60,\n",
      "                \"total_tokens\": 95,\n",
      "                \"completion_tokens_details\": {\n",
      "                  \"accepted_prediction_tokens\": 0,\n",
      "                  \"audio_tokens\": 0,\n",
      "                  \"reasoning_tokens\": 0,\n",
      "                  \"rejected_prediction_tokens\": 0\n",
      "                },\n",
      "                \"prompt_tokens_details\": {\n",
      "                  \"audio_tokens\": 0,\n",
      "                  \"cached_tokens\": 0\n",
      "                }\n",
      "              },\n",
      "              \"model_name\": \"gpt-4o-mini-2024-07-18\",\n",
      "              \"system_fingerprint\": \"fp_06737a9306\",\n",
      "              \"finish_reason\": \"stop\",\n",
      "              \"logprobs\": null\n",
      "            },\n",
      "            \"type\": \"ai\",\n",
      "            \"id\": \"run-06c25612-827f-43c0-8b63-b6b2cbf0208f-0\",\n",
      "            \"usage_metadata\": {\n",
      "              \"input_tokens\": 60,\n",
      "              \"output_tokens\": 35,\n",
      "              \"total_tokens\": 95,\n",
      "              \"input_token_details\": {\n",
      "                \"audio\": 0,\n",
      "                \"cache_read\": 0\n",
      "              },\n",
      "              \"output_token_details\": {\n",
      "                \"audio\": 0,\n",
      "                \"reasoning\": 0\n",
      "              }\n",
      "            },\n",
      "            \"tool_calls\": [],\n",
      "            \"invalid_tool_calls\": []\n",
      "          }\n",
      "        }\n",
      "      }\n",
      "    ]\n",
      "  ],\n",
      "  \"llm_output\": {\n",
      "    \"token_usage\": {\n",
      "      \"completion_tokens\": 35,\n",
      "      \"prompt_tokens\": 60,\n",
      "      \"total_tokens\": 95,\n",
      "      \"completion_tokens_details\": {\n",
      "        \"accepted_prediction_tokens\": 0,\n",
      "        \"audio_tokens\": 0,\n",
      "        \"reasoning_tokens\": 0,\n",
      "        \"rejected_prediction_tokens\": 0\n",
      "      },\n",
      "      \"prompt_tokens_details\": {\n",
      "        \"audio_tokens\": 0,\n",
      "        \"cached_tokens\": 0\n",
      "      }\n",
      "    },\n",
      "    \"model_name\": \"gpt-4o-mini-2024-07-18\",\n",
      "    \"system_fingerprint\": \"fp_06737a9306\"\n",
      "  },\n",
      "  \"run\": null,\n",
      "  \"type\": \"LLMResult\"\n",
      "}\n",
      "\u001b[32;1m\u001b[1;3m[chain/start]\u001b[0m \u001b[1m[chain:RunnableParallel<Review,English_Review,summary,followup_message> > chain:RunnableSequence > chain:RunnableParallel<English_Review> > chain:RunnableSequence > parser:StrOutputParser] Entering Parser run with input:\n",
      "\u001b[0m[inputs]\n",
      "\u001b[36;1m\u001b[1;3m[chain/end]\u001b[0m \u001b[1m[chain:RunnableParallel<Review,English_Review,summary,followup_message> > chain:RunnableSequence > chain:RunnableParallel<English_Review> > chain:RunnableSequence > parser:StrOutputParser] [0ms] Exiting Parser run with output:\n",
      "\u001b[0m{\n",
      "  \"output\": \"I find the taste mediocre. The mousse doesn't hold, it's strange. I buy the same ones in stores and the taste is much better...  \\nOld batch or counterfeit!?\"\n",
      "}\n",
      "\u001b[36;1m\u001b[1;3m[chain/end]\u001b[0m \u001b[1m[chain:RunnableParallel<Review,English_Review,summary,followup_message> > chain:RunnableSequence > chain:RunnableParallel<English_Review> > chain:RunnableSequence] [1.58s] Exiting Chain run with output:\n",
      "\u001b[0m{\n",
      "  \"output\": \"I find the taste mediocre. The mousse doesn't hold, it's strange. I buy the same ones in stores and the taste is much better...  \\nOld batch or counterfeit!?\"\n",
      "}\n",
      "\u001b[36;1m\u001b[1;3m[chain/end]\u001b[0m \u001b[1m[chain:RunnableParallel<Review,English_Review,summary,followup_message> > chain:RunnableSequence > chain:RunnableParallel<English_Review>] [1.58s] Exiting Chain run with output:\n",
      "\u001b[0m{\n",
      "  \"English_Review\": \"I find the taste mediocre. The mousse doesn't hold, it's strange. I buy the same ones in stores and the taste is much better...  \\nOld batch or counterfeit!?\"\n",
      "}\n",
      "\u001b[32;1m\u001b[1;3m[chain/start]\u001b[0m \u001b[1m[chain:RunnableParallel<Review,English_Review,summary,followup_message> > chain:RunnableSequence > prompt:ChatPromptTemplate] Entering Prompt run with input:\n",
      "\u001b[0m{\n",
      "  \"English_Review\": \"I find the taste mediocre. The mousse doesn't hold, it's strange. I buy the same ones in stores and the taste is much better...  \\nOld batch or counterfeit!?\"\n",
      "}\n",
      "\u001b[36;1m\u001b[1;3m[chain/end]\u001b[0m \u001b[1m[chain:RunnableParallel<Review,English_Review,summary,followup_message> > chain:RunnableSequence > prompt:ChatPromptTemplate] [0ms] Exiting Prompt run with output:\n",
      "\u001b[0m[outputs]\n",
      "\u001b[32;1m\u001b[1;3m[llm/start]\u001b[0m \u001b[1m[chain:RunnableParallel<Review,English_Review,summary,followup_message> > chain:RunnableSequence > llm:ChatOpenAI] Entering LLM run with input:\n",
      "\u001b[0m{\n",
      "  \"prompts\": [\n",
      "    \"Human: 请你用一句话来总结下面的评论review:\\n\\nI find the taste mediocre. The mousse doesn't hold, it's strange. I buy the same ones in stores and the taste is much better...  \\nOld batch or counterfeit!?\"\n",
      "  ]\n",
      "}\n",
      "\u001b[36;1m\u001b[1;3m[llm/end]\u001b[0m \u001b[1m[chain:RunnableParallel<Review,English_Review,summary,followup_message> > chain:RunnableSequence > chain:RunnableParallel<summary,language> > chain:RunnableSequence > chain:RunnableParallel<English_Review> > chain:RunnableSequence > llm:ChatOpenAI] [1.59s] Exiting LLM run with output:\n",
      "\u001b[0m{\n",
      "  \"generations\": [\n",
      "    [\n",
      "      {\n",
      "        \"text\": \"I find the taste mediocre. The mousse doesn't hold up, it's strange. I buy the same ones in stores and the taste is much better...  \\nOld batch or counterfeit!?\",\n",
      "        \"generation_info\": {\n",
      "          \"finish_reason\": \"stop\",\n",
      "          \"logprobs\": null\n",
      "        },\n",
      "        \"type\": \"ChatGeneration\",\n",
      "        \"message\": {\n",
      "          \"lc\": 1,\n",
      "          \"type\": \"constructor\",\n",
      "          \"id\": [\n",
      "            \"langchain\",\n",
      "            \"schema\",\n",
      "            \"messages\",\n",
      "            \"AIMessage\"\n",
      "          ],\n",
      "          \"kwargs\": {\n",
      "            \"content\": \"I find the taste mediocre. The mousse doesn't hold up, it's strange. I buy the same ones in stores and the taste is much better...  \\nOld batch or counterfeit!?\",\n",
      "            \"additional_kwargs\": {\n",
      "              \"refusal\": null\n",
      "            },\n",
      "            \"response_metadata\": {\n",
      "              \"token_usage\": {\n",
      "                \"completion_tokens\": 36,\n",
      "                \"prompt_tokens\": 60,\n",
      "                \"total_tokens\": 96,\n",
      "                \"completion_tokens_details\": {\n",
      "                  \"accepted_prediction_tokens\": 0,\n",
      "                  \"audio_tokens\": 0,\n",
      "                  \"reasoning_tokens\": 0,\n",
      "                  \"rejected_prediction_tokens\": 0\n",
      "                },\n",
      "                \"prompt_tokens_details\": {\n",
      "                  \"audio_tokens\": 0,\n",
      "                  \"cached_tokens\": 0\n",
      "                }\n",
      "              },\n",
      "              \"model_name\": \"gpt-4o-mini-2024-07-18\",\n",
      "              \"system_fingerprint\": \"fp_06737a9306\",\n",
      "              \"finish_reason\": \"stop\",\n",
      "              \"logprobs\": null\n",
      "            },\n",
      "            \"type\": \"ai\",\n",
      "            \"id\": \"run-591bbd39-10d2-4e6b-896f-6fb05db044e0-0\",\n",
      "            \"usage_metadata\": {\n",
      "              \"input_tokens\": 60,\n",
      "              \"output_tokens\": 36,\n",
      "              \"total_tokens\": 96,\n",
      "              \"input_token_details\": {\n",
      "                \"audio\": 0,\n",
      "                \"cache_read\": 0\n",
      "              },\n",
      "              \"output_token_details\": {\n",
      "                \"audio\": 0,\n",
      "                \"reasoning\": 0\n",
      "              }\n",
      "            },\n",
      "            \"tool_calls\": [],\n",
      "            \"invalid_tool_calls\": []\n",
      "          }\n",
      "        }\n",
      "      }\n",
      "    ]\n",
      "  ],\n",
      "  \"llm_output\": {\n",
      "    \"token_usage\": {\n",
      "      \"completion_tokens\": 36,\n",
      "      \"prompt_tokens\": 60,\n",
      "      \"total_tokens\": 96,\n",
      "      \"completion_tokens_details\": {\n",
      "        \"accepted_prediction_tokens\": 0,\n",
      "        \"audio_tokens\": 0,\n",
      "        \"reasoning_tokens\": 0,\n",
      "        \"rejected_prediction_tokens\": 0\n",
      "      },\n",
      "      \"prompt_tokens_details\": {\n",
      "        \"audio_tokens\": 0,\n",
      "        \"cached_tokens\": 0\n",
      "      }\n",
      "    },\n",
      "    \"model_name\": \"gpt-4o-mini-2024-07-18\",\n",
      "    \"system_fingerprint\": \"fp_06737a9306\"\n",
      "  },\n",
      "  \"run\": null,\n",
      "  \"type\": \"LLMResult\"\n",
      "}\n",
      "\u001b[32;1m\u001b[1;3m[chain/start]\u001b[0m \u001b[1m[chain:RunnableParallel<Review,English_Review,summary,followup_message> > chain:RunnableSequence > chain:RunnableParallel<summary,language> > chain:RunnableSequence > chain:RunnableParallel<English_Review> > chain:RunnableSequence > parser:StrOutputParser] Entering Parser run with input:\n",
      "\u001b[0m[inputs]\n",
      "\u001b[36;1m\u001b[1;3m[chain/end]\u001b[0m \u001b[1m[chain:RunnableParallel<Review,English_Review,summary,followup_message> > chain:RunnableSequence > chain:RunnableParallel<summary,language> > chain:RunnableSequence > chain:RunnableParallel<English_Review> > chain:RunnableSequence > parser:StrOutputParser] [0ms] Exiting Parser run with output:\n",
      "\u001b[0m{\n",
      "  \"output\": \"I find the taste mediocre. The mousse doesn't hold up, it's strange. I buy the same ones in stores and the taste is much better...  \\nOld batch or counterfeit!?\"\n",
      "}\n",
      "\u001b[36;1m\u001b[1;3m[chain/end]\u001b[0m \u001b[1m[chain:RunnableParallel<Review,English_Review,summary,followup_message> > chain:RunnableSequence > chain:RunnableParallel<summary,language> > chain:RunnableSequence > chain:RunnableParallel<English_Review> > chain:RunnableSequence] [1.59s] Exiting Chain run with output:\n",
      "\u001b[0m{\n",
      "  \"output\": \"I find the taste mediocre. The mousse doesn't hold up, it's strange. I buy the same ones in stores and the taste is much better...  \\nOld batch or counterfeit!?\"\n",
      "}\n",
      "\u001b[36;1m\u001b[1;3m[chain/end]\u001b[0m \u001b[1m[chain:RunnableParallel<Review,English_Review,summary,followup_message> > chain:RunnableSequence > chain:RunnableParallel<summary,language> > chain:RunnableSequence > chain:RunnableParallel<English_Review>] [1.59s] Exiting Chain run with output:\n",
      "\u001b[0m{\n",
      "  \"English_Review\": \"I find the taste mediocre. The mousse doesn't hold up, it's strange. I buy the same ones in stores and the taste is much better...  \\nOld batch or counterfeit!?\"\n",
      "}\n",
      "\u001b[32;1m\u001b[1;3m[chain/start]\u001b[0m \u001b[1m[chain:RunnableParallel<Review,English_Review,summary,followup_message> > chain:RunnableSequence > chain:RunnableParallel<summary,language> > chain:RunnableSequence > prompt:ChatPromptTemplate] Entering Prompt run with input:\n",
      "\u001b[0m{\n",
      "  \"English_Review\": \"I find the taste mediocre. The mousse doesn't hold up, it's strange. I buy the same ones in stores and the taste is much better...  \\nOld batch or counterfeit!?\"\n",
      "}\n",
      "\u001b[36;1m\u001b[1;3m[chain/end]\u001b[0m \u001b[1m[chain:RunnableParallel<Review,English_Review,summary,followup_message> > chain:RunnableSequence > chain:RunnableParallel<summary,language> > chain:RunnableSequence > prompt:ChatPromptTemplate] [0ms] Exiting Prompt run with output:\n",
      "\u001b[0m[outputs]\n",
      "\u001b[32;1m\u001b[1;3m[llm/start]\u001b[0m \u001b[1m[chain:RunnableParallel<Review,English_Review,summary,followup_message> > chain:RunnableSequence > chain:RunnableParallel<summary,language> > chain:RunnableSequence > llm:ChatOpenAI] Entering LLM run with input:\n",
      "\u001b[0m{\n",
      "  \"prompts\": [\n",
      "    \"Human: 请你用一句话来总结下面的评论review:\\n\\nI find the taste mediocre. The mousse doesn't hold up, it's strange. I buy the same ones in stores and the taste is much better...  \\nOld batch or counterfeit!?\"\n",
      "  ]\n",
      "}\n",
      "\u001b[36;1m\u001b[1;3m[llm/end]\u001b[0m \u001b[1m[chain:RunnableParallel<Review,English_Review,summary,followup_message> > chain:RunnableSequence > chain:RunnableParallel<summary,language> > chain:RunnableSequence > llm:ChatOpenAI] [962ms] Exiting LLM run with output:\n",
      "\u001b[0m{\n",
      "  \"generations\": [\n",
      "    [\n",
      "      {\n",
      "        \"text\": \"评论者觉得味道平平，慕斯不够稳定，质疑可能是旧批次或假货。\",\n",
      "        \"generation_info\": {\n",
      "          \"finish_reason\": \"stop\",\n",
      "          \"logprobs\": null\n",
      "        },\n",
      "        \"type\": \"ChatGeneration\",\n",
      "        \"message\": {\n",
      "          \"lc\": 1,\n",
      "          \"type\": \"constructor\",\n",
      "          \"id\": [\n",
      "            \"langchain\",\n",
      "            \"schema\",\n",
      "            \"messages\",\n",
      "            \"AIMessage\"\n",
      "          ],\n",
      "          \"kwargs\": {\n",
      "            \"content\": \"评论者觉得味道平平，慕斯不够稳定，质疑可能是旧批次或假货。\",\n",
      "            \"additional_kwargs\": {\n",
      "              \"refusal\": null\n",
      "            },\n",
      "            \"response_metadata\": {\n",
      "              \"token_usage\": {\n",
      "                \"completion_tokens\": 27,\n",
      "                \"prompt_tokens\": 54,\n",
      "                \"total_tokens\": 81,\n",
      "                \"completion_tokens_details\": {\n",
      "                  \"accepted_prediction_tokens\": 0,\n",
      "                  \"audio_tokens\": 0,\n",
      "                  \"reasoning_tokens\": 0,\n",
      "                  \"rejected_prediction_tokens\": 0\n",
      "                },\n",
      "                \"prompt_tokens_details\": {\n",
      "                  \"audio_tokens\": 0,\n",
      "                  \"cached_tokens\": 0\n",
      "                }\n",
      "              },\n",
      "              \"model_name\": \"gpt-4o-mini-2024-07-18\",\n",
      "              \"system_fingerprint\": \"fp_3267753c5d\",\n",
      "              \"finish_reason\": \"stop\",\n",
      "              \"logprobs\": null\n",
      "            },\n",
      "            \"type\": \"ai\",\n",
      "            \"id\": \"run-ddfeb1d8-0e79-4eea-bd75-a8d99bbcb42e-0\",\n",
      "            \"usage_metadata\": {\n",
      "              \"input_tokens\": 54,\n",
      "              \"output_tokens\": 27,\n",
      "              \"total_tokens\": 81,\n",
      "              \"input_token_details\": {\n",
      "                \"audio\": 0,\n",
      "                \"cache_read\": 0\n",
      "              },\n",
      "              \"output_token_details\": {\n",
      "                \"audio\": 0,\n",
      "                \"reasoning\": 0\n",
      "              }\n",
      "            },\n",
      "            \"tool_calls\": [],\n",
      "            \"invalid_tool_calls\": []\n",
      "          }\n",
      "        }\n",
      "      }\n",
      "    ]\n",
      "  ],\n",
      "  \"llm_output\": {\n",
      "    \"token_usage\": {\n",
      "      \"completion_tokens\": 27,\n",
      "      \"prompt_tokens\": 54,\n",
      "      \"total_tokens\": 81,\n",
      "      \"completion_tokens_details\": {\n",
      "        \"accepted_prediction_tokens\": 0,\n",
      "        \"audio_tokens\": 0,\n",
      "        \"reasoning_tokens\": 0,\n",
      "        \"rejected_prediction_tokens\": 0\n",
      "      },\n",
      "      \"prompt_tokens_details\": {\n",
      "        \"audio_tokens\": 0,\n",
      "        \"cached_tokens\": 0\n",
      "      }\n",
      "    },\n",
      "    \"model_name\": \"gpt-4o-mini-2024-07-18\",\n",
      "    \"system_fingerprint\": \"fp_3267753c5d\"\n",
      "  },\n",
      "  \"run\": null,\n",
      "  \"type\": \"LLMResult\"\n",
      "}\n",
      "\u001b[32;1m\u001b[1;3m[chain/start]\u001b[0m \u001b[1m[chain:RunnableParallel<Review,English_Review,summary,followup_message> > chain:RunnableSequence > chain:RunnableParallel<summary,language> > chain:RunnableSequence > parser:StrOutputParser] Entering Parser run with input:\n",
      "\u001b[0m[inputs]\n",
      "\u001b[36;1m\u001b[1;3m[chain/end]\u001b[0m \u001b[1m[chain:RunnableParallel<Review,English_Review,summary,followup_message> > chain:RunnableSequence > chain:RunnableParallel<summary,language> > chain:RunnableSequence > parser:StrOutputParser] [0ms] Exiting Parser run with output:\n",
      "\u001b[0m{\n",
      "  \"output\": \"评论者觉得味道平平，慕斯不够稳定，质疑可能是旧批次或假货。\"\n",
      "}\n",
      "\u001b[32;1m\u001b[1;3m[chain/start]\u001b[0m \u001b[1m[chain:RunnableParallel<Review,English_Review,summary,followup_message> > chain:RunnableSequence > chain:RunnableParallel<summary,language> > chain:RunnableSequence > parser:StrOutputParser] Entering Parser run with input:\n",
      "\u001b[0m{\n",
      "  \"input\": \"评论者觉得味道平平，慕斯不够稳定，质疑可能是旧批次或假货。\"\n",
      "}\n",
      "\u001b[36;1m\u001b[1;3m[chain/end]\u001b[0m \u001b[1m[chain:RunnableParallel<Review,English_Review,summary,followup_message> > chain:RunnableSequence > chain:RunnableParallel<summary,language> > chain:RunnableSequence > parser:StrOutputParser] [0ms] Exiting Parser run with output:\n",
      "\u001b[0m{\n",
      "  \"output\": \"评论者觉得味道平平，慕斯不够稳定，质疑可能是旧批次或假货。\"\n",
      "}\n",
      "\u001b[36;1m\u001b[1;3m[chain/end]\u001b[0m \u001b[1m[chain:RunnableParallel<Review,English_Review,summary,followup_message> > chain:RunnableSequence > chain:RunnableParallel<summary,language> > chain:RunnableSequence] [2.56s] Exiting Chain run with output:\n",
      "\u001b[0m{\n",
      "  \"output\": \"评论者觉得味道平平，慕斯不够稳定，质疑可能是旧批次或假货。\"\n",
      "}\n",
      "\u001b[36;1m\u001b[1;3m[chain/end]\u001b[0m \u001b[1m[chain:RunnableParallel<Review,English_Review,summary,followup_message> > chain:RunnableSequence > chain:RunnableParallel<summary,language>] [2.56s] Exiting Chain run with output:\n",
      "\u001b[0m{\n",
      "  \"summary\": \"评论者觉得味道平平，慕斯不够稳定，质疑可能是旧批次或假货。\",\n",
      "  \"language\": \"这段评论使用的是法语。\"\n",
      "}\n",
      "\u001b[32;1m\u001b[1;3m[chain/start]\u001b[0m \u001b[1m[chain:RunnableParallel<Review,English_Review,summary,followup_message> > chain:RunnableSequence > prompt:ChatPromptTemplate] Entering Prompt run with input:\n",
      "\u001b[0m{\n",
      "  \"summary\": \"评论者觉得味道平平，慕斯不够稳定，质疑可能是旧批次或假货。\",\n",
      "  \"language\": \"这段评论使用的是法语。\"\n",
      "}\n",
      "\u001b[36;1m\u001b[1;3m[chain/end]\u001b[0m \u001b[1m[chain:RunnableParallel<Review,English_Review,summary,followup_message> > chain:RunnableSequence > prompt:ChatPromptTemplate] [1ms] Exiting Prompt run with output:\n",
      "\u001b[0m[outputs]\n",
      "\u001b[32;1m\u001b[1;3m[llm/start]\u001b[0m \u001b[1m[chain:RunnableParallel<Review,English_Review,summary,followup_message> > chain:RunnableSequence > llm:ChatOpenAI] Entering LLM run with input:\n",
      "\u001b[0m{\n",
      "  \"prompts\": [\n",
      "    \"Human: 使用特定的语言对下面的总结写一个后续回复:\\n\\n总结: 评论者觉得味道平平，慕斯不够稳定，质疑可能是旧批次或假货。\\n\\n语言: 这段评论使用的是法语。\"\n",
      "  ]\n",
      "}\n",
      "\u001b[36;1m\u001b[1;3m[llm/end]\u001b[0m \u001b[1m[chain:RunnableParallel<Review,English_Review,summary,followup_message> > chain:RunnableSequence > llm:ChatOpenAI] [1.19s] Exiting LLM run with output:\n",
      "\u001b[0m{\n",
      "  \"generations\": [\n",
      "    [\n",
      "      {\n",
      "        \"text\": \"评论者认为味道平平， mousse质地不稳定，感觉与商店购买的产品差距很大，怀疑是旧批次或假货。\",\n",
      "        \"generation_info\": {\n",
      "          \"finish_reason\": \"stop\",\n",
      "          \"logprobs\": null\n",
      "        },\n",
      "        \"type\": \"ChatGeneration\",\n",
      "        \"message\": {\n",
      "          \"lc\": 1,\n",
      "          \"type\": \"constructor\",\n",
      "          \"id\": [\n",
      "            \"langchain\",\n",
      "            \"schema\",\n",
      "            \"messages\",\n",
      "            \"AIMessage\"\n",
      "          ],\n",
      "          \"kwargs\": {\n",
      "            \"content\": \"评论者认为味道平平， mousse质地不稳定，感觉与商店购买的产品差距很大，怀疑是旧批次或假货。\",\n",
      "            \"additional_kwargs\": {\n",
      "              \"refusal\": null\n",
      "            },\n",
      "            \"response_metadata\": {\n",
      "              \"token_usage\": {\n",
      "                \"completion_tokens\": 37,\n",
      "                \"prompt_tokens\": 53,\n",
      "                \"total_tokens\": 90,\n",
      "                \"completion_tokens_details\": {\n",
      "                  \"accepted_prediction_tokens\": 0,\n",
      "                  \"audio_tokens\": 0,\n",
      "                  \"reasoning_tokens\": 0,\n",
      "                  \"rejected_prediction_tokens\": 0\n",
      "                },\n",
      "                \"prompt_tokens_details\": {\n",
      "                  \"audio_tokens\": 0,\n",
      "                  \"cached_tokens\": 0\n",
      "                }\n",
      "              },\n",
      "              \"model_name\": \"gpt-4o-mini-2024-07-18\",\n",
      "              \"system_fingerprint\": \"fp_3267753c5d\",\n",
      "              \"finish_reason\": \"stop\",\n",
      "              \"logprobs\": null\n",
      "            },\n",
      "            \"type\": \"ai\",\n",
      "            \"id\": \"run-1bfc4c00-de71-4438-b226-8a98c20a7c3c-0\",\n",
      "            \"usage_metadata\": {\n",
      "              \"input_tokens\": 53,\n",
      "              \"output_tokens\": 37,\n",
      "              \"total_tokens\": 90,\n",
      "              \"input_token_details\": {\n",
      "                \"audio\": 0,\n",
      "                \"cache_read\": 0\n",
      "              },\n",
      "              \"output_token_details\": {\n",
      "                \"audio\": 0,\n",
      "                \"reasoning\": 0\n",
      "              }\n",
      "            },\n",
      "            \"tool_calls\": [],\n",
      "            \"invalid_tool_calls\": []\n",
      "          }\n",
      "        }\n",
      "      }\n",
      "    ]\n",
      "  ],\n",
      "  \"llm_output\": {\n",
      "    \"token_usage\": {\n",
      "      \"completion_tokens\": 37,\n",
      "      \"prompt_tokens\": 53,\n",
      "      \"total_tokens\": 90,\n",
      "      \"completion_tokens_details\": {\n",
      "        \"accepted_prediction_tokens\": 0,\n",
      "        \"audio_tokens\": 0,\n",
      "        \"reasoning_tokens\": 0,\n",
      "        \"rejected_prediction_tokens\": 0\n",
      "      },\n",
      "      \"prompt_tokens_details\": {\n",
      "        \"audio_tokens\": 0,\n",
      "        \"cached_tokens\": 0\n",
      "      }\n",
      "    },\n",
      "    \"model_name\": \"gpt-4o-mini-2024-07-18\",\n",
      "    \"system_fingerprint\": \"fp_3267753c5d\"\n",
      "  },\n",
      "  \"run\": null,\n",
      "  \"type\": \"LLMResult\"\n",
      "}\n",
      "\u001b[32;1m\u001b[1;3m[chain/start]\u001b[0m \u001b[1m[chain:RunnableParallel<Review,English_Review,summary,followup_message> > chain:RunnableSequence > parser:StrOutputParser] Entering Parser run with input:\n",
      "\u001b[0m[inputs]\n",
      "\u001b[36;1m\u001b[1;3m[chain/end]\u001b[0m \u001b[1m[chain:RunnableParallel<Review,English_Review,summary,followup_message> > chain:RunnableSequence > parser:StrOutputParser] [1ms] Exiting Parser run with output:\n",
      "\u001b[0m{\n",
      "  \"output\": \"评论者认为味道平平， mousse质地不稳定，感觉与商店购买的产品差距很大，怀疑是旧批次或假货。\"\n",
      "}\n",
      "\u001b[32;1m\u001b[1;3m[chain/start]\u001b[0m \u001b[1m[chain:RunnableParallel<Review,English_Review,summary,followup_message> > chain:RunnableSequence > parser:StrOutputParser] Entering Parser run with input:\n",
      "\u001b[0m{\n",
      "  \"input\": \"评论者认为味道平平， mousse质地不稳定，感觉与商店购买的产品差距很大，怀疑是旧批次或假货。\"\n",
      "}\n",
      "\u001b[36;1m\u001b[1;3m[chain/end]\u001b[0m \u001b[1m[chain:RunnableParallel<Review,English_Review,summary,followup_message> > chain:RunnableSequence > parser:StrOutputParser] [1ms] Exiting Parser run with output:\n",
      "\u001b[0m{\n",
      "  \"output\": \"评论者认为味道平平， mousse质地不稳定，感觉与商店购买的产品差距很大，怀疑是旧批次或假货。\"\n",
      "}\n",
      "\u001b[36;1m\u001b[1;3m[chain/end]\u001b[0m \u001b[1m[chain:RunnableParallel<Review,English_Review,summary,followup_message> > chain:RunnableSequence] [2.77s] Exiting Chain run with output:\n",
      "\u001b[0m{\n",
      "  \"output\": \"评论者认为味道平平， mousse质地不稳定，感觉与商店购买的产品差距很大，怀疑是旧批次或假货。\"\n",
      "}\n",
      "\u001b[36;1m\u001b[1;3m[llm/end]\u001b[0m \u001b[1m[chain:RunnableParallel<Review,English_Review,summary,followup_message> > chain:RunnableSequence > llm:ChatOpenAI] [2.26s] Exiting LLM run with output:\n",
      "\u001b[0m{\n",
      "  \"generations\": [\n",
      "    [\n",
      "      {\n",
      "        \"text\": \"Cher(e) Commentateur(trice),\\n\\nMerci pour votre retour sur notre produit. Nous sommes désolés d'apprendre que vous n'avez pas été satisfait(e) de votre expérience. Nous prenons vos préoccupations très au sérieux, notamment en ce qui concerne la stabilité de la mousse et le goût.\\n\\nNous vous encourageons à contacter notre service clientèle afin de vérifier l'origine de votre produit et de trouver une solution satisfaisante. Votre avis est précieux et nous souhaite améliorer constamment la qualité de nos produits.\\n\\nMerci encore pour votre commentaire.\\n\\nCordialement,  \\n[Votre Nom]  \\n[Votre Entreprise]\",\n",
      "        \"generation_info\": {\n",
      "          \"finish_reason\": \"stop\",\n",
      "          \"logprobs\": null\n",
      "        },\n",
      "        \"type\": \"ChatGeneration\",\n",
      "        \"message\": {\n",
      "          \"lc\": 1,\n",
      "          \"type\": \"constructor\",\n",
      "          \"id\": [\n",
      "            \"langchain\",\n",
      "            \"schema\",\n",
      "            \"messages\",\n",
      "            \"AIMessage\"\n",
      "          ],\n",
      "          \"kwargs\": {\n",
      "            \"content\": \"Cher(e) Commentateur(trice),\\n\\nMerci pour votre retour sur notre produit. Nous sommes désolés d'apprendre que vous n'avez pas été satisfait(e) de votre expérience. Nous prenons vos préoccupations très au sérieux, notamment en ce qui concerne la stabilité de la mousse et le goût.\\n\\nNous vous encourageons à contacter notre service clientèle afin de vérifier l'origine de votre produit et de trouver une solution satisfaisante. Votre avis est précieux et nous souhaite améliorer constamment la qualité de nos produits.\\n\\nMerci encore pour votre commentaire.\\n\\nCordialement,  \\n[Votre Nom]  \\n[Votre Entreprise]\",\n",
      "            \"additional_kwargs\": {\n",
      "              \"refusal\": null\n",
      "            },\n",
      "            \"response_metadata\": {\n",
      "              \"token_usage\": {\n",
      "                \"completion_tokens\": 124,\n",
      "                \"prompt_tokens\": 61,\n",
      "                \"total_tokens\": 185,\n",
      "                \"completion_tokens_details\": {\n",
      "                  \"accepted_prediction_tokens\": 0,\n",
      "                  \"audio_tokens\": 0,\n",
      "                  \"reasoning_tokens\": 0,\n",
      "                  \"rejected_prediction_tokens\": 0\n",
      "                },\n",
      "                \"prompt_tokens_details\": {\n",
      "                  \"audio_tokens\": 0,\n",
      "                  \"cached_tokens\": 0\n",
      "                }\n",
      "              },\n",
      "              \"model_name\": \"gpt-4o-mini-2024-07-18\",\n",
      "              \"system_fingerprint\": \"fp_3267753c5d\",\n",
      "              \"finish_reason\": \"stop\",\n",
      "              \"logprobs\": null\n",
      "            },\n",
      "            \"type\": \"ai\",\n",
      "            \"id\": \"run-9f59ebe8-bf17-46f0-8fe4-7a417c7be060-0\",\n",
      "            \"usage_metadata\": {\n",
      "              \"input_tokens\": 61,\n",
      "              \"output_tokens\": 124,\n",
      "              \"total_tokens\": 185,\n",
      "              \"input_token_details\": {\n",
      "                \"audio\": 0,\n",
      "                \"cache_read\": 0\n",
      "              },\n",
      "              \"output_token_details\": {\n",
      "                \"audio\": 0,\n",
      "                \"reasoning\": 0\n",
      "              }\n",
      "            },\n",
      "            \"tool_calls\": [],\n",
      "            \"invalid_tool_calls\": []\n",
      "          }\n",
      "        }\n",
      "      }\n",
      "    ]\n",
      "  ],\n",
      "  \"llm_output\": {\n",
      "    \"token_usage\": {\n",
      "      \"completion_tokens\": 124,\n",
      "      \"prompt_tokens\": 61,\n",
      "      \"total_tokens\": 185,\n",
      "      \"completion_tokens_details\": {\n",
      "        \"accepted_prediction_tokens\": 0,\n",
      "        \"audio_tokens\": 0,\n",
      "        \"reasoning_tokens\": 0,\n",
      "        \"rejected_prediction_tokens\": 0\n",
      "      },\n",
      "      \"prompt_tokens_details\": {\n",
      "        \"audio_tokens\": 0,\n",
      "        \"cached_tokens\": 0\n",
      "      }\n",
      "    },\n",
      "    \"model_name\": \"gpt-4o-mini-2024-07-18\",\n",
      "    \"system_fingerprint\": \"fp_3267753c5d\"\n",
      "  },\n",
      "  \"run\": null,\n",
      "  \"type\": \"LLMResult\"\n",
      "}\n",
      "\u001b[32;1m\u001b[1;3m[chain/start]\u001b[0m \u001b[1m[chain:RunnableParallel<Review,English_Review,summary,followup_message> > chain:RunnableSequence > parser:StrOutputParser] Entering Parser run with input:\n",
      "\u001b[0m[inputs]\n",
      "\u001b[36;1m\u001b[1;3m[chain/end]\u001b[0m \u001b[1m[chain:RunnableParallel<Review,English_Review,summary,followup_message> > chain:RunnableSequence > parser:StrOutputParser] [0ms] Exiting Parser run with output:\n",
      "\u001b[0m{\n",
      "  \"output\": \"Cher(e) Commentateur(trice),\\n\\nMerci pour votre retour sur notre produit. Nous sommes désolés d'apprendre que vous n'avez pas été satisfait(e) de votre expérience. Nous prenons vos préoccupations très au sérieux, notamment en ce qui concerne la stabilité de la mousse et le goût.\\n\\nNous vous encourageons à contacter notre service clientèle afin de vérifier l'origine de votre produit et de trouver une solution satisfaisante. Votre avis est précieux et nous souhaite améliorer constamment la qualité de nos produits.\\n\\nMerci encore pour votre commentaire.\\n\\nCordialement,  \\n[Votre Nom]  \\n[Votre Entreprise]\"\n",
      "}\n",
      "\u001b[32;1m\u001b[1;3m[chain/start]\u001b[0m \u001b[1m[chain:RunnableParallel<Review,English_Review,summary,followup_message> > chain:RunnableSequence > parser:StrOutputParser] Entering Parser run with input:\n",
      "\u001b[0m{\n",
      "  \"input\": \"Cher(e) Commentateur(trice),\\n\\nMerci pour votre retour sur notre produit. Nous sommes désolés d'apprendre que vous n'avez pas été satisfait(e) de votre expérience. Nous prenons vos préoccupations très au sérieux, notamment en ce qui concerne la stabilité de la mousse et le goût.\\n\\nNous vous encourageons à contacter notre service clientèle afin de vérifier l'origine de votre produit et de trouver une solution satisfaisante. Votre avis est précieux et nous souhaite améliorer constamment la qualité de nos produits.\\n\\nMerci encore pour votre commentaire.\\n\\nCordialement,  \\n[Votre Nom]  \\n[Votre Entreprise]\"\n",
      "}\n",
      "\u001b[36;1m\u001b[1;3m[chain/end]\u001b[0m \u001b[1m[chain:RunnableParallel<Review,English_Review,summary,followup_message> > chain:RunnableSequence > parser:StrOutputParser] [0ms] Exiting Parser run with output:\n",
      "\u001b[0m{\n",
      "  \"output\": \"Cher(e) Commentateur(trice),\\n\\nMerci pour votre retour sur notre produit. Nous sommes désolés d'apprendre que vous n'avez pas été satisfait(e) de votre expérience. Nous prenons vos préoccupations très au sérieux, notamment en ce qui concerne la stabilité de la mousse et le goût.\\n\\nNous vous encourageons à contacter notre service clientèle afin de vérifier l'origine de votre produit et de trouver une solution satisfaisante. Votre avis est précieux et nous souhaite améliorer constamment la qualité de nos produits.\\n\\nMerci encore pour votre commentaire.\\n\\nCordialement,  \\n[Votre Nom]  \\n[Votre Entreprise]\"\n",
      "}\n",
      "\u001b[36;1m\u001b[1;3m[chain/end]\u001b[0m \u001b[1m[chain:RunnableParallel<Review,English_Review,summary,followup_message> > chain:RunnableSequence] [4.82s] Exiting Chain run with output:\n",
      "\u001b[0m{\n",
      "  \"output\": \"Cher(e) Commentateur(trice),\\n\\nMerci pour votre retour sur notre produit. Nous sommes désolés d'apprendre que vous n'avez pas été satisfait(e) de votre expérience. Nous prenons vos préoccupations très au sérieux, notamment en ce qui concerne la stabilité de la mousse et le goût.\\n\\nNous vous encourageons à contacter notre service clientèle afin de vérifier l'origine de votre produit et de trouver une solution satisfaisante. Votre avis est précieux et nous souhaite améliorer constamment la qualité de nos produits.\\n\\nMerci encore pour votre commentaire.\\n\\nCordialement,  \\n[Votre Nom]  \\n[Votre Entreprise]\"\n",
      "}\n",
      "\u001b[36;1m\u001b[1;3m[chain/end]\u001b[0m \u001b[1m[chain:RunnableParallel<Review,English_Review,summary,followup_message>] [4.83s] Exiting Chain run with output:\n",
      "\u001b[0m{\n",
      "  \"Review\": \"Je trouve le goût médiocre. La mousse ne tient pas, c'est bizarre. J'achète les mêmes dans le commerce et le goût est bien meilleur...\\nVieux lot ou contrefaçon !?\",\n",
      "  \"English_Review\": \"I find the taste mediocre. The mousse doesn't hold, it's strange. I buy the same ones in the store and the taste is much better...  \\nOld batch or counterfeit!?\",\n",
      "  \"summary\": \"评论者认为味道平平， mousse质地不稳定，感觉与商店购买的产品差距很大，怀疑是旧批次或假货。\",\n",
      "  \"followup_message\": \"Cher(e) Commentateur(trice),\\n\\nMerci pour votre retour sur notre produit. Nous sommes désolés d'apprendre que vous n'avez pas été satisfait(e) de votre expérience. Nous prenons vos préoccupations très au sérieux, notamment en ce qui concerne la stabilité de la mousse et le goût.\\n\\nNous vous encourageons à contacter notre service clientèle afin de vérifier l'origine de votre produit et de trouver une solution satisfaisante. Votre avis est précieux et nous souhaite améliorer constamment la qualité de nos produits.\\n\\nMerci encore pour votre commentaire.\\n\\nCordialement,  \\n[Votre Nom]  \\n[Votre Entreprise]\"\n",
      "}\n"
     ]
    },
    {
     "data": {
      "text/plain": [
       "{'Review': \"Je trouve le goût médiocre. La mousse ne tient pas, c'est bizarre. J'achète les mêmes dans le commerce et le goût est bien meilleur...\\nVieux lot ou contrefaçon !?\",\n",
       " 'English_Review': \"I find the taste mediocre. The mousse doesn't hold, it's strange. I buy the same ones in the store and the taste is much better...  \\nOld batch or counterfeit!?\",\n",
       " 'summary': '评论者认为味道平平， mousse质地不稳定，感觉与商店购买的产品差距很大，怀疑是旧批次或假货。',\n",
       " 'followup_message': \"Cher(e) Commentateur(trice),\\n\\nMerci pour votre retour sur notre produit. Nous sommes désolés d'apprendre que vous n'avez pas été satisfait(e) de votre expérience. Nous prenons vos préoccupations très au sérieux, notamment en ce qui concerne la stabilité de la mousse et le goût.\\n\\nNous vous encourageons à contacter notre service clientèle afin de vérifier l'origine de votre produit et de trouver une solution satisfaisante. Votre avis est précieux et nous souhaite améliorer constamment la qualité de nos produits.\\n\\nMerci encore pour votre commentaire.\\n\\nCordialement,  \\n[Votre Nom]  \\n[Votre Entreprise]\"}"
      ]
     },
     "execution_count": 200,
     "metadata": {},
     "output_type": "execute_result"
    }
   ],
   "source": [
    "from langchain_core.tracers.stdout import ConsoleCallbackHandler\n",
    "\n",
    "callbacks = [ConsoleCallbackHandler()]\n",
    "\n",
    "final_chain.invoke({\"Review\": review}, config={\"callbacks\": callbacks, \"verbose\": True})\n"
   ]
  },
  {
   "cell_type": "markdown",
   "id": "18d72f1d-8a1e-4eb6-b00f-1963b3cf3adb",
   "metadata": {},
   "source": [
    "### 3.2.1 旧版API"
   ]
  },
  {
   "cell_type": "markdown",
   "id": "45d11ff5",
   "metadata": {},
   "source": [
    "<span style=\"color:#00ff00\">\n",
    "注：这里，旧版api主要指的是LLMchain，它将在后续的版本中被弃用。但是SequendtialChain类的调用必须基于chain类，而不能与现在的Runnable类兼容。\n",
    "</span>"
   ]
  },
  {
   "cell_type": "markdown",
   "id": "22d9199e",
   "metadata": {},
   "source": [
    "<span style=\"color:#00ff00\">\n",
    "创建四个子链\n",
    "</span>"
   ]
  },
  {
   "cell_type": "code",
   "execution_count": 201,
   "id": "31624a7c",
   "metadata": {},
   "outputs": [],
   "source": [
    "from langchain.chains.sequential import SequentialChain\n",
    "from langchain.chains.llm import LLMChain    \n",
    "\n",
    "#子链1\n",
    "# prompt模板 1: 翻译成英语（把下面的review翻译成英语）\n",
    "first_prompt = ChatPromptTemplate.from_template(\n",
    "    \"把下面的评论review翻译成英文:\"\n",
    "    \"\\n\\n{Review}\"\n",
    ")\n",
    "# chain 1: 输入：Review    输出：英文的 Review\n",
    "chain_one = LLMChain(llm=llm, prompt=first_prompt, output_key=\"English_Review\")\n",
    "\n",
    "#子链2\n",
    "# prompt模板 2: 用一句话总结下面的 review\n",
    "second_prompt = ChatPromptTemplate.from_template(\n",
    "    \"请你用一句话来总结下面的评论review:\"\n",
    "    \"\\n\\n{English_Review}\"\n",
    ")\n",
    "# chain 2: 输入：英文的Review   输出：总结\n",
    "chain_two = LLMChain(llm=llm, prompt=second_prompt, output_key=\"summary\")\n",
    "\n",
    "\n",
    "#子链3\n",
    "# prompt模板 3: 下面review使用的什么语言\n",
    "third_prompt = ChatPromptTemplate.from_template(\n",
    "    \"下面的评论review使用的什么语言:\\n\\n{Review}\"\n",
    ")\n",
    "# chain 3: 输入：Review  输出：语言\n",
    "chain_three = LLMChain(llm=llm, prompt=third_prompt, output_key=\"language\")\n",
    "\n",
    "\n",
    "#子链4\n",
    "# prompt模板 4: 使用特定的语言对下面的总结写一个后续回复\n",
    "fourth_prompt = ChatPromptTemplate.from_template(\n",
    "    \"使用特定的语言对下面的总结写一个后续回复:\"\n",
    "    \"\\n\\n总结: {summary}\\n\\n语言: {language}\"\n",
    ")\n",
    "# chain 4: 输入： 总结, 语言    输出： 后续回复\n",
    "chain_four = LLMChain(llm=llm, prompt=fourth_prompt,\n",
    "                      output_key=\"followup_message\"\n",
    "                     )"
   ]
  },
  {
   "cell_type": "markdown",
   "id": "2b64c691",
   "metadata": {},
   "source": [
    "<span style=\"color:#00ff00\">\n",
    "对子链进行组合\n",
    "</span>"
   ]
  },
  {
   "cell_type": "code",
   "execution_count": 202,
   "id": "2e3e4ce3",
   "metadata": {},
   "outputs": [],
   "source": [
    "# 对四个子链进行组合\n",
    "#输入：review    输出：英文review，总结，后续回复 \n",
    "overall_chain = SequentialChain(\n",
    "    chains=[chain_one, chain_two, chain_three, chain_four],\n",
    "    input_variables=[\"Review\"],\n",
    "    output_variables=[\"English_Review\", \"summary\",\"followup_message\"],\n",
    "    verbose=True\n",
    ")"
   ]
  },
  {
   "cell_type": "markdown",
   "id": "0da1015c",
   "metadata": {},
   "source": [
    "<span style=\"color:#00ff00\">\n",
    "传递输出\n",
    "</span>"
   ]
  },
  {
   "cell_type": "code",
   "execution_count": 203,
   "id": "b86c01c8",
   "metadata": {},
   "outputs": [
    {
     "name": "stdout",
     "output_type": "stream",
     "text": [
      "\n",
      "\n",
      "\u001b[1m> Entering new SequentialChain chain...\u001b[0m\n",
      "\n",
      "\u001b[1m> Finished chain.\u001b[0m\n"
     ]
    },
    {
     "data": {
      "text/plain": [
       "{'Review': \"Je trouve le goût médiocre. La mousse ne tient pas, c'est bizarre. J'achète les mêmes dans le commerce et le goût est bien meilleur...\\nVieux lot ou contrefaçon !?\",\n",
       " 'English_Review': \"I find the taste mediocre. The mousse doesn't hold, it's strange. I buy the same ones in stores and the taste is much better...  \\nOld batch or counterfeit!?\",\n",
       " 'summary': '评论者认为这款慕斯口味平庸，质地不佳，怀疑可能是旧批次或伪劣产品。',\n",
       " 'followup_message': \"Réponse : Merci pour votre retour. Nous sommes désolés d'apprendre que votre expérience avec notre mousse n'a pas été à la hauteur de vos attentes. Nous prenons très au sérieux les commentaires de nos clients et nous allons enquêter sur la qualité de ce lot. N'hésitez pas à nous contacter directement afin que nous puissions vous offrir une solution. Votre satisfaction est notre priorité !\"}"
      ]
     },
     "execution_count": 203,
     "metadata": {},
     "output_type": "execute_result"
    }
   ],
   "source": [
    "review = df.Review[5]\n",
    "overall_chain.invoke(review)"
   ]
  },
  {
   "cell_type": "markdown",
   "id": "792015db",
   "metadata": {},
   "source": [
    "### 3.2.2 总结"
   ]
  },
  {
   "cell_type": "markdown",
   "id": "f3296e93",
   "metadata": {},
   "source": [
    "在现在的架构`RunnableParallel`类中，需要显示的给出每一个`chain`的输入与输出。而先前的架构`SequentialChain`类，能够自动识别每个链的输入需求并传递合适的值。\n",
    "\n",
    "### SequentialChain 的自动化特性\n",
    "- 通过 `output_key` 自动匹配数据流\n",
    "- 只需定义输入输出变量名，中间流程自动处理\n",
    "- 系统自动识别每个链的输入需求并传递合适的值\n",
    "\n",
    "### RunnableParallel的显式处理\n",
    "- 需要明确指定每个链的输入来源\n",
    "- 数据流向完全由开发者控制\n",
    "- 更灵活但需要更多代码\n"
   ]
  },
  {
   "cell_type": "markdown",
   "id": "2cfe193b",
   "metadata": {},
   "source": [
    "<span style=\"color:#00ff00\">\n",
    "评价：目前看来还是旧版api更加方便简洁，不过未来LangChain 团队可能会提供更接近 SequentialChain 便捷性的 Runnable API。\n",
    "</span>\n"
   ]
  },
  {
   "cell_type": "markdown",
   "id": "3041ea4c",
   "metadata": {},
   "source": [
    "## 四、 路由链"
   ]
  },
  {
   "cell_type": "markdown",
   "id": "f0c32f97",
   "metadata": {},
   "source": [
    "到目前为止，我们已经学习了大语言模型链和顺序链。但是，如果我们想做一些更复杂的事情怎么办？\n",
    "\n",
    "一个相当常见但基本的操作是<span style=\"color:red\">根据输入将其路由到一条链</span>，具体取决于该输入到底是什么。如果你有多个子链，每个子链都专门用于特定类型的输入，那么可以组成一个路由链，它<span style=\"color:red\">首先决定将它传递给哪个子链</span>，然后将它传递给那个链。\n",
    "\n",
    "路由器由两个组件组成：\n",
    "\n",
    "- 路由链（Router Chain）：路由器链本身，负责选择要调用的下一个链\n",
    "- destination_chains：路由器链可以路由到的链\n",
    "\n",
    "举一个具体的例子，让我们看一下我们在不同类型的链之间路由的地方，我们在这里有不同的prompt:  "
   ]
  },
  {
   "cell_type": "code",
   "execution_count": 347,
   "id": "f3f50bcc",
   "metadata": {},
   "outputs": [],
   "source": [
    "llm = init_chat_model(\"gpt-4o-mini\", model_provider=\"openai\", temperature=0)"
   ]
  },
  {
   "cell_type": "markdown",
   "id": "4495fa06",
   "metadata": {},
   "source": [
    "### 4.1 新版API"
   ]
  },
  {
   "cell_type": "markdown",
   "id": "c87606f0",
   "metadata": {},
   "source": [
    "#### 4.1.1 定义提示模板"
   ]
  },
  {
   "cell_type": "markdown",
   "id": "c3b85285-c736-4a5d-bd14-d9b5025ca29b",
   "metadata": {},
   "source": [
    "首先，我们定义适用于不同场景下的提示模板。"
   ]
  },
  {
   "cell_type": "code",
   "execution_count": 348,
   "id": "ade83f4f",
   "metadata": {},
   "outputs": [],
   "source": [
    "# 中文\n",
    "#第一个提示适合回答物理问题\n",
    "physics_template = \"\"\"你是一个非常聪明的物理专家。 \\\n",
    "你擅长用一种简洁并且易于理解的方式去回答问题。\\\n",
    "当你不知道问题的答案时，你承认\\\n",
    "你不知道.\n",
    "\n",
    "问题:{input}\n",
    "\"\"\"\n",
    "\n",
    "\n",
    "#第二个提示适合回答数学问题\n",
    "math_template = \"\"\"你是一个非常优秀的数学家。 \\\n",
    "你擅长回答数学问题。 \\\n",
    "你之所以如此优秀， \\\n",
    "是因为你能够将棘手的问题分解为组成部分，\\\n",
    "回答组成部分，然后将它们组合在一起，回答更广泛的问题。\n",
    "\n",
    "问题：{input}\n",
    "\"\"\"\n",
    "\n",
    "\n",
    "#第三个适合回答历史问题\n",
    "history_template = \"\"\"你是以为非常优秀的历史学家。 \\\n",
    "你对一系列历史时期的人物、事件和背景有着极好的学识和理解\\\n",
    "你有能力思考、反思、辩证、讨论和评估过去。\\\n",
    "你尊重历史证据，并有能力利用它来支持你的解释和判断。\n",
    "\n",
    "问题:{input}\n",
    "\"\"\"\n",
    "\n",
    "\n",
    "#第四个适合回答计算机问题\n",
    "computerscience_template = \"\"\" 你是一个成功的计算机科学专家。\\\n",
    "你有创造力、协作精神、\\\n",
    "前瞻性思维、自信、解决问题的能力、\\\n",
    "对理论和算法的理解以及出色的沟通技巧。\\\n",
    "你非常擅长回答编程问题。\\\n",
    "你之所以如此优秀，是因为你知道  \\\n",
    "如何通过以机器可以轻松解释的命令式步骤描述解决方案来解决问题，\\\n",
    "并且你知道如何选择在时间复杂性和空间复杂性之间取得良好平衡的解决方案。\n",
    "\n",
    "问题：{input}\n",
    "\"\"\""
   ]
  },
  {
   "cell_type": "markdown",
   "id": "3bad3501",
   "metadata": {},
   "source": [
    "#### 4.1.2 基于提示模版信息创建相应目标链  "
   ]
  },
  {
   "cell_type": "markdown",
   "id": "a21adfbf",
   "metadata": {},
   "source": [
    "<span style=\"color:red\">目标链</span>是由路由链调用的链，每个目标链都是一个语言模型链。"
   ]
  },
  {
   "cell_type": "markdown",
   "id": "a2409e3d",
   "metadata": {},
   "source": [
    "<span style=\"color:#00ff00\">\n",
    "我们将利用LangChain的新版api，利用<code>管道连接符｜</code>基于每个模板创建适用于不同情景的链。\n",
    "</span>"
   ]
  },
  {
   "cell_type": "code",
   "execution_count": 349,
   "id": "28f98411",
   "metadata": {},
   "outputs": [],
   "source": [
    "# 创建适用于不同场景的链\n",
    "physics_chain = ChatPromptTemplate.from_template(physics_template) | llm | StrOutputParser()\n",
    "math_chain = ChatPromptTemplate.from_template(math_template) | llm | StrOutputParser()\n",
    "history_chain = ChatPromptTemplate.from_template(history_template) | llm | StrOutputParser()\n",
    "cs_chain = ChatPromptTemplate.from_template(computerscience_template) | llm | StrOutputParser()"
   ]
  },
  {
   "cell_type": "markdown",
   "id": "53a82e55",
   "metadata": {},
   "source": [
    "#### 4.1.3 创建默认目标链\n"
   ]
  },
  {
   "cell_type": "markdown",
   "id": "61673ce8",
   "metadata": {},
   "source": [
    "除了目标链之外，我们还需要一个<span style=\"color:red\">默认目标链</span>。这是一个当路由器无法决定使用哪个子链时调用的链。在上面的示例中，当输入问题与物理、数学、历史或计算机科学无关时，可能会调用它。\n"
   ]
  },
  {
   "cell_type": "code",
   "execution_count": 377,
   "id": "58ce780c",
   "metadata": {},
   "outputs": [],
   "source": [
    "# 默认链\n",
    "default_template = \"\"\"请回答下面的问题：\n",
    "\n",
    "问题: {input}\n",
    "\"\"\"\n",
    "\n",
    "default_chain = ChatPromptTemplate.from_template(default_template) | llm | StrOutputParser()"
   ]
  },
  {
   "cell_type": "markdown",
   "id": "6cd03045",
   "metadata": {},
   "source": [
    "#### 4.1.4 定义不同链之间的路由模板\n"
   ]
  },
  {
   "cell_type": "markdown",
   "id": "dcbe372c",
   "metadata": {},
   "source": [
    "这包括要完成的任务的说明以及输出应该采用的特定格式。"
   ]
  },
  {
   "cell_type": "markdown",
   "id": "c6ab9ef4",
   "metadata": {},
   "source": [
    "<span style=\"color:#00ff00\">\n",
    "该路由模版将被用于确定输入应该被路由到哪个链。输出中除了包含目标链的信息<code>destination</code>，还可以包含其他内容。这里我们还要求模型输出<code>next_inputs</code>，这是对原始输入的修改版本。\n",
    "</span>"
   ]
  },
  {
   "cell_type": "markdown",
   "id": "f099f4ae",
   "metadata": {},
   "source": [
    "<span style=\"color:#00ff00\">\n",
    "值得注意的是，模板中的JSON示例使用了<code>双花括号{{}}</code>。这是因为，在LangChain的<code>ChatPromptTemplate</code>中，单花括号<code>{变量名}</code>用于标识模板变量。当模板解析器看到<code>{</code>时，它会尝试找到对应的变量名，直到遇到<code>}</code>为止。如果在模板中使用单括号<code>{}</code>，解析器可能会认为这是待替换的变量，从而引发错误。而双花括号<code>{{}}</code>则可以避免这种情况，在LangChain中，双花括号是转义字符，用于表示\"我想在输出中显示字面的花括号，而不是将其解释为变量标记\"。解析器会将自动将<code>{{</code>转换为字面值<code>{</code>，将<code>}}</code>转换为字面值<code>}</code>。这样，JSON示例就不会被错误地解析为变量定义。\n",
    "</span>"
   ]
  },
  {
   "cell_type": "code",
   "execution_count": 362,
   "id": "612032b3",
   "metadata": {},
   "outputs": [],
   "source": [
    "# 路由模板\n",
    "router_template = \"\"\"给语言模型一个原始文本输入，\n",
    "让其选择最适合输入的模型提示。\n",
    "系统将为您提供可用提示的名称以及最适合该提示的描述。\n",
    "如果你认为修改原始输入最终会导致语言模型做出更好的响应，\n",
    "你也可以修改原始输入。\n",
    "\n",
    "\n",
    "<< 格式 >>\n",
    "返回一个带有JSON对象的markdown代码片段，该JSON对象的格式如下：\n",
    "```json\n",
    "{{\n",
    "    \"destination\": \"领域名称\",\n",
    "    \"next_inputs\": \"原始输入的改进版本\"\n",
    "}}\n",
    "```\n",
    "\n",
    "记住：\"destination\"必须是下面指定的候选提示名称之一，\n",
    "或者如果输入不太适合任何候选提示，\n",
    "则可以是\"其他\"。\n",
    "记住：如果您认为不需要任何修改，\n",
    "则\"next_inputs\"可以只是原始输入。\n",
    "\n",
    "<< 候选提示 >>\n",
    "物理学: 擅长回答关于物理学的问题\n",
    "数学: 擅长回答数学问题\n",
    "历史: 擅长回答历史问题\n",
    "计算机科学: 擅长回答计算机科学问题\n",
    "\n",
    "<< 输入 >>\n",
    "{input}\n",
    "\n",
    "<< 输出 (记得要包含 ```json)>>\n",
    "\"\"\""
   ]
  },
  {
   "cell_type": "markdown",
   "id": "692be77e",
   "metadata": {},
   "source": [
    "#### 4.1.5 构建路由状态\n"
   ]
  },
  {
   "cell_type": "markdown",
   "id": "978e9ce9",
   "metadata": {},
   "source": [
    "<span style=\"color:#00ff00\">\n",
    "在新版API中，我们使用<code>LongGraph</code>来构建整个路由链。我们首先定义两个类。\n",
    "</span>"
   ]
  },
  {
   "cell_type": "markdown",
   "id": "70aa10ad",
   "metadata": {},
   "source": [
    "<span style=\"color:#00ff00\">\n",
    "这里，两个类都是<code>TypedDict</code>类型。<code>TypedDict</code>用于定义字典的结构。它允许指定字典中每个键的类型，从而提供更严格的类型检查。<code>Literal</code>则是用于指定一个变量可以取的具体值。它允许定义一个变量的类型为特定的常量值，而不是一个范围或类型。在这里，<code>RouteQuery</code>类中destination键只能取<code>物理学</code>、<code>数学</code>、<code>历史</code>、<code>计算机科学</code>或<code>其他</code>中的一个值。\n",
    "</span>"
   ]
  },
  {
   "cell_type": "markdown",
   "id": "65c544ec",
   "metadata": {},
   "source": [
    "<span style=\"color:#00ff00\">\n",
    "<code>RouteQuery</code>类定义了路由查询的结构。这个类与之前的路由模板中要求的JSON输出格式是对应的。\n",
    "<code>MultiPromptState</code>类是路由链的状态类型，它定义了数据流动的格式。\n",
    "</span>"
   ]
  },
  {
   "cell_type": "code",
   "execution_count": 378,
   "id": "e13c3a88",
   "metadata": {},
   "outputs": [],
   "source": [
    "from typing import Literal\n",
    "from typing_extensions import TypedDict\n",
    "\n",
    "# 路由查询结果类型\n",
    "class RouteQuery(TypedDict):\n",
    "    \"\"\"路由查询结果类型\"\"\"\n",
    "    destination: Literal[\"物理学\", \"数学\", \"历史\", \"计算机科学\", \"其他\"]\n",
    "    next_inputs: str\n",
    "\n",
    "# 路由状态类型\n",
    "class MultiPromptState(TypedDict):\n",
    "    \"\"\"状态类型定义\"\"\"\n",
    "    input: str\n",
    "    routing_result: RouteQuery\n",
    "    answer: str"
   ]
  },
  {
   "cell_type": "markdown",
   "id": "caeed0f9",
   "metadata": {},
   "source": [
    "#### 4.1.6 查询函数\n"
   ]
  },
  {
   "cell_type": "markdown",
   "id": "facf8cd5",
   "metadata": {},
   "source": [
    "<span style=\"color:#00ff00\">\n",
    "<code>route_query</code>函数是路由查询函数，它根据输入，利用<code>LLM</code>查询确定领域并修改输入。这里的<code>config</code>是配置参数，用于指定运行时的配置。例如可以与之前一样，通过设置该参数打印日志。\n",
    "</span>"
   ]
  },
  {
   "cell_type": "code",
   "execution_count": 379,
   "id": "3cb90fae",
   "metadata": {},
   "outputs": [],
   "source": [
    "from langchain_core.runnables import RunnableConfig\n",
    "\n",
    "# 路由查询函数\n",
    "def route_query(state: MultiPromptState, config: RunnableConfig):\n",
    "    \"\"\"根据输入查询确定领域并可能修改输入\"\"\"\n",
    "    router_prompt = ChatPromptTemplate.from_template(router_template)\n",
    "    route_chain = router_prompt | llm.with_structured_output(RouteQuery)\n",
    "\n",
    "    result = route_chain.invoke({\"input\": state[\"input\"]}, config)\n",
    "    return {\"routing_result\": result}"
   ]
  },
  {
   "cell_type": "markdown",
   "id": "8cdc811a",
   "metadata": {},
   "source": [
    "#### 4.1.7 各路由节点的执行函数\n"
   ]
  },
  {
   "cell_type": "markdown",
   "id": "9a1e2bdb",
   "metadata": {},
   "source": [
    "<span style=\"color:#00ff00\">\n",
    "我们需要定义在各路由节点的行为函数，它由对应领域的链和输入组成。其中，传入链的输入是路由结果中的<code>next_inputs</code>，即修改后的输入。\n",
    "</span>"
   ]
  },
  {
   "cell_type": "code",
   "execution_count": 381,
   "id": "c1b1b77a",
   "metadata": {},
   "outputs": [],
   "source": [
    "# 各路由节点的执行函数\n",
    "\n",
    "def physics_prompt(state: MultiPromptState, config: RunnableConfig):\n",
    "    \"\"\"处理物理学问题\"\"\"\n",
    "    message = state[\"routing_result\"][\"next_inputs\"]\n",
    "    response = physics_chain.invoke({\"input\": message})\n",
    "    return {\"answer\": response}\n",
    "\n",
    "def math_prompt(state: MultiPromptState, config: RunnableConfig):\n",
    "    \"\"\"处理数学问题\"\"\"\n",
    "    message = state[\"routing_result\"][\"next_inputs\"]\n",
    "    response = math_chain.invoke({\"input\": message})\n",
    "    return {\"answer\": response}\n",
    "\n",
    "def history_prompt(state: MultiPromptState, config: RunnableConfig):\n",
    "    \"\"\"处理历史问题\"\"\"\n",
    "    message = state[\"routing_result\"][\"next_inputs\"]\n",
    "    response = history_chain.invoke({\"input\": message})\n",
    "    return {\"answer\": response}\n",
    "\n",
    "def cs_prompt(state: MultiPromptState, config: RunnableConfig):\n",
    "    \"\"\"处理计算机科学问题\"\"\"\n",
    "    message = state[\"routing_result\"][\"next_inputs\"]\n",
    "    response = cs_chain.invoke({\"input\": message})\n",
    "    return {\"answer\": response}\n",
    "\n",
    "def default_prompt(state: MultiPromptState, config: RunnableConfig):\n",
    "    \"\"\"处理其他问题\"\"\"\n",
    "    message = state[\"routing_result\"][\"next_inputs\"]\n",
    "    response = default_chain.invoke({\"input\": message})\n",
    "    return {\"answer\": response}"
   ]
  },
  {
   "cell_type": "markdown",
   "id": "378b4f41",
   "metadata": {},
   "source": [
    "#### 4.1.8 节点选择函数\n"
   ]
  },
  {
   "cell_type": "markdown",
   "id": "e1e15fea",
   "metadata": {},
   "source": [
    "<span style=\"color:#00ff00\">\n",
    "我们利用<code>select_node</code>函数，根据路由链的路由结果选择去到哪一个路由节点。\n",
    "</span>"
   ]
  },
  {
   "cell_type": "code",
   "execution_count": 382,
   "id": "89056c75",
   "metadata": {},
   "outputs": [],
   "source": [
    "# 节点选择函数\n",
    "def select_node(state: MultiPromptState) -> Literal[\"physics_node\", \"math_node\", \"history_node\", \"cs_node\", \"default_node\"]:\n",
    "    \"\"\"根据路由结果选择下一个节点\"\"\"\n",
    "    destination = state[\"routing_result\"][\"destination\"]\n",
    "    if destination == \"物理学\":\n",
    "        return \"physics_node\"\n",
    "    elif destination == \"数学\":\n",
    "        return \"math_node\"\n",
    "    elif destination == \"历史\":\n",
    "        return \"history_node\"\n",
    "    elif destination == \"计算机科学\":\n",
    "        return \"cs_node\"\n",
    "    else:\n",
    "        return \"default_node\""
   ]
  },
  {
   "cell_type": "markdown",
   "id": "840af862",
   "metadata": {},
   "source": [
    "#### 4.1.9 创建LangGraph状态图"
   ]
  },
  {
   "cell_type": "markdown",
   "id": "0a325b05",
   "metadata": {},
   "source": [
    "<span style=\"color:#00ff00\">\n",
    "最后，我们创建LongGraph状态图。我们需要在图中添加所有节点和边。\n",
    "</span>"
   ]
  },
  {
   "cell_type": "code",
   "execution_count": 383,
   "id": "553aba36",
   "metadata": {},
   "outputs": [],
   "source": [
    "from langgraph.graph import END, START, StateGraph\n",
    "\n",
    "#  创建状态图\n",
    "graph = StateGraph(MultiPromptState)\n",
    "\n",
    "#  添加节点\n",
    "graph.add_node(\"route_query\", route_query)\n",
    "graph.add_node(\"physics_node\", physics_prompt)\n",
    "graph.add_node(\"math_node\", math_prompt)\n",
    "graph.add_node(\"history_node\", history_prompt)\n",
    "graph.add_node(\"cs_node\", cs_prompt)\n",
    "graph.add_node(\"default_node\", default_prompt)\n",
    "\n",
    "#  设置图的入口点\n",
    "graph.add_edge(START, \"route_query\")\n",
    "\n",
    "#  添加条件边\n",
    "graph.add_conditional_edges(\"route_query\", select_node)\n",
    "\n",
    "#  添加终止边\n",
    "graph.add_edge(\"physics_node\", END)\n",
    "graph.add_edge(\"math_node\", END)\n",
    "graph.add_edge(\"history_node\", END)\n",
    "graph.add_edge(\"cs_node\", END)\n",
    "graph.add_edge(\"default_node\", END)\n",
    "\n",
    "#  编译图\n",
    "multi_prompt_chain = graph.compile()"
   ]
  },
  {
   "cell_type": "markdown",
   "id": "9508f977",
   "metadata": {},
   "source": [
    "<span style=\"color:#00ff00\">\n",
    "我们可以将这个图可视化，以便更好地理解。\n",
    "</span>"
   ]
  },
  {
   "cell_type": "code",
   "execution_count": 376,
   "id": "640e3a98",
   "metadata": {},
   "outputs": [
    {
     "data": {
      "image/png": "[encoded data removed]",
      "text/plain": [
       "<IPython.core.display.Image object>"
      ]
     },
     "execution_count": 376,
     "metadata": {},
     "output_type": "execute_result"
    }
   ],
   "source": [
    "from IPython.display import Image\n",
    "\n",
    "Image(multi_prompt_chain.get_graph().draw_mermaid_png())"
   ]
  },
  {
   "cell_type": "markdown",
   "id": "2dc0fe6c",
   "metadata": {},
   "source": [
    "#### 4.1.9 进行提问"
   ]
  },
  {
   "cell_type": "markdown",
   "id": "3d7aab49",
   "metadata": {},
   "source": [
    "<span style=\"color:#00ff00\">\n",
    "现在我们可以利用上述定义的路由链来回答问题了。\n",
    "</span>"
   ]
  },
  {
   "cell_type": "markdown",
   "id": "f169220c",
   "metadata": {},
   "source": [
    "如果我们问一个物理问题，我们希望看到他被路由到物理链路\n"
   ]
  },
  {
   "cell_type": "code",
   "execution_count": 384,
   "id": "62f4baf9",
   "metadata": {},
   "outputs": [],
   "source": [
    "# 问题：什么是黑体辐射？\n",
    "state = multi_prompt_chain.invoke({\"input\": \"什么是黑体辐射？\"})"
   ]
  },
  {
   "cell_type": "markdown",
   "id": "23aa9c54",
   "metadata": {},
   "source": [
    "<span style=\"color:#00ff00\">\n",
    "我们的输出是一个先前定义的<code>MultiPromptState</code>类。可以看到，<code>routing_result</code>键中的<code>destination</code>为<code>物理学</code>，这表明输入被路由到了物理链路。\n",
    "</span>"
   ]
  },
  {
   "cell_type": "code",
   "execution_count": 385,
   "id": "8011a385",
   "metadata": {},
   "outputs": [
    {
     "data": {
      "text/plain": [
       "{'input': '什么是黑体辐射？',\n",
       " 'routing_result': {'destination': '物理学',\n",
       "  'next_inputs': '什么是黑体辐射？请详细解释其概念及相关定律。'},\n",
       " 'answer': '黑体辐射是指一个理想化的物体（称为黑体）在热平衡状态下所发出的辐射。黑体能够吸收所有入射的电磁辐射，而不反射或透过任何光线，因此它是一个完美的辐射体。黑体辐射的研究是热辐射和量子物理的重要基础。\\n\\n### 黑体辐射的主要概念：\\n\\n1. **黑体**：理想化的物体，能够完全吸收所有波长的辐射，并且在任何温度下都能发出辐射。\\n\\n2. **热平衡**：当黑体的温度保持恒定时，它所发出的辐射与其吸收的辐射达到平衡。\\n\\n3. **辐射谱**：黑体辐射的强度与波长的关系，通常用波长或频率表示。黑体辐射的谱是连续的，且在不同温度下具有不同的分布。\\n\\n### 相关定律：\\n\\n1. **维恩位移定律**：该定律描述了黑体辐射的峰值波长与温度之间的关系。公式为：\\n   \\\\[\\n   \\\\lambda_{\\\\text{max}} = \\\\frac{b}{T}\\n   \\\\]\\n   其中，\\\\( \\\\lambda_{\\\\text{max}} \\\\) 是辐射强度最大的波长，\\\\( T \\\\) 是黑体的绝对温度，\\\\( b \\\\) 是一个常数（约为2898 μm·K）。\\n\\n2. **斯特藩-玻尔兹曼定律**：该定律表明，黑体辐射的总能量与其温度的四次方成正比。公式为：\\n   \\\\[\\n   E = \\\\sigma T^4\\n   \\\\]\\n   其中，\\\\( E \\\\) 是单位面积上辐射的总能量，\\\\( \\\\sigma \\\\) 是斯特藩-玻尔兹曼常数（约为 \\\\( 5.67 \\\\times 10^{-8} \\\\, \\\\text{W/m}^2\\\\text{K}^4 \\\\)）。\\n\\n3. **普朗克定律**：普朗克提出了描述黑体辐射的数学模型，给出了辐射强度与波长和温度的关系。公式为：\\n   \\\\[\\n   I(\\\\lambda, T) = \\\\frac{2\\\\pi hc}{\\\\lambda^5} \\\\cdot \\\\frac{1}{e^{\\\\frac{hc}{\\\\lambda k T}} - 1}\\n   \\\\]\\n   其中，\\\\( I(\\\\lambda, T) \\\\) 是波长为 \\\\( \\\\lambda \\\\) 时的辐射强度，\\\\( h \\\\) 是普朗克常数，\\\\( c \\\\) 是光速，\\\\( k \\\\) 是玻尔兹曼常数。\\n\\n### 总结：\\n黑体辐射是理解热辐射和量子物理的关键，维恩位移定律、斯特藩-玻尔兹曼定律和普朗克定律是描述其特性的基本定律。这些定律不仅在物理学中具有重要意义，也在许多应用领域（如天文学、材料科学等）中发挥着重要作用。'}"
      ]
     },
     "execution_count": 385,
     "metadata": {},
     "output_type": "execute_result"
    }
   ],
   "source": [
    "state"
   ]
  },
  {
   "cell_type": "markdown",
   "id": "6de6d817",
   "metadata": {},
   "source": [
    "<span style=\"color:#00ff00\">\n",
    "通过调用<code>state[\"answer\"]</code>，我们可以获取到最终的答案。\n",
    "</span>"
   ]
  },
  {
   "cell_type": "code",
   "execution_count": 386,
   "id": "5ef10565",
   "metadata": {},
   "outputs": [
    {
     "data": {
      "text/plain": [
       "'黑体辐射是指一个理想化的物体（称为黑体）在热平衡状态下所发出的辐射。黑体能够吸收所有入射的电磁辐射，而不反射或透过任何光线，因此它是一个完美的辐射体。黑体辐射的研究是热辐射和量子物理的重要基础。\\n\\n### 黑体辐射的主要概念：\\n\\n1. **黑体**：理想化的物体，能够完全吸收所有波长的辐射，并且在任何温度下都能发出辐射。\\n\\n2. **热平衡**：当黑体的温度保持恒定时，它所发出的辐射与其吸收的辐射达到平衡。\\n\\n3. **辐射谱**：黑体辐射的强度与波长的关系，通常用波长或频率表示。黑体辐射的谱是连续的，且在不同温度下具有不同的分布。\\n\\n### 相关定律：\\n\\n1. **维恩位移定律**：该定律描述了黑体辐射的峰值波长与温度之间的关系。公式为：\\n   \\\\[\\n   \\\\lambda_{\\\\text{max}} = \\\\frac{b}{T}\\n   \\\\]\\n   其中，\\\\( \\\\lambda_{\\\\text{max}} \\\\) 是辐射强度最大的波长，\\\\( T \\\\) 是黑体的绝对温度，\\\\( b \\\\) 是一个常数（约为2898 μm·K）。\\n\\n2. **斯特藩-玻尔兹曼定律**：该定律表明，黑体辐射的总能量与其温度的四次方成正比。公式为：\\n   \\\\[\\n   E = \\\\sigma T^4\\n   \\\\]\\n   其中，\\\\( E \\\\) 是单位面积上辐射的总能量，\\\\( \\\\sigma \\\\) 是斯特藩-玻尔兹曼常数（约为 \\\\( 5.67 \\\\times 10^{-8} \\\\, \\\\text{W/m}^2\\\\text{K}^4 \\\\)）。\\n\\n3. **普朗克定律**：普朗克提出了描述黑体辐射的数学模型，给出了辐射强度与波长和温度的关系。公式为：\\n   \\\\[\\n   I(\\\\lambda, T) = \\\\frac{2\\\\pi hc}{\\\\lambda^5} \\\\cdot \\\\frac{1}{e^{\\\\frac{hc}{\\\\lambda k T}} - 1}\\n   \\\\]\\n   其中，\\\\( I(\\\\lambda, T) \\\\) 是波长为 \\\\( \\\\lambda \\\\) 时的辐射强度，\\\\( h \\\\) 是普朗克常数，\\\\( c \\\\) 是光速，\\\\( k \\\\) 是玻尔兹曼常数。\\n\\n### 总结：\\n黑体辐射是理解热辐射和量子物理的关键，维恩位移定律、斯特藩-玻尔兹曼定律和普朗克定律是描述其特性的基本定律。这些定律不仅在物理学中具有重要意义，也在许多应用领域（如天文学、材料科学等）中发挥着重要作用。'"
      ]
     },
     "execution_count": 386,
     "metadata": {},
     "output_type": "execute_result"
    }
   ],
   "source": [
    "state[\"answer\"]"
   ]
  },
  {
   "cell_type": "markdown",
   "id": "057c46d8",
   "metadata": {},
   "source": [
    "如果我们问一个数学问题，我们希望看到他被路由到数学链路。"
   ]
  },
  {
   "cell_type": "code",
   "execution_count": 387,
   "id": "ed0b0d1c",
   "metadata": {},
   "outputs": [],
   "source": [
    "# 问题：2+2等于多少？\n",
    "state = multi_prompt_chain.invoke({\"input\": \"2 + 2 等于多少\"})"
   ]
  },
  {
   "cell_type": "code",
   "execution_count": 388,
   "id": "a95db938",
   "metadata": {},
   "outputs": [
    {
     "data": {
      "text/plain": [
       "{'input': '2 + 2 等于多少',\n",
       " 'routing_result': {'destination': '数学', 'next_inputs': '2 + 2 等于多少'},\n",
       " 'answer': '要解决这个问题，我们可以将其分解为简单的部分。\\n\\n1. 我们有两个数字：2 和 2。\\n2. 我们需要将这两个数字相加。\\n\\n根据基本的加法规则：\\n\\\\[ 2 + 2 = 4 \\\\]\\n\\n因此，2 + 2 等于 4。'}"
      ]
     },
     "execution_count": 388,
     "metadata": {},
     "output_type": "execute_result"
    }
   ],
   "source": [
    "state"
   ]
  },
  {
   "cell_type": "markdown",
   "id": "06cd2190",
   "metadata": {},
   "source": [
    "如果我们问一个历史问题，我们希望看到他被路由到历史链路。"
   ]
  },
  {
   "cell_type": "code",
   "execution_count": 389,
   "id": "69c66281",
   "metadata": {},
   "outputs": [],
   "source": [
    "# 问题：你知道李白是谁嘛?\n",
    "state = multi_prompt_chain.invoke({\"input\": \"你知道李白是谁嘛?\"})"
   ]
  },
  {
   "cell_type": "code",
   "execution_count": 390,
   "id": "4412dfd8",
   "metadata": {},
   "outputs": [
    {
     "data": {
      "text/plain": [
       "{'input': '你知道李白是谁嘛?',\n",
       " 'routing_result': {'destination': '历史', 'next_inputs': '你能告诉我关于李白的生平和成就吗?'},\n",
       " 'answer': '李白（701年－762年），字太白，号青莲居士，唐代著名的诗人，被誉为“诗仙”。他出生于今天的四川省，早年生活在一个商人家庭，后来随父亲迁居到不同的地方，最终定居在长安（今西安）。\\n\\n### 生平\\n\\n李白的早年生活相对不详，但他自幼聪慧，才华横溢，尤其擅长诗歌。他在年轻时游历了许多地方，广泛接触了当时的文化和社会，结识了许多文人雅士。李白的游历不仅丰富了他的生活经历，也为他的诗歌创作提供了丰富的素材。\\n\\n在他大约二十多岁时，李白曾试图通过科举考试进入仕途，但未能如愿。此后，他选择了游历四方，过着一种自由自在的生活。他的诗歌风格受到了道教思想的影响，常常表现出对自然的热爱和对自由的向往。\\n\\n李白在唐玄宗时期（712年－756年）达到了创作的巅峰，曾受到皇帝的宠信，短暂地担任过一些官职，但由于性格豪放不羁，最终未能在官场上长久立足。安史之乱（755年－763年）爆发后，李白的生活受到影响，他曾被卷入政治漩涡，后期生活相对困顿。\\n\\n李白于762年去世，享年62岁。他的墓地位于今四川省的青莲乡。\\n\\n### 成就\\n\\n李白的诗歌以其豪放、奔放的风格著称，常常表现出对人生、自然和自由的深刻思考。他的作品数量庞大，现存诗作约有900首，涵盖了五言、七言、古体诗和律诗等多种形式。\\n\\n李白的诗歌主题广泛，包括山水、友情、酒、人生哲理等。他的代表作有《将进酒》、《庐山谣》、《月下独酌》、《静夜思》等。其中，《将进酒》以其豪放的气势和对人生短暂的感慨而广为流传。\\n\\n李白的诗歌不仅在中国文学史上占有重要地位，也对后世的诗人产生了深远的影响。他的作品被翻译成多种语言，广泛传播，成为世界文学宝库中的瑰宝。\\n\\n总的来说，李白以其卓越的才华和独特的个性，成为中国文学史上不可磨灭的巨匠，他的诗歌至今仍然被人们广泛传颂和研究。'}"
      ]
     },
     "execution_count": 390,
     "metadata": {},
     "output_type": "execute_result"
    }
   ],
   "source": [
    "state"
   ]
  },
  {
   "cell_type": "markdown",
   "id": "d6686a97",
   "metadata": {},
   "source": [
    "如果我们传递一个与任何子链路都无关的问题时，会发生什么呢？\n",
    "\n",
    "这里，我们问了一个关于生物学的问题，我们可以看到它选择的链路是<span style=\"color:red\">其他</span>。这意味着它将被**传递到默认链路，它本身只是对语言模型的通用调用**。语言模型幸运地对生物学知道很多，所以它可以帮助我们。"
   ]
  },
  {
   "cell_type": "code",
   "execution_count": 369,
   "id": "1928869a",
   "metadata": {},
   "outputs": [],
   "source": [
    "# 问题：为什么我们身体里的每个细胞都包含DNA？\n",
    "state = multi_prompt_chain.invoke({\"input\": \"为什么我们身体里的每个细胞都包含DNA？\"})"
   ]
  },
  {
   "cell_type": "code",
   "execution_count": 370,
   "id": "9a939c2b",
   "metadata": {},
   "outputs": [
    {
     "data": {
      "text/plain": [
       "{'input': '为什么我们身体里的每个细胞都包含DNA？',\n",
       " 'routing_result': {'destination': '其他',\n",
       "  'next_inputs': '为什么我们身体里的每个细胞都包含DNA的原因是什么？'},\n",
       " 'answer': '每个细胞都包含DNA的原因主要有以下几点：\\n\\n1. **遗传信息的存储**：DNA（脱氧核糖核酸）是生物体遗传信息的载体，包含了构建和维持生命所需的所有信息。每个细胞中的DNA都携带着该生物体的遗传特征和发展指令。\\n\\n2. **细胞功能的调控**：不同类型的细胞（如肌肉细胞、神经细胞等）虽然都含有相同的DNA，但它们的功能和特性是由基因的表达调控的。细胞通过选择性地表达特定的基因来执行不同的功能。\\n\\n3. **自我复制**：在细胞分裂过程中，DNA能够准确复制自身，确保每个新细胞都能获得完整的遗传信息。这对于生长、修复和繁殖至关重要。\\n\\n4. **适应与进化**：DNA的变异和重组为生物体提供了适应环境变化的能力，推动了进化过程。细胞中的DNA能够通过突变和基因重组等方式产生遗传多样性。\\n\\n5. **细胞的统一性**：尽管不同细胞类型具有不同的功能，但它们都源于同一个受精卵，所有细胞都保留了相同的DNA，这为生物体的整体协调和功能提供了基础。\\n\\n综上所述，DNA在细胞中的存在是生命的基本特征之一，确保了遗传信息的传递、细胞功能的多样性以及生物体的生长和适应能力。'}"
      ]
     },
     "execution_count": 370,
     "metadata": {},
     "output_type": "execute_result"
    }
   ],
   "source": [
    "state"
   ]
  },
  {
   "cell_type": "markdown",
   "id": "86df968a",
   "metadata": {},
   "source": [
    "### 4.2 旧版API"
   ]
  },
  {
   "cell_type": "markdown",
   "id": "9bb21c57",
   "metadata": {},
   "source": [
    "<span style=\"color:#00ff00\">\n",
    "旧版API中，使用的基础LLM链<code>LLMChain</code>和最终的组合器<code>MultiPromptChain</code>都将在未来被废弃。\n",
    "</span>\n"
   ]
  },
  {
   "cell_type": "markdown",
   "id": "d844c6c5",
   "metadata": {},
   "source": [
    "#### 4.2.1 定义提示模板"
   ]
  },
  {
   "cell_type": "code",
   "execution_count": 411,
   "id": "9c9c202b",
   "metadata": {},
   "outputs": [],
   "source": [
    "# 中文\n",
    "#第一个提示适合回答物理问题\n",
    "physics_template = \"\"\"你是一个非常聪明的物理专家。 \\\n",
    "你擅长用一种简洁并且易于理解的方式去回答问题。\\\n",
    "当你不知道问题的答案时，你承认\\\n",
    "你不知道.\n",
    "\n",
    "这是一个问题:\n",
    "{input}\"\"\"\n",
    "\n",
    "\n",
    "#第二个提示适合回答数学问题\n",
    "math_template = \"\"\"你是一个非常优秀的数学家。 \\\n",
    "你擅长回答数学问题。 \\\n",
    "你之所以如此优秀， \\\n",
    "是因为你能够将棘手的问题分解为组成部分，\\\n",
    "回答组成部分，然后将它们组合在一起，回答更广泛的问题。\n",
    "\n",
    "这是一个问题：\n",
    "{input}\"\"\"\n",
    "\n",
    "\n",
    "#第三个适合回答历史问题\n",
    "history_template = \"\"\"你是以为非常优秀的历史学家。 \\\n",
    "你对一系列历史时期的人物、事件和背景有着极好的学识和理解\\\n",
    "你有能力思考、反思、辩证、讨论和评估过去。\\\n",
    "你尊重历史证据，并有能力利用它来支持你的解释和判断。\n",
    "\n",
    "这是一个问题:\n",
    "{input}\"\"\"\n",
    "\n",
    "\n",
    "#第四个适合回答计算机问题\n",
    "computerscience_template = \"\"\" 你是一个成功的计算机科学专家。\\\n",
    "你有创造力、协作精神、\\\n",
    "前瞻性思维、自信、解决问题的能力、\\\n",
    "对理论和算法的理解以及出色的沟通技巧。\\\n",
    "你非常擅长回答编程问题。\\\n",
    "你之所以如此优秀，是因为你知道  \\\n",
    "如何通过以机器可以轻松解释的命令式步骤描述解决方案来解决问题，\\\n",
    "并且你知道如何选择在时间复杂性和空间复杂性之间取得良好平衡的解决方案。\n",
    "\n",
    "这还是一个输入：\n",
    "{input}\"\"\""
   ]
  },
  {
   "cell_type": "markdown",
   "id": "cb3b749b-0d3c-46f2-afab-b1213f208b13",
   "metadata": {},
   "source": [
    "#### 4.2.2 对提示模版进行命名和描述"
   ]
  },
  {
   "cell_type": "markdown",
   "id": "29898e75",
   "metadata": {},
   "source": [
    "在定义了这些提示模板后，我们可以为每个模板命名，并给出具体描述。例如，第一个物理学的描述适合回答关于物理学的问题，这些信息将传递给路由链，然后<span style=\"color:red\">由路由链决定</span>何时使用此子链。\n"
   ]
  },
  {
   "cell_type": "code",
   "execution_count": 412,
   "id": "8f87cbe9",
   "metadata": {},
   "outputs": [],
   "source": [
    "# 中文\n",
    "prompt_infos = [\n",
    "    {\n",
    "        \"名字\": \"物理学\", \n",
    "        \"描述\": \"擅长回答关于物理学的问题\", \n",
    "        \"提示模板\": physics_template\n",
    "    },\n",
    "    {\n",
    "        \"名字\": \"数学\", \n",
    "        \"描述\": \"擅长回答数学问题\", \n",
    "        \"提示模板\": math_template\n",
    "    },\n",
    "    {\n",
    "        \"名字\": \"历史\", \n",
    "        \"描述\": \"擅长回答历史问题\", \n",
    "        \"提示模板\": history_template\n",
    "    },\n",
    "    {\n",
    "        \"名字\": \"计算机科学\", \n",
    "        \"描述\": \"擅长回答计算机科学问题\", \n",
    "        \"提示模板\": computerscience_template\n",
    "    }\n",
    "]\n"
   ]
  },
  {
   "cell_type": "markdown",
   "id": "8795cd42",
   "metadata": {},
   "source": [
    "`LLMRouterChain`（此链<span style=\"color:red\">使用 LLM </span>来确定如何路由事物）\n",
    "\n",
    "在这里，我们需要一个**多提示链**。这是一种特定类型的链，用于在多个不同的提示模板之间进行路由。 但是这只是路由的一种类型，我们也可以在任何类型的链之间进行路由。\n",
    "\n",
    "这里我们要实现的几个类是大模型路由器链。这个类本身使用语言模型来在不同的子链之间进行路由。这就是上面提供的描述和名称将被使用的地方。"
   ]
  },
  {
   "cell_type": "markdown",
   "id": "46633b43",
   "metadata": {},
   "source": [
    "#### 4.2.3 基于提示模版信息创建相应目标链  \n",
    "<span style=\"color:red\">目标链</span>是由路由链调用的链，每个目标链都是一个语言模型链"
   ]
  },
  {
   "cell_type": "code",
   "execution_count": 407,
   "id": "d06e9863",
   "metadata": {},
   "outputs": [],
   "source": [
    "# 中文\n",
    "destination_chains = {}\n",
    "for p_info in prompt_infos:\n",
    "    name = p_info[\"名字\"]\n",
    "    prompt_template = p_info[\"提示模板\"]\n",
    "    prompt = ChatPromptTemplate.from_template(template=prompt_template)\n",
    "    chain = LLMChain(llm=llm, prompt=prompt)\n",
    "    destination_chains[name] = chain  \n",
    "    \n",
    "destinations = [f\"{p['名字']}: {p['描述']}\" for p in prompt_infos]\n",
    "destinations_str = \"\\n\".join(destinations)"
   ]
  },
  {
   "cell_type": "markdown",
   "id": "eba115de",
   "metadata": {
    "tags": []
   },
   "source": [
    "#### 4.2.4 创建默认目标链"
   ]
  },
  {
   "cell_type": "code",
   "execution_count": 416,
   "id": "b3450cda",
   "metadata": {},
   "outputs": [],
   "source": [
    "default_prompt = ChatPromptTemplate.from_template(\"{input}\")\n",
    "default_chain = LLMChain(llm=llm, prompt=default_prompt)"
   ]
  },
  {
   "cell_type": "markdown",
   "id": "948700c4",
   "metadata": {},
   "source": [
    "#### 4.2.5 定义不同链之间的路由模板\n",
    "\n",
    "这包括要完成的任务的说明以及输出应该采用的特定格式。"
   ]
  },
  {
   "cell_type": "markdown",
   "id": "d56322b2",
   "metadata": {},
   "source": [
    "<span style=\"color:#00ff00\">\n",
    "我们将在下面说明为什么这个模版要采用如此奇怪的大括号格式。\n",
    "</span>"
   ]
  },
  {
   "cell_type": "code",
   "execution_count": 419,
   "id": "a4240b72",
   "metadata": {},
   "outputs": [],
   "source": [
    "# 中文\n",
    "\n",
    "# 多提示路由模板\n",
    "MULTI_PROMPT_ROUTER_TEMPLATE = \"\"\"给语言模型一个原始文本输入，\\\n",
    "让其选择最适合输入的模型提示。\\\n",
    "系统将为您提供可用提示的名称以及最适合改提示的描述。\\\n",
    "如果你认为修改原始输入最终会导致语言模型做出更好的响应，\\\n",
    "你也可以修改原始输入。\n",
    "\n",
    "\n",
    "<< 格式 >>\n",
    "返回一个带有JSON对象的markdown代码片段，该JSON对象的格式如下：\n",
    "```json\n",
    "{{{{\n",
    "    \"destination\": 字符串 \\ 使用的提示名字或者使用 \"DEFAULT\"\n",
    "    \"next_inputs\": 字符串 \\ 原始输入的改进版本\n",
    "}}}}\n",
    "```\n",
    "\n",
    "\n",
    "记住：“destination”必须是下面指定的候选提示名称之一，\\\n",
    "或者如果输入不太适合任何候选提示，\\\n",
    "则可以是 “DEFAULT” 。\n",
    "记住：如果您认为不需要任何修改，\\\n",
    "则 “next_inputs” 可以只是原始输入。\n",
    "\n",
    "<< 候选提示 >>\n",
    "{destinations}\n",
    "\n",
    "<< 输入 >>\n",
    "{{input}}\n",
    "\n",
    "<< 输出 (记得要包含 ```json)>>\n",
    "\n",
    "样例:\n",
    "<< 输入 >>\n",
    "\"什么是黑体辐射?\"\n",
    "<< 输出 >>\n",
    "```json\n",
    "{{{{\n",
    "    \"destination\": 字符串 \\ 使用的提示名字或者使用 \"DEFAULT\"\n",
    "    \"next_inputs\": 字符串 \\ 原始输入的改进版本\n",
    "}}}}\n",
    "```\n",
    "\n",
    "\"\"\""
   ]
  },
  {
   "cell_type": "markdown",
   "id": "de5c46d0",
   "metadata": {},
   "source": [
    "#### 4.2.6 构建路由链"
   ]
  },
  {
   "cell_type": "markdown",
   "id": "33d2ea17",
   "metadata": {},
   "source": [
    "<span style=\"color:#00ff00\">我们首先补完模版。</span>这个模板可以适用许多不同类型的目标。\n",
    "因此，在这里，您可以添加一个不同的学科，如英语或拉丁语，而不仅仅是物理、数学、历史和计算机科学。"
   ]
  },
  {
   "cell_type": "code",
   "execution_count": 431,
   "id": "08453f40",
   "metadata": {},
   "outputs": [],
   "source": [
    "router_template = MULTI_PROMPT_ROUTER_TEMPLATE.format(\n",
    "    destinations=destinations_str\n",
    ")"
   ]
  },
  {
   "cell_type": "markdown",
   "id": "d221e2b2",
   "metadata": {},
   "source": [
    "<span style=\"color:#00ff00\">\n",
    "正是因为我们之前的路由模版并不完整（缺少关键的<code>destination</code>信息），因此我们需要首先调用<code>format</code>方法补完模版。而在对<code>str</code>类型进行格式化时，和之前的情况类似，单大括号<code>{变量名}</code>\n",
    "将被视为占位符，会被对应参数替换；而双大括号<code>{{变量名}}</code>则会被会被自动转译为单个大括号字面值。\n",
    "</span>\n"
   ]
  },
  {
   "cell_type": "code",
   "execution_count": 432,
   "id": "dcb20bbd",
   "metadata": {},
   "outputs": [
    {
     "data": {
      "text/plain": [
       "'给语言模型一个原始文本输入，让其选择最适合输入的模型提示。系统将为您提供可用提示的名称以及最适合改提示的描述。如果你认为修改原始输入最终会导致语言模型做出更好的响应，你也可以修改原始输入。\\n\\n\\n<< 格式 >>\\n返回一个带有JSON对象的markdown代码片段，该JSON对象的格式如下：\\n```json\\n{{\\n    \"destination\": 字符串 \\\\ 使用的提示名字或者使用 \"DEFAULT\"\\n    \"next_inputs\": 字符串 \\\\ 原始输入的改进版本\\n}}\\n```\\n\\n\\n记住：“destination”必须是下面指定的候选提示名称之一，或者如果输入不太适合任何候选提示，则可以是 “DEFAULT” 。\\n记住：如果您认为不需要任何修改，则 “next_inputs” 可以只是原始输入。\\n\\n<< 候选提示 >>\\n物理学: 擅长回答关于物理学的问题\\n数学: 擅长回答数学问题\\n历史: 擅长回答历史问题\\n计算机科学: 擅长回答计算机科学问题\\n\\n<< 输入 >>\\n{input}\\n\\n<< 输出 (记得要包含 ```json)>>\\n\\n样例:\\n<< 输入 >>\\n\"什么是黑体辐射?\"\\n<< 输出 >>\\n```json\\n{{\\n    \"destination\": 字符串 \\\\ 使用的提示名字或者使用 \"DEFAULT\"\\n    \"next_inputs\": 字符串 \\\\ 原始输入的改进版本\\n}}\\n```\\n\\n'"
      ]
     },
     "execution_count": 432,
     "metadata": {},
     "output_type": "execute_result"
    }
   ],
   "source": [
    "router_template"
   ]
  },
  {
   "cell_type": "markdown",
   "id": "534ca6fe",
   "metadata": {},
   "source": [
    "<span style=\"color:#00ff00\">\n",
    "可以看到，补完后的模版<code>router_template</code>中，所有的双大括号变成了单大括号（四个大括号也因此变为双大括号）。这样，模板就能正确的导入<code>input</code>信息（此时被单大括号包围）。而不希望被视为替换变量的<code>json格式说明</code>，则被保留为双大括号。\n",
    "</span>\n"
   ]
  },
  {
   "cell_type": "markdown",
   "id": "9bba4c4c",
   "metadata": {},
   "source": [
    "接下来，我们利用<code>PromptTemplate</code>创建<span style=\"color:red\">完整的路由器模板</span>。这里指定输出格式通过<code>RouterOutputParser</code>解析器进行解析，以确保输出格式正确。这个路由输出解析非常重要，因为它将帮助这个链路决定在哪些子链路之间进行路由。\n"
   ]
  },
  {
   "cell_type": "code",
   "execution_count": 435,
   "id": "766194d9",
   "metadata": {},
   "outputs": [],
   "source": [
    "from langchain_core.prompts import PromptTemplate\n",
    "from langchain.chains.router.llm_router import LLMRouterChain, RouterOutputParser\n",
    "router_prompt = PromptTemplate(\n",
    "    template=router_template,\n",
    "    input_variables=[\"input\"],\n",
    "    output_parser=RouterOutputParser(),\n",
    ")"
   ]
  },
  {
   "cell_type": "markdown",
   "id": "8bc510b6",
   "metadata": {},
   "source": [
    "最后，通过传入llm和整个路由提示来创建路由链。"
   ]
  },
  {
   "cell_type": "code",
   "execution_count": 436,
   "id": "097fe4b3",
   "metadata": {},
   "outputs": [],
   "source": [
    "router_chain = LLMRouterChain.from_llm(llm, router_prompt)"
   ]
  },
  {
   "cell_type": "markdown",
   "id": "7e92355c",
   "metadata": {},
   "source": [
    "#### 4.2.7 创建整体链路"
   ]
  },
  {
   "cell_type": "markdown",
   "id": "2fcddbba",
   "metadata": {},
   "source": [
    "<span style=\"color:#00ff00\">\n",
    "最后，利用<code>MultiPromptChain</code>创建整体链路，它将所有链路组合在一起。\n",
    "</span>"
   ]
  },
  {
   "cell_type": "code",
   "execution_count": 437,
   "id": "408ede7f",
   "metadata": {},
   "outputs": [],
   "source": [
    "from langchain.chains.router.multi_prompt import MultiPromptChain\n",
    "\n",
    "#多提示链\n",
    "chain = MultiPromptChain(router_chain=router_chain,    #路由链路\n",
    "                         destination_chains=destination_chains,   #目标链路\n",
    "                         default_chain=default_chain,      #默认链路\n",
    "                         verbose=True   \n",
    "                        )"
   ]
  },
  {
   "cell_type": "markdown",
   "id": "086503f7",
   "metadata": {},
   "source": [
    "#### 4.2.8 进行提问"
   ]
  },
  {
   "cell_type": "markdown",
   "id": "4e5bec72",
   "metadata": {},
   "source": [
    "<span style=\"color:#00ff00\">\n",
    "可以看到，路由链成功将问题路由到了正确的链路。而当问题与所有链路都无关时，则被路由到了默认链路。\n",
    "</span>\n"
   ]
  },
  {
   "cell_type": "code",
   "execution_count": 438,
   "id": "e977be75",
   "metadata": {},
   "outputs": [
    {
     "name": "stdout",
     "output_type": "stream",
     "text": [
      "\n",
      "\n",
      "\u001b[1m> Entering new MultiPromptChain chain...\u001b[0m\n",
      "物理学: {'input': '什么是黑体辐射？'}\n",
      "\u001b[1m> Finished chain.\u001b[0m\n"
     ]
    },
    {
     "data": {
      "text/plain": [
       "'黑体辐射是指一个理想化的物体（称为黑体）在热平衡状态下所发出的辐射。黑体能够吸收所有波长的电磁辐射，并且在任何温度下都会以特定的方式发出辐射。黑体辐射的特点是其辐射强度与温度有关，并且在不同波长下的分布遵循普朗克定律。\\n\\n简单来说，黑体辐射是物体因温度而发出的光和热的表现，温度越高，辐射的强度和波长分布也会发生变化。例如，随着温度升高，黑体辐射会从红色转向蓝色。这个概念在热力学和量子物理中非常重要，帮助我们理解光的性质和物质的行为。'"
      ]
     },
     "execution_count": 438,
     "metadata": {},
     "output_type": "execute_result"
    }
   ],
   "source": [
    "#中文\n",
    "chain.run(\"什么是黑体辐射？\")"
   ]
  },
  {
   "cell_type": "code",
   "execution_count": 423,
   "id": "e6ea9d3f",
   "metadata": {},
   "outputs": [
    {
     "name": "stdout",
     "output_type": "stream",
     "text": [
      "\n",
      "\n",
      "\u001b[1m> Entering new MultiPromptChain chain...\u001b[0m\n",
      "数学: {'input': '2 + 2 等于多少'}\n",
      "\u001b[1m> Finished chain.\u001b[0m\n"
     ]
    },
    {
     "data": {
      "text/plain": [
       "'2 + 2 等于 4。\\n\\n这个问题很简单，可以直接得出答案。我们可以将其分解为两个部分：首先，理解数字 2 的含义，其次，理解加法运算的规则。将两个 2 相加，得到的结果就是 4。'"
      ]
     },
     "execution_count": 423,
     "metadata": {},
     "output_type": "execute_result"
    }
   ],
   "source": [
    "# 中文\n",
    "chain.run(\"2 + 2 等于多少\")"
   ]
  },
  {
   "cell_type": "code",
   "execution_count": 424,
   "id": "4160ba40",
   "metadata": {},
   "outputs": [
    {
     "name": "stdout",
     "output_type": "stream",
     "text": [
      "\n",
      "\n",
      "\u001b[1m> Entering new MultiPromptChain chain...\u001b[0m\n",
      "历史: {'input': '你能告诉我李白是谁吗？'}\n",
      "\u001b[1m> Finished chain.\u001b[0m\n"
     ]
    },
    {
     "data": {
      "text/plain": [
       "'李白（701年－762年），字太白，号青莲居士，唐代著名的诗人，被誉为“诗仙”。他出生于今天的四川省，早年游历四方，广交朋友，尤其与当时的文人墨客有着密切的交往。\\n\\n李白的诗歌以豪放、奔放著称，常常表达对自由、自然和人生的热爱。他的作品中充满了丰富的想象力和独特的个性，常常运用夸张和比喻，展现出他对生活的热情和对理想的追求。李白的诗风与杜甫并称，二人被视为唐诗的巅峰代表。\\n\\n李白的代表作包括《将进酒》、《庐山谣》、《夜泊牛津口》等。他的诗歌不仅在中国文学史上占有重要地位，也对后世的诗人产生了深远的影响。李白的生活经历丰富多彩，他曾在朝廷任职，但因性格洒脱而屡遭挫折，最终选择了隐居生活。\\n\\n李白的诗歌不仅反映了个人的情感和理想，也折射出唐代社会的风貌和文化氛围。他的作品至今仍被广泛传颂，成为中国文学的瑰宝。'"
      ]
     },
     "execution_count": 424,
     "metadata": {},
     "output_type": "execute_result"
    }
   ],
   "source": [
    "# 中文\n",
    "chain.run(\"你知道李白是谁嘛?\")"
   ]
  },
  {
   "cell_type": "code",
   "execution_count": 425,
   "id": "d69230a7",
   "metadata": {},
   "outputs": [
    {
     "name": "stdout",
     "output_type": "stream",
     "text": [
      "\n",
      "\n",
      "\u001b[1m> Entering new MultiPromptChain chain...\u001b[0m\n",
      "None: {'input': '为什么我们身体里的每个细胞都包含DNA？'}\n",
      "\u001b[1m> Finished chain.\u001b[0m\n"
     ]
    },
    {
     "data": {
      "text/plain": [
       "'每个细胞都包含DNA的原因主要与遗传信息的存储和传递有关。以下是一些关键点：\\n\\n1. **遗传信息的存储**：DNA（脱氧核糖核酸）是生物体内遗传信息的主要载体。它包含了构建和维持生物体所需的所有信息，包括蛋白质的合成指令。\\n\\n2. **细胞功能的调控**：每个细胞都需要根据其特定的功能来表达不同的基因。DNA中的信息通过转录和翻译过程转化为RNA和蛋白质，从而决定细胞的结构和功能。\\n\\n3. **细胞分裂和遗传传递**：在细胞分裂过程中，DNA会被复制并传递给子细胞，确保每个新细胞都能获得完整的遗传信息。这对于生长、修复和繁殖至关重要。\\n\\n4. **多样性和适应性**：DNA的变异和重组为生物体提供了适应环境变化的能力。通过自然选择，具有有利基因的个体更可能生存和繁殖，从而将这些基因传递给后代。\\n\\n5. **细胞类型的多样性**：尽管所有细胞都含有相同的DNA，但不同类型的细胞（如肌肉细胞、神经细胞、皮肤细胞等）通过选择性表达不同的基因，展现出不同的特性和功能。\\n\\n总之，DNA是生命的基础，确保了生物体的遗传连续性和多样性，同时也为细胞的功能和适应性提供了必要的信息。'"
      ]
     },
     "execution_count": 425,
     "metadata": {},
     "output_type": "execute_result"
    }
   ],
   "source": [
    "# 中文\n",
    "chain.run(\"为什么我们身体里的每个细胞都包含DNA？\")"
   ]
  },
  {
   "cell_type": "markdown",
   "id": "12bd66dd",
   "metadata": {},
   "source": [
    "### 4.3 总结"
   ]
  },
  {
   "cell_type": "markdown",
   "id": "55d04ffc",
   "metadata": {},
   "source": [
    "在[LangChain官方文档](https://python.langchain.com/docs/versions/migrating_chains/multi_prompt_chain/)中，给出了用<code>LangGraph</code>替换<code>MultiPromptChain</code>的优势。这主要是因为MultiPromptChain 不支持常见的聊天模型功能，例如消息角色和工具调用。而LangGraph 实现为这个问题带来了许多优势：\n",
    "\n",
    "- 支持聊天提示模板，包括带有系统角色和其他角色的消息；\n",
    "- 支持在路由步骤中使用工具调用；\n",
    "- 支持单个步骤和输出令牌的流式传输。\n",
    "\n",
    "\n"
   ]
  },
  {
   "cell_type": "markdown",
   "id": "6b36f356",
   "metadata": {},
   "source": [
    "### 4.4 <span style=\"color:#00ff00\">更新：使用LangGraph预定义组件快速构建路由链</span>"
   ]
  },
  {
   "cell_type": "markdown",
   "id": "9735cf3b",
   "metadata": {},
   "source": [
    "<span style=\"color:#00ff00\">\n",
    "我们之前的基于LangGraph的新版API实现路由链的过程中包含了大量状态处理、路由函数、条件判断等细节。事实上，LangGraph为我们提供了众多强大的<code>预构建组件</code>，可以帮助我们快速构建路由链。\n",
    "</span>\n"
   ]
  },
  {
   "cell_type": "markdown",
   "id": "5d0900a6",
   "metadata": {},
   "source": [
    "<span style=\"color:#00ff00\">\n",
    "本质上，这个实现是构建了一个能<code>自动选择合适工具的代理</code>，而不是传统意义上的路由链。这种方法本质上是从\"手动构建路由系统\"转变为\"利用代理自动路由\"的范式转换。现代LLM的工具调用能力使得这种方法不仅更简单，而且效果可能更好，因为它可以更灵活地处理各种查询和工具组合。从概念上讲，传统的MultiPromptChain是预先定义好路由逻辑的管道系统，而基于工具的代理则是一个能够<code>动态判断并选择工具的智能系统</code>，更符合现代LLM应用的设计理念。\n",
    "</span>\n"
   ]
  },
  {
   "cell_type": "markdown",
   "id": "71798b69",
   "metadata": {},
   "source": [
    "<span style=\"color:#00ff00\">\n",
    "\n",
    "这个实现有几个主要优势：\n",
    "\n",
    "1. <code>使用预构建组件</code>：使用<code>create_react_agent</code>函数一步创建完整代理，无需手动构建图结构\n",
    "2. <code>更少的样板代码</code>：不需要定义状态类型、节点函数和边连接\n",
    "3. <code>工具自动路由</code>：LLM会自动选择最合适的专家工具，无需手动编写路由逻辑。\n",
    "4. <code>简洁的API</code>：代码更简洁、更易于理解和维护。\n",
    "5. <code>支持工具调用</code>：充分利用现代LLM的工具调用能力，比传统MultiPromptChain更灵活。\n",
    "6. <code>同样强大</code>：尽管代码更简洁，但功能同样强大，能够自动选择和调用合适的工具\n",
    "\n",
    "这种实现方式避免了在之前的方法中需要的大量样板代码，如手动定义路由函数、条件判断等。LangGraph的预构建组件为我们处理了这些细节，使得代码更加简洁和可维护。\n",
    "\n",
    "参考链接：\n",
    "</span>\n",
    "\n",
    "\n",
    "- [langgraph-prebuilt工具文档](https://langchain-ai.github.io/langgraph/reference/prebuilt/)\n",
    "- [LangGraph工具调用指南](https://langchain-ai.github.io/langgraph/how-tos/tool-calling/)"
   ]
  },
  {
   "cell_type": "code",
   "execution_count": 1,
   "id": "a3b436cf",
   "metadata": {},
   "outputs": [],
   "source": [
    "\"\"\"\n",
    "使用LangGraph的create_react_agent预构建函数实现简洁的专家路由系统\n",
    "\n",
    "此示例展示了如何使用预构建的ReAct代理函数来替代传统的MultiPromptChain，\n",
    "实现自动工具选择和调用的功能，代码更加简洁。\n",
    "\"\"\"\n",
    "\n",
    "from langchain_openai import ChatOpenAI\n",
    "from langchain_core.tools import tool\n",
    "from langgraph.prebuilt import create_react_agent\n",
    "\n",
    "# 初始化语言模型\n",
    "llm = ChatOpenAI(model=\"gpt-4o-mini\")\n",
    "\n",
    "# 定义专家工具\n",
    "@tool\n",
    "def physics_expert(question: str) -> str:\n",
    "    \"\"\"使用此工具咨询物理学专家。当问题与物理学相关时使用。\"\"\"\n",
    "    prompt = f\"\"\"你是一个非常聪明的物理专家。 \n",
    "    你擅长用一种简洁并且易于理解的方式去回答问题。\n",
    "    当你不知道问题的答案时，你承认你不知道。\n",
    "    \n",
    "    问题: {question}\"\"\"\n",
    "    \n",
    "    return llm.invoke(prompt).content\n",
    "\n",
    "@tool\n",
    "def math_expert(question: str) -> str:\n",
    "    \"\"\"使用此工具咨询数学专家。当问题与数学相关时使用。\"\"\"\n",
    "    prompt = f\"\"\"你是一个非常优秀的数学家。 \n",
    "    你擅长回答数学问题。 \n",
    "    你之所以如此优秀，是因为你能够将棘手的问题分解为组成部分，\n",
    "    回答组成部分，然后将它们组合在一起，回答更广泛的问题。\n",
    "    \n",
    "    问题: {question}\"\"\"\n",
    "    \n",
    "    return llm.invoke(prompt).content\n",
    "\n",
    "@tool\n",
    "def history_expert(question: str) -> str:\n",
    "    \"\"\"使用此工具咨询历史学专家。当问题与历史相关时使用。\"\"\"\n",
    "    prompt = f\"\"\"你是一位非常优秀的历史学家。 \n",
    "    你对一系列历史时期的人物、事件和背景有着极好的学识和理解\n",
    "    你有能力思考、反思、辩证、讨论和评估过去。\n",
    "    \n",
    "    问题: {question}\"\"\"\n",
    "    \n",
    "    return llm.invoke(prompt).content\n",
    "\n",
    "@tool\n",
    "def cs_expert(question: str) -> str:\n",
    "    \"\"\"使用此工具咨询计算机科学专家。当问题与计算机科学、编程相关时使用。\"\"\"\n",
    "    prompt = f\"\"\"你是一个成功的计算机科学专家。\n",
    "    你有创造力、协作精神、前瞻性思维、自信、解决问题的能力，\n",
    "    对理论和算法的理解以及出色的沟通技巧。\n",
    "    \n",
    "    问题: {question}\"\"\"\n",
    "    \n",
    "    return llm.invoke(prompt).content\n",
    "\n",
    "# 创建工具列表\n",
    "tools = [physics_expert, math_expert, history_expert, cs_expert]\n",
    "\n",
    "# 定义系统提示\n",
    "system_prompt = \"\"\"你是一个智能助手，可以回答各种领域的问题。\n",
    "你有物理、数学、历史和计算机科学专家可以咨询。\n",
    "根据问题的性质选择合适的专家工具。如果问题跨越多个领域，你可以调用多个专家工具。\n",
    "确保提供全面准确的答案。\"\"\"\n",
    "\n",
    "# 使用预构建函数创建ReAct代理\n",
    "agent = create_react_agent(\n",
    "    llm,\n",
    "    tools,\n",
    "    prompt=system_prompt\n",
    ")"
   ]
  },
  {
   "cell_type": "code",
   "execution_count": 2,
   "id": "b4584897",
   "metadata": {},
   "outputs": [
    {
     "data": {
      "image/png": "[encoded data removed]",
      "text/plain": [
       "<IPython.core.display.Image object>"
      ]
     },
     "metadata": {},
     "output_type": "display_data"
    }
   ],
   "source": [
    "from IPython.display import Image, display\n",
    "\n",
    "display(Image(agent.get_graph().draw_mermaid_png()))"
   ]
  },
  {
   "cell_type": "code",
   "execution_count": 3,
   "id": "25ee1c71",
   "metadata": {},
   "outputs": [],
   "source": [
    "def print_stream(stream):\n",
    "    for s in stream:\n",
    "        message = s[\"messages\"][-1]\n",
    "        if isinstance(message, tuple):\n",
    "            print(message)\n",
    "        else:\n",
    "            message.pretty_print()"
   ]
  },
  {
   "cell_type": "code",
   "execution_count": 5,
   "id": "016d92d3",
   "metadata": {},
   "outputs": [
    {
     "name": "stdout",
     "output_type": "stream",
     "text": [
      "================================\u001b[1m Human Message \u001b[0m=================================\n",
      "\n",
      "什么是黑体辐射？\n",
      "==================================\u001b[1m Ai Message \u001b[0m==================================\n",
      "Tool Calls:\n",
      "  physics_expert (call_kIP1wuca5Y6zfT3LfdQQ33Ae)\n",
      " Call ID: call_kIP1wuca5Y6zfT3LfdQQ33Ae\n",
      "  Args:\n",
      "    question: 什么是黑体辐射？\n",
      "=================================\u001b[1m Tool Message \u001b[0m=================================\n",
      "Name: physics_expert\n",
      "\n",
      "黑体辐射是指一种理想化的物体（称为黑体），它能够完全吸收所有波长的电磁辐射，并以其温度为特征发出辐射。黑体辐射的特点是它在任何温度下，发出的辐射强度和波长分布仅与其温度有关。 \n",
      "\n",
      "根据普朗克定律，黑体在一定温度下发出的辐射强度与波长的关系呈现出特定的曲线，这就是著名的黑体辐射谱。随着温度的升高，辐射的峰值波长会向短波长方向移动（即威恩位移定律），同时辐射的总能量也会增加（即斯特藩—玻尔兹曼定律）。 \n",
      "\n",
      "黑体辐射对于理解量子力学和热辐射现象有着重要的意义。\n",
      "==================================\u001b[1m Ai Message \u001b[0m==================================\n",
      "\n",
      "黑体辐射是指一种理想化的物体（称为黑体），它能够完全吸收所有波长的电磁辐射，并以其温度为特征发出辐射。黑体辐射的特点是它在任何温度下，发出的辐射强度和波长分布仅与其温度有关。\n",
      "\n",
      "根据普朗克定律，黑体在一定温度下发出的辐射强度与波长的关系呈现出特定的曲线，这就是著名的黑体辐射谱。随着温度的升高，辐射的峰值波长会向短波长方向移动（即威恩位移定律），同时辐射的总能量也会增加（即斯特藩—玻尔兹曼定律）。\n",
      "\n",
      "黑体辐射对于理解量子力学和热辐射现象有着重要的意义。\n"
     ]
    }
   ],
   "source": [
    "# 物理学问题测试\n",
    "question = \"什么是黑体辐射？\"\n",
    "\n",
    "inputs = {\"messages\": [(\"user\", question)]}\n",
    "print_stream(agent.stream(inputs, stream_mode=\"values\"))"
   ]
  },
  {
   "cell_type": "markdown",
   "id": "2c04ec22",
   "metadata": {},
   "source": [
    "<span style=\"color:#00ff00\">\n",
    "可以看到，我们的agent自动选择了<code>physics_expert</code>工具。\n",
    "</span>"
   ]
  },
  {
   "cell_type": "code",
   "execution_count": 6,
   "id": "bb481156",
   "metadata": {},
   "outputs": [
    {
     "name": "stdout",
     "output_type": "stream",
     "text": [
      "================================\u001b[1m Human Message \u001b[0m=================================\n",
      "\n",
      "第二次世界大战是什么时候开始的？\n",
      "==================================\u001b[1m Ai Message \u001b[0m==================================\n",
      "Tool Calls:\n",
      "  history_expert (call_jtGrkh3f6THbsPcDg6fu7x2U)\n",
      " Call ID: call_jtGrkh3f6THbsPcDg6fu7x2U\n",
      "  Args:\n",
      "    question: 第二次世界大战是什么时候开始的？\n",
      "=================================\u001b[1m Tool Message \u001b[0m=================================\n",
      "Name: history_expert\n",
      "\n",
      "第二次世界大战开始于1939年9月1日，当时德国入侵波兰，标志着战争的爆发。随后的几天里，英国和法国对德国宣战，正式参与到这场战争中。战争一直持续到1945年9月2日，日本在东京湾的美国战舰上签署投降书，标志着战争的结束。\n",
      "==================================\u001b[1m Ai Message \u001b[0m==================================\n",
      "\n",
      "第二次世界大战开始于1939年9月1日，当时德国入侵波兰，随后英国和法国对德国宣战，从而正式参与了这场战争。战争持续到1945年9月2日，日本在美国战舰上签署投降书，标志着战争的结束。\n"
     ]
    }
   ],
   "source": [
    "# 历史问题测试\n",
    "question = \"第二次世界大战是什么时候开始的？\"\n",
    "\n",
    "inputs = {\"messages\": [(\"user\", question)]}\n",
    "print_stream(agent.stream(inputs, stream_mode=\"values\"))"
   ]
  },
  {
   "cell_type": "markdown",
   "id": "6e46372e",
   "metadata": {},
   "source": [
    "<span style=\"color:#00ff00\">\n",
    "同样的，我们的agent自动选择了<code>history_expert</code>工具。\n",
    "</span>"
   ]
  }
 ],
 "metadata": {
  "kernelspec": {
   "display_name": "llm",
   "language": "python",
   "name": "python3"
  },
  "language_info": {
   "codemirror_mode": {
    "name": "ipython",
    "version": 3
   },
   "file_extension": ".py",
   "mimetype": "text/x-python",
   "name": "python",
   "nbconvert_exporter": "python",
   "pygments_lexer": "ipython3",
   "version": "3.11.11"
  }
 },
 "nbformat": 4,
 "nbformat_minor": 5
}
