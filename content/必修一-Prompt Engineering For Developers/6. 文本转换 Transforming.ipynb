{
 "cells": [
  {
   "cell_type": "markdown",
   "id": "08879154",
   "metadata": {
    "pycharm": {
     "name": "#%% md\n"
    }
   },
   "source": [
    "# 第六章 文本转换"
   ]
  },
  {
   "cell_type": "markdown",
   "id": "c885ce7b",
   "metadata": {
    "pycharm": {
     "name": "#%% md\n"
    }
   },
   "source": [
    "<div class=\"toc\">\n",
    " <ul class=\"toc-item\">\n",
    "     <li><span><a href=\"#一引言\" data-toc-modified-id=\"一、引言\">一、引言</a></span></li>\n",
    "     <li>\n",
    "         <span><a href=\"#二文本翻译\" data-toc-modified-id=\"二、文本翻译\">二、文本翻译</a></span>\n",
    "         <ul class=\"toc-item\">\n",
    "             <li><span><a href=\"#21-中文转西班牙语\" data-toc-modified-id=\"2.1 中文转西班牙语\">2.1 中文转西班牙语</a></span></li> \n",
    "             <li><span><a href=\"#22-识别语种\" data-toc-modified-id=\"2.2 识别语种\">2.2 识别语种</a></span></li>\n",
    "             <li><span><a href=\"#23-多语种翻译\" data-toc-modified-id=\"2.3 多语种翻译\">2.3 多语种翻译</a></span></li>\n",
    "             <li><span><a href=\"#24-同时进行语气转换\" data-toc-modified-id=\"2.4 同时进行语气转换\">2.4 同时进行语气转换</a></span></li>\n",
    "             <li><span><a href=\"#25-通用翻译器\" data-toc-modified-id=\"2.5 通用翻译器\">2.5 通用翻译器</a></span></li>\n",
    "             </ul>\n",
    "         </li>\n",
    "     <li><span><a href=\"#三语气与写作风格调整\" data-toc-modified-id=\"三、语气与写作风格调整\">三、语气与写作风格调整</a></span></li>\n",
    "     <li><span><a href=\"#四文件格式转换\" data-toc-modified-id=\"四、文件格式转换\">四、文件格式转换</a></span></li>\n",
    "     <li><span><a href=\"#五拼写及语法纠正\" data-toc-modified-id=\"五、拼写及语法纠正\">五、拼写及语法纠正</a></span></li>\n",
    "     <li><span><a href=\"#六综合样例\" data-toc-modified-id=\"六、综合样例\">六、综合样例</a></span></li>\n",
    "     </ul>\n",
    "</div>"
   ]
  },
  {
   "attachments": {},
   "cell_type": "markdown",
   "id": "78624add",
   "metadata": {
    "pycharm": {
     "name": "#%% md\n"
    }
   },
   "source": [
    "## 一、引言"
   ]
  },
  {
   "attachments": {},
   "cell_type": "markdown",
   "id": "2fac57c2",
   "metadata": {
    "pycharm": {
     "name": "#%% md\n"
    }
   },
   "source": [
    "LLM非常<span style=\"color:red\">擅长将输入转换成不同的格式</span>，典型应用包括多语种文本翻译、拼写及语法纠正、语气调整、格式转换等。\n",
    "\n",
    "本章节将介绍如何使用编程的方式，调用API接口来实现“文本转换”功能。"
   ]
  },
  {
   "attachments": {},
   "cell_type": "markdown",
   "id": "f7816496",
   "metadata": {
    "pycharm": {
     "name": "#%% md\n"
    }
   },
   "source": [
    "首先，我们需要OpenAI包，加载API密钥，定义getCompletion函数。"
   ]
  },
  {
   "cell_type": "code",
   "execution_count": 1,
   "id": "acf125be",
   "metadata": {
    "pycharm": {
     "name": "#%%\n"
    }
   },
   "outputs": [],
   "source": [
    "import os\n",
    "from openai import OpenAI\n",
    "from dotenv import load_dotenv, find_dotenv\n",
    "\n",
    "# 读取本地/项目的环境变量。\n",
    "\n",
    "# find_dotenv()寻找并定位.env文件的路径\n",
    "# load_dotenv()读取该.env文件，并将其中的环境变量加载到当前的运行环境中  \n",
    "# 如果你设置的是全局的环境变量，这行代码则没有任何作用。\n",
    "_ = load_dotenv(find_dotenv())\n",
    "\n",
    "# 获取环境变量 OPENAI_API_KEY\n",
    "openai_api_key = os.getenv(\"OPENAI_API_KEY\")"
   ]
  },
  {
   "cell_type": "code",
   "execution_count": 2,
   "id": "ac57ad72",
   "metadata": {
    "pycharm": {
     "name": "#%%\n"
    }
   },
   "outputs": [],
   "source": [
    "client = OpenAI(api_key=openai_api_key)\n",
    "\n",
    "def get_completion(prompt, model=\"gpt-4o-mini\"):\n",
    "    '''\n",
    "    prompt: 对应的提示词\n",
    "    model: 调用的模型，默认为gpt-4o-mini\n",
    "    '''\n",
    "    # 调用API\n",
    "    response = client.chat.completions.create(\n",
    "        model=model,\n",
    "        messages=[{\"role\": \"user\", \"content\": prompt}],\n",
    "        temperature=0,\n",
    "    )\n",
    "    # 返回结果\n",
    "    return response.choices[0].message.content"
   ]
  },
  {
   "attachments": {},
   "cell_type": "markdown",
   "id": "bf3733d4",
   "metadata": {
    "pycharm": {
     "name": "#%% md\n"
    }
   },
   "source": [
    "## 二、文本翻译"
   ]
  },
  {
   "attachments": {},
   "cell_type": "markdown",
   "id": "1b418e32",
   "metadata": {
    "pycharm": {
     "name": "#%% md\n"
    }
   },
   "source": [
    "### 2.1 中文转西班牙语"
   ]
  },
  {
   "cell_type": "code",
   "execution_count": 3,
   "id": "8a5bee0c",
   "metadata": {
    "pycharm": {
     "name": "#%%\n"
    },
    "scrolled": true
   },
   "outputs": [
    {
     "name": "stdout",
     "output_type": "stream",
     "text": [
      "Hola, me gustaría pedir una licuadora.\n"
     ]
    }
   ],
   "source": [
    "prompt = f\"\"\"\n",
    "请将以下使用三个反引号标记中文翻译成西班牙语:\n",
    "\n",
    "注意，不要生成除了目标文本翻译之外的其他内容。\n",
    "\n",
    "翻译文本：```您好，我想订购一个搅拌机。```\n",
    "\"\"\"\n",
    "response = get_completion(prompt)\n",
    "print(response)"
   ]
  },
  {
   "attachments": {},
   "cell_type": "markdown",
   "id": "e3e922b4",
   "metadata": {
    "pycharm": {
     "name": "#%% md\n"
    }
   },
   "source": [
    "### 2.2 识别语种"
   ]
  },
  {
   "cell_type": "code",
   "execution_count": 8,
   "id": "c2c66002",
   "metadata": {
    "pycharm": {
     "name": "#%%\n"
    }
   },
   "outputs": [
    {
     "name": "stdout",
     "output_type": "stream",
     "text": [
      "法语\n"
     ]
    }
   ],
   "source": [
    "prompt = f\"\"\"\n",
    "请告诉我以下使用三个反引号标记的文本是什么语种。\n",
    "\n",
    "注意，不要生成除了答案之外的其他内容。\n",
    "\n",
    "文本：```Combien coûte le lampadaire?```\n",
    "\"\"\"\n",
    "response = get_completion(prompt)\n",
    "print(response)"
   ]
  },
  {
   "attachments": {},
   "cell_type": "markdown",
   "id": "c1841354",
   "metadata": {
    "pycharm": {
     "name": "#%% md\n"
    }
   },
   "source": [
    "### 2.3 多语种翻译"
   ]
  },
  {
   "cell_type": "code",
   "execution_count": 6,
   "id": "b0c4fa41",
   "metadata": {
    "pycharm": {
     "name": "#%%\n"
    }
   },
   "outputs": [
    {
     "name": "stdout",
     "output_type": "stream",
     "text": [
      "中文: 我想订购一个篮球。\n",
      "\n",
      "English: I want to order a basketball.\n",
      "\n",
      "Français: Je veux commander un ballon de basket.\n",
      "\n",
      "Español: Quiero pedir una pelota de baloncesto.\n"
     ]
    }
   ],
   "source": [
    "prompt = f\"\"\"\n",
    "请将以下文本分别翻译成中文、英文、法语和西班牙语: \n",
    "```I want to order a basketball.```\n",
    "\"\"\"\n",
    "response = get_completion(prompt)\n",
    "print(response)"
   ]
  },
  {
   "attachments": {},
   "cell_type": "markdown",
   "id": "68723ba5",
   "metadata": {
    "pycharm": {
     "name": "#%% md\n"
    }
   },
   "source": [
    "### 2.4 同时进行语气转换"
   ]
  },
  {
   "cell_type": "code",
   "execution_count": 7,
   "id": "2c52ca54",
   "metadata": {
    "pycharm": {
     "name": "#%%\n"
    }
   },
   "outputs": [
    {
     "name": "stdout",
     "output_type": "stream",
     "text": [
      "正式语气：\n",
      "请问您是否需要订购枕头？\n",
      "\n",
      "非正式语气：\n",
      "你想买个枕头不？\n"
     ]
    }
   ],
   "source": [
    "prompt = f\"\"\"\n",
    "请将以下文本翻译成中文，分别展示成正式与非正式两种语气: \n",
    "```Would you like to order a pillow?```\n",
    "\"\"\"\n",
    "response = get_completion(prompt)\n",
    "print(response)"
   ]
  },
  {
   "attachments": {},
   "cell_type": "markdown",
   "id": "b2dc4c56",
   "metadata": {
    "pycharm": {
     "name": "#%% md\n"
    }
   },
   "source": [
    "### 2.5 通用翻译器"
   ]
  },
  {
   "attachments": {},
   "cell_type": "markdown",
   "id": "54b00aa4",
   "metadata": {
    "pycharm": {
     "name": "#%% md\n"
    }
   },
   "source": [
    "随着全球化与跨境商务的发展，交流的用户可能来自各个不同的国家，使用不同的语言，因此我们需要一个通用翻译器，识别各个消息的语种，并翻译成目标用户的母语，从而实现更方便的跨国交流。"
   ]
  },
  {
   "cell_type": "code",
   "execution_count": 5,
   "id": "21f3af91",
   "metadata": {
    "pycharm": {
     "name": "#%%\n"
    }
   },
   "outputs": [],
   "source": [
    "user_messages = [\n",
    "  \"La performance du système est plus lente que d'habitude.\",  # System performance is slower than normal         \n",
    "  \"Mi monitor tiene píxeles que no se iluminan.\",              # My monitor has pixels that are not lighting\n",
    "  \"Il mio mouse non funziona\",                                 # My mouse is not working\n",
    "  \"Mój klawisz Ctrl jest zepsuty\",                             # My keyboard has a broken control key\n",
    "  \"我的屏幕在闪烁\"                                             # My screen is flashing\n",
    "]"
   ]
  },
  {
   "cell_type": "code",
   "execution_count": 6,
   "id": "6a884190",
   "metadata": {
    "pycharm": {
     "name": "#%%\n"
    }
   },
   "outputs": [
    {
     "name": "stdout",
     "output_type": "stream",
     "text": [
      "原始消息 (法语): La performance du système est plus lente que d'habitude.\n",
      "\n",
      "中文翻译：系统的性能比平时慢。  \n",
      "英文翻译：The system's performance is slower than usual. \n",
      "=========================================\n",
      "原始消息 (西班牙语): Mi monitor tiene píxeles que no se iluminan.\n",
      "\n",
      "中文翻译：我的显示器有一些像素不亮。  \n",
      "英文翻译：My monitor has pixels that do not light up. \n",
      "=========================================\n",
      "原始消息 (意大利语): Il mio mouse non funziona\n",
      "\n",
      "中文翻译：我的鼠标不工作  \n",
      "英文翻译：My mouse is not working \n",
      "=========================================\n",
      "原始消息 (波兰语): Mój klawisz Ctrl jest zepsuty\n",
      "\n",
      "中文翻译：我的Ctrl键坏了  \n",
      "英文翻译：My Ctrl key is broken \n",
      "=========================================\n",
      "原始消息 (中文): 我的屏幕在闪烁\n",
      "\n",
      "中文翻译：我的屏幕在闪烁  \n",
      "英文翻译：My screen is flickering \n",
      "=========================================\n"
     ]
    }
   ],
   "source": [
    "for issue in user_messages:\n",
    "    prompt = f\"告诉我以下用三个反引号标记的文本是什么语种，请直接输出语种，如法语，无需输出标点符号: ```{issue}```\"\n",
    "    lang = get_completion(prompt)\n",
    "    print(f\"原始消息 ({lang}): {issue}\\n\")\n",
    "\n",
    "    prompt = f\"\"\"\n",
    "    请将以下用三个反引号标记的消息分别翻译成英文和中文。\n",
    "\n",
    "    输出请按照以下格式：\n",
    "    中文翻译：xxx\n",
    "    英文翻译：yyy\n",
    "\n",
    "    不要生成除了指定格式之外的任何内容\n",
    "    \n",
    "    消息：```{issue}```\n",
    "    \"\"\"\n",
    "    response = get_completion(prompt)\n",
    "    print(response, \"\\n=========================================\")"
   ]
  },
  {
   "attachments": {},
   "cell_type": "markdown",
   "id": "6ab558a2",
   "metadata": {
    "pycharm": {
     "name": "#%% md\n"
    }
   },
   "source": [
    "## 三、语气与写作风格调整"
   ]
  },
  {
   "attachments": {},
   "cell_type": "markdown",
   "id": "b85ae847",
   "metadata": {
    "pycharm": {
     "name": "#%% md\n"
    }
   },
   "source": [
    "写作的语气往往会根据受众对象而有所调整。例如，对于工作邮件，我们常常需要使用正式语气与书面用词，而对同龄朋友的微信聊天，可能更多地会使用轻松、口语化的语气。"
   ]
  },
  {
   "cell_type": "code",
   "execution_count": 13,
   "id": "84ce3099",
   "metadata": {
    "pycharm": {
     "name": "#%%\n"
    }
   },
   "outputs": [
    {
     "name": "stdout",
     "output_type": "stream",
     "text": [
      "以下为翻译后的商务信函格式：\n",
      "\n",
      "---\n",
      "[您的姓名]  \n",
      "[您的职位]  \n",
      "[您的部门]  \n",
      "[日期]\n",
      "\n",
      "[收件人姓名] 先生/女士 敬启：\n",
      "\n",
      "关于此前沟通中提及的部门显示器采购事宜，特此致信确认所需显示器的具体尺寸规格。如蒙告知相关参数要求，以便推进后续采购流程，将不胜感激。\n",
      "\n",
      "此致  \n",
      "商祺！\n",
      "\n",
      "[您的姓名] 谨上  \n",
      "[您的职位]  \n",
      "[您的部门]  \n",
      "\n",
      "---\n",
      "\n",
      "说明：  \n",
      "1. 保留了核心信息（显示器采购、尺寸确认），但采用正式措辞  \n",
      "2. 使用标准商务信函结构（发件人信息、日期、尊称、事由说明、请求确认、敬辞）  \n",
      "3. 去除了口语化称呼（\"小老弟\"）和自称（\"小羊\"），改为规范署名  \n",
      "4. 增加了推动事务进展的正式请求表述  \n",
      "5. 可根据实际情况补充采购编号、预算代码等详细信息\n"
     ]
    }
   ],
   "source": [
    "prompt = f\"\"\"\n",
    "将以下文本翻译成商务信函的格式: \n",
    "```小老弟，我小羊，上回你说咱部门要采购的显示器是多少寸来着？```\n",
    "\"\"\"\n",
    "response = get_completion(prompt)\n",
    "print(response)"
   ]
  },
  {
   "attachments": {},
   "cell_type": "markdown",
   "id": "98df9009",
   "metadata": {
    "pycharm": {
     "name": "#%% md\n"
    }
   },
   "source": [
    "## 四、文件格式转换"
   ]
  },
  {
   "attachments": {},
   "cell_type": "markdown",
   "id": "0bf9c074",
   "metadata": {
    "pycharm": {
     "name": "#%% md\n"
    }
   },
   "source": [
    "ChatGPT非常擅长不同格式之间的转换，例如JSON到HTML、XML、Markdown等。在下述例子中，我们有一个包含餐厅员工姓名和电子邮件的列表的JSON，我们希望将其从JSON转换为HTML。"
   ]
  },
  {
   "cell_type": "code",
   "execution_count": 14,
   "id": "fad3f358",
   "metadata": {
    "pycharm": {
     "name": "#%%\n"
    }
   },
   "outputs": [],
   "source": [
    "data_json = { \"resturant employees\" :[ \n",
    "    {\"name\":\"Shyam\", \"email\":\"shyamjaiswal@gmail.com\"},\n",
    "    {\"name\":\"Bob\", \"email\":\"bob32@gmail.com\"},\n",
    "    {\"name\":\"Jai\", \"email\":\"jai87@gmail.com\"}\n",
    "]}"
   ]
  },
  {
   "cell_type": "code",
   "execution_count": 20,
   "id": "f54e7398",
   "metadata": {
    "pycharm": {
     "name": "#%%\n"
    }
   },
   "outputs": [
    {
     "name": "stdout",
     "output_type": "stream",
     "text": [
      "<table>\n",
      "<caption>resturant employees</caption>\n",
      "<thead>\n",
      "<tr>\n",
      "<th>name</th>\n",
      "<th>email</th>\n",
      "</tr>\n",
      "</thead>\n",
      "<tbody>\n",
      "<tr>\n",
      "<td>Shyam</td>\n",
      "<td>shyamjaiswal@gmail.com</td>\n",
      "</tr>\n",
      "<tr>\n",
      "<td>Bob</td>\n",
      "<td>bob32@gmail.com</td>\n",
      "</tr>\n",
      "<tr>\n",
      "<td>Jai</td>\n",
      "<td>jai87@gmail.com</td>\n",
      "</tr>\n",
      "</tbody>\n",
      "</table>\n"
     ]
    }
   ],
   "source": [
    "prompt = f\"\"\"\n",
    "请将以下用尖括号标记的Python字典转换为HTML表格，要求保留表格的标题和列名。\n",
    "\n",
    "请注意，不要生成指定html表格之外的任何内容。\n",
    "生成的html表格不要是markdown格式，不需要```html标记。\n",
    "请生成标准的html格式。\n",
    "\n",
    "<{data_json}>\n",
    "\"\"\"\n",
    "response = get_completion(prompt)\n",
    "print(response)"
   ]
  },
  {
   "cell_type": "code",
   "execution_count": 22,
   "id": "a0026f3c",
   "metadata": {
    "pycharm": {
     "name": "#%%\n"
    }
   },
   "outputs": [
    {
     "data": {
      "text/html": [
       "<table>\n",
       "<caption>resturant employees</caption>\n",
       "<thead>\n",
       "<tr>\n",
       "<th>name</th>\n",
       "<th>email</th>\n",
       "</tr>\n",
       "</thead>\n",
       "<tbody>\n",
       "<tr>\n",
       "<td>Shyam</td>\n",
       "<td>shyamjaiswal@gmail.com</td>\n",
       "</tr>\n",
       "<tr>\n",
       "<td>Bob</td>\n",
       "<td>bob32@gmail.com</td>\n",
       "</tr>\n",
       "<tr>\n",
       "<td>Jai</td>\n",
       "<td>jai87@gmail.com</td>\n",
       "</tr>\n",
       "</tbody>\n",
       "</table>"
      ],
      "text/plain": [
       "<IPython.core.display.HTML object>"
      ]
     },
     "metadata": {},
     "output_type": "display_data"
    }
   ],
   "source": [
    "from IPython.display import display, Markdown, Latex, HTML, JSON\n",
    "display(HTML(response))"
   ]
  },
  {
   "attachments": {},
   "cell_type": "markdown",
   "id": "29b7167b",
   "metadata": {
    "pycharm": {
     "name": "#%% md\n"
    }
   },
   "source": [
    "## 五、拼写及语法纠正"
   ]
  },
  {
   "attachments": {},
   "cell_type": "markdown",
   "id": "22776140",
   "metadata": {
    "pycharm": {
     "name": "#%% md\n"
    }
   },
   "source": [
    "拼写及语法的检查与纠正是一个十分常见的需求，特别是使用非母语语言，例如，在论坛发帖时，或发表英文论文时，校对是一件十分重要的事情。\n",
    "\n",
    "下述例子给定了一个句子列表，其中有些句子存在拼写或语法问题，有些则没有，我们循环遍历每个句子，要求模型校对文本，如果正确则输出“未发现错误”，如果错误则输出纠正后的文本。"
   ]
  },
  {
   "cell_type": "code",
   "execution_count": 23,
   "id": "b7d04bc0",
   "metadata": {
    "pycharm": {
     "name": "#%%\n"
    }
   },
   "outputs": [],
   "source": [
    "text = [ \n",
    "  \"The girl with the black and white puppies have a ball.\",  # The girl has a ball.\n",
    "  \"Yolanda has her notebook.\", # ok\n",
    "  \"Its going to be a long day. Does the car need it’s oil changed?\",  # Homonyms\n",
    "  \"Their goes my freedom. There going to bring they’re suitcases.\",  # Homonyms\n",
    "  \"Your going to need you’re notebook.\",  # Homonyms\n",
    "  \"That medicine effects my ability to sleep. Have you heard of the butterfly affect?\", # Homonyms\n",
    "  \"This phrase is to cherck chatGPT for spelling abilitty\"  # spelling\n",
    "]"
   ]
  },
  {
   "cell_type": "code",
   "execution_count": 25,
   "id": "1ef55b7b",
   "metadata": {
    "pycharm": {
     "name": "#%%\n"
    }
   },
   "outputs": [
    {
     "name": "stdout",
     "output_type": "stream",
     "text": [
      "0 The girl with the black and white puppies has a ball.\n",
      "1 未发现错误。\n",
      "2 It's going to be a long day. Does the car need its oil changed?\n",
      "3 There goes my freedom. They're going to bring their suitcases.\n",
      "4 You're going to need your notebook.\n",
      "5 That medicine affects my ability to sleep. Have you heard of the butterfly effect?\n",
      "6 This phrase is to check ChatGPT for spelling ability.\n"
     ]
    }
   ],
   "source": [
    "for i in range(len(text)):\n",
    "    time.sleep(20)\n",
    "    prompt = f\"\"\"请校对并更正以下文本，注意纠正文本保持原始语种，无需输出原始文本。\n",
    "    如果您没有发现任何错误，请输出“未发现错误”。\n",
    "    \n",
    "    例如：\n",
    "    输入：I are happy.\n",
    "    输出：I am happy.\n",
    "    ```{text[i]}```\"\"\"\n",
    "    response = get_completion(prompt)\n",
    "    print(i, response)"
   ]
  },
  {
   "attachments": {},
   "cell_type": "markdown",
   "id": "538181e0",
   "metadata": {
    "pycharm": {
     "name": "#%% md\n"
    }
   },
   "source": [
    "以下是一个简单的语法纠错示例（译注：与 Grammarly 功能类似），输入文本为一段关于熊猫玩偶的评价，输出为纠正后的文本。本例使用的 Prompt 较为简单，你也可以进一步要求进行语调的更改。"
   ]
  },
  {
   "cell_type": "code",
   "execution_count": 1,
   "id": "6696b06a",
   "metadata": {
    "pycharm": {
     "name": "#%%\n"
    }
   },
   "outputs": [],
   "source": [
    "text = f\"\"\"\n",
    "Got this for my daughter for her birthday cuz she keeps taking \\\n",
    "mine from my room.  Yes, adults also like pandas too.  She takes \\\n",
    "it everywhere with her, and it's super soft and cute.  One of the \\\n",
    "ears is a bit lower than the other, and I don't think that was \\\n",
    "designed to be asymmetrical. It's a bit small for what I paid for it \\\n",
    "though. I think there might be other options that are bigger for \\\n",
    "the same price.  It arrived a day earlier than expected, so I got \\\n",
    "to play with it myself before I gave it to my daughter.\n",
    "\"\"\""
   ]
  },
  {
   "cell_type": "code",
   "execution_count": 6,
   "id": "50cca36e",
   "metadata": {
    "pycharm": {
     "name": "#%%\n"
    }
   },
   "outputs": [
    {
     "name": "stdout",
     "output_type": "stream",
     "text": [
      "Got this for my daughter for her birthday because she kept taking mine from my room. Yes, adults like pandas too. She takes it everywhere with her, and it's super soft and cute. One of the ears sits a bit lower than the other, but I don't think that was intentional. It's slightly smaller than I expected for the price. There might be other options offering bigger sizes at the same price point. It arrived a day earlier than expected, so I got to play with it myself before giving it to my daughter.\n"
     ]
    }
   ],
   "source": [
    "prompt = f\"\"\"\n",
    "校对并更正以下用三个反引号标注的商品评论。\n",
    "\n",
    "请满足一下要求：\n",
    "1.保留原始评论的语种。\n",
    "2.输出内容只包含校对后的评论内容，不包含其他任何内容。\n",
    "3.保持原始评论的语言风格。\n",
    "4.输出中不需要加```标记\n",
    "\n",
    "评论：```{text}```\n",
    "\"\"\"\n",
    "response = get_completion(prompt)\n",
    "print(response)"
   ]
  },
  {
   "attachments": {},
   "cell_type": "markdown",
   "id": "2e2d1f6a",
   "metadata": {
    "pycharm": {
     "name": "#%% md\n"
    }
   },
   "source": [
    "引入 ```Redlines``` 包，详细显示并对比纠错过程："
   ]
  },
  {
   "cell_type": "code",
   "execution_count": 7,
   "id": "e8604dfb",
   "metadata": {
    "pycharm": {
     "name": "#%%\n"
    }
   },
   "outputs": [
    {
     "data": {
      "text/markdown": [
       "Got this for my daughter for her birthday <span style='color:red;font-weight:700;text-decoration:line-through;'>cuz </span><span style='color:green;font-weight:700;'>because </span>she <span style='color:red;font-weight:700;text-decoration:line-through;'>keeps </span><span style='color:green;font-weight:700;'>kept </span>taking mine from my <span style='color:red;font-weight:700;text-decoration:line-through;'>room.  </span><span style='color:green;font-weight:700;'>room. </span>Yes, adults <span style='color:red;font-weight:700;text-decoration:line-through;'>also </span>like pandas <span style='color:red;font-weight:700;text-decoration:line-through;'>too.  </span><span style='color:green;font-weight:700;'>too. </span>She takes it everywhere with her, and it's super soft and <span style='color:red;font-weight:700;text-decoration:line-through;'>cute.  </span><span style='color:green;font-weight:700;'>cute. </span>One of the ears <span style='color:red;font-weight:700;text-decoration:line-through;'>is </span><span style='color:green;font-weight:700;'>sits </span>a bit lower than the other, <span style='color:red;font-weight:700;text-decoration:line-through;'>and </span><span style='color:green;font-weight:700;'>but </span>I don't think that was <span style='color:red;font-weight:700;text-decoration:line-through;'>designed to be asymmetrical. </span><span style='color:green;font-weight:700;'>intentional. </span>It's <span style='color:red;font-weight:700;text-decoration:line-through;'>a bit small </span><span style='color:green;font-weight:700;'>slightly smaller than I expected </span>for <span style='color:red;font-weight:700;text-decoration:line-through;'>what I paid for it though. I think there </span><span style='color:green;font-weight:700;'>the price. There </span>might be other options <span style='color:red;font-weight:700;text-decoration:line-through;'>that are </span><span style='color:green;font-weight:700;'>offering </span>bigger <span style='color:red;font-weight:700;text-decoration:line-through;'>for </span><span style='color:green;font-weight:700;'>sizes at </span>the same <span style='color:red;font-weight:700;text-decoration:line-through;'>price.  </span><span style='color:green;font-weight:700;'>price point. </span>It arrived a day earlier than expected, so I got to play with it myself before <span style='color:red;font-weight:700;text-decoration:line-through;'>I gave </span><span style='color:green;font-weight:700;'>giving </span>it to my daughter."
      ],
      "text/plain": [
       "<IPython.core.display.Markdown object>"
      ]
     },
     "metadata": {},
     "output_type": "display_data"
    }
   ],
   "source": [
    "from redlines import Redlines\n",
    "from IPython.display import display, Markdown\n",
    "\n",
    "diff = Redlines(text,response)\n",
    "display(Markdown(diff.output_markdown))"
   ]
  },
  {
   "attachments": {},
   "cell_type": "markdown",
   "id": "3ee5d487",
   "metadata": {
    "pycharm": {
     "name": "#%% md\n"
    }
   },
   "source": [
    "## 六、综合样例\n",
    "下述例子展示了同一段评论，用一段prompt同时进行文本翻译+拼写纠正+风格调整+格式转换。"
   ]
  },
  {
   "cell_type": "code",
   "execution_count": 8,
   "id": "584dcc21",
   "metadata": {
    "pycharm": {
     "name": "#%%\n"
    }
   },
   "outputs": [],
   "source": [
    "text = f\"\"\"\n",
    "Got this for my daughter for her birthday cuz she keeps taking \\\n",
    "mine from my room.  Yes, adults also like pandas too.  She takes \\\n",
    "it everywhere with her, and it's super soft and cute.  One of the \\\n",
    "ears is a bit lower than the other, and I don't think that was \\\n",
    "designed to be asymmetrical. It's a bit small for what I paid for it \\\n",
    "though. I think there might be other options that are bigger for \\\n",
    "the same price.  It arrived a day earlier than expected, so I got \\\n",
    "to play with it myself before I gave it to my daughter.\n",
    "\"\"\""
   ]
  },
  {
   "attachments": {},
   "cell_type": "markdown",
   "id": "4bd30c51",
   "metadata": {
    "pycharm": {
     "name": "#%% md\n"
    }
   },
   "source": [
    "\n",
    "**Review of Panda Plush Toy**\n",
    "\n",
    "**Introduction**\n",
    "\n",
    "I bought this panda plush toy as a birthday gift for my daughter, who loves pandas as much as I do. This toy is very soft and adorable, and my daughter enjoys carrying it around with her everywhere. However, I also noticed some flaws in the toy’s design and size that made me question its value for money.\n",
    "\n",
    "**Appearance and Quality**\n",
    "\n",
    "The toy has a realistic black and white fur pattern and a cute expression on its face. It is made of high-quality material that feels smooth and gentle to the touch. One of the ears is slightly lower than the other, which may be a manufacturing defect or an intentional asymmetry to make it look more natural. The toy is also quite small, measuring about 12 inches in height. I expected it to be bigger for the price I paid, as I have seen other plush toys that are larger and cheaper.\n",
    "\n",
    "**Delivery and Service**\n",
    "\n",
    "The toy arrived a day earlier than the estimated delivery date, which was a pleasant surprise. It was well-packaged and in good condition when I received it. The seller also included a thank-you note and a coupon for my next purchase, which I appreciated.\n",
    "\n",
    "**Conclusion**\n",
    "\n",
    "Overall, this panda plush toy is a lovely and cuddly gift for any panda lover, especially children. It has a high-quality feel and a charming appearance, but it also has some minor flaws in its design and size that may affect its value. I would recommend this toy to anyone who is looking for a small and cute panda plush, but not to those who want a large and realistic one."
   ]
  },
  {
   "cell_type": "code",
   "execution_count": 9,
   "id": "5061d6a3",
   "metadata": {
    "pycharm": {
     "name": "#%%\n"
    },
    "scrolled": true
   },
   "outputs": [
    {
     "data": {
      "text/markdown": [
       "```markdown\n",
       "【优点】  \n",
       "- 毛绒触感堪比云朵，女儿爱不释手到走哪带哪  \n",
       "- 萌到犯规的熊猫脸连大人都想私藏  \n",
       "- 物流超给力提前惊喜送达，私享把玩时间  \n",
       "- 送礼自用两相宜，俘获全年龄段少女心  \n",
       "\n",
       "【缺点】  \n",
       "- 耳朵高低肩实属做工小遗憾，非个性设计  \n",
       "- 体型比预期娇小，性价比有待提升  \n",
       "- 同价位区间有更大尺寸竞品可选  \n",
       "\n",
       "【总结】  \n",
       "虽然存在细微做工瑕疵和尺寸落差，但无敌软萌的手感与治愈系颜值完全征服大小朋友！作为送礼佳品依旧值得推荐，期待推出加大版满足不同需求~\n",
       "```"
      ],
      "text/plain": [
       "<IPython.core.display.Markdown object>"
      ]
     },
     "metadata": {},
     "output_type": "display_data"
    }
   ],
   "source": [
    "prompt = f\"\"\"\n",
    "针对以下三个反引号之间的英文评论文本，\n",
    "首先进行拼写及语法纠错，\n",
    "然后将其转化成中文，\n",
    "再将其转化成优质淘宝评论的风格，从各种角度出发，分别说明产品的优点与缺点，并进行总结。\n",
    "润色一下描述，使评论更具有吸引力。\n",
    "输出结果格式为：\n",
    "【优点】xxx\n",
    "【缺点】xxx\n",
    "【总结】xxx\n",
    "注意，只需按照输出要求输出，不要输出其他内容。注意分段输出。\n",
    "将结果输出成Markdown格式。\n",
    "```{text}```\n",
    "\"\"\"\n",
    "response = get_completion(prompt)\n",
    "display(Markdown(response))"
   ]
  }
 ],
 "metadata": {
  "kernelspec": {
   "display_name": "llm",
   "language": "python",
   "name": "python3"
  },
  "language_info": {
   "codemirror_mode": {
    "name": "ipython",
    "version": 3
   },
   "file_extension": ".py",
   "mimetype": "text/x-python",
   "name": "python",
   "nbconvert_exporter": "python",
   "pygments_lexer": "ipython3",
   "version": "3.11.11"
  },
  "latex_envs": {
   "LaTeX_envs_menu_present": true,
   "autoclose": false,
   "autocomplete": true,
   "bibliofile": "biblio.bib",
   "cite_by": "apalike",
   "current_citInitial": 1,
   "eqLabelWithNumbers": true,
   "eqNumInitial": 1,
   "hotkeys": {
    "equation": "Ctrl-E",
    "itemize": "Ctrl-I"
   },
   "labels_anchors": false,
   "latex_user_defs": false,
   "report_style_numbering": false,
   "user_envs_cfg": false
  },
  "toc": {
   "base_numbering": 1,
   "nav_menu": {},
   "number_sections": true,
   "sideBar": true,
   "skip_h1_title": false,
   "title_cell": "Table of Contents",
   "title_sidebar": "Contents",
   "toc_cell": false,
   "toc_position": {},
   "toc_section_display": true,
   "toc_window_display": true
  }
 },
 "nbformat": 4,
 "nbformat_minor": 5
}
